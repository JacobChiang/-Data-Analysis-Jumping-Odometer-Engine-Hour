{
 "cells": [
  {
   "cell_type": "markdown",
   "id": "33739a75",
   "metadata": {},
   "source": [
    "# Data Analysis - Jumping Odometer & Engine Hour (JAN)"
   ]
  },
  {
   "cell_type": "markdown",
   "id": "78ab6336",
   "metadata": {},
   "source": [
    "## Description\n",
    "#### Odometer Jumps/Engine Hour Jumps\n",
    "    Actual vehicle odometer and engine hour values are recorded by an ELD when power-up, power-down, login, logout, diagnostic or malfunction events are recorded.\n",
    "    Accumulated vehicle odometer and engine hour values since the most recent power-up event are recorded by an ELD for all other events.\n",
    "    Per Section 7.19 and 7.43 of the TS, the accumulated odometer value and engine hour value is always based upon the most recent power-on event. Accumulated miles/elapsed engine hours don’t get reset based on login/logout events. They are always based on the most recent power-up event, even if that event occurred several days prior to the recording of the accumulated miles/engine hours. Due to this requirement, there are instances when the ELD output file will not contain all events that pertain to an odometer or engine hour increase. \n",
    "\n",
    "#### Here are a couple of examples:\n",
    "\n",
    "    • If a vehicle is not powered down between drivers and only one driver is logged into the device at a time, the ELD output file will not contain any intermediate driving events for any driver except the current driver being inspected/audited.\n",
    "\n",
    "    Example: Driver A drives on day one, driver B drives on day two, then driver A drives on day three.\n",
    "    While each driver logs in and out of the ELD, there are no vehicle shut-down or power-up events between drivers. There will be a gap in odometer/engine hour values in the RODS for driver A between day one and three. However, if driver A and driver B are co-drivers, both drivers must be logged into the ELD simultaneously and there would not be any odometer/engine hour gaps.\n",
    "\n",
    "    • If an ELD output file does not contain a power-up event prior to duty status events, all duty status events would still have accumulated miles/engine hours. However, eRODS will not be able to compute the total odometer and engine hours by adding the expected actual values from power up and the accumulated values from duty status events. Login/logout events and diagnostic/malfunction events still display the actual odometer and engine hours readings from the ECM, which can be of aid to the safety official when reviewing a driver’s RODS."
   ]
  },
  {
   "cell_type": "markdown",
   "id": "33d0def0",
   "metadata": {},
   "source": [
    "### Assumption 1: \n",
    "Based on Rollingtrans' ELD users, what percentage of all heavy-duty trucks have the problem of mileage jumping?\n",
    "Not Yet\n",
    "### Assumption 2: \n",
    "What is the percentage of each brand of heavy-duty trucks with mileage jumping problems in the total mileage jumping problems?\n",
    "Done\n",
    "### Assumption 3: \n",
    "What is the percentage of heavy-duty trucks of each brand with mileage jumping problems in all heavy-duty trucks?\n",
    "Not Yet\n",
    "### Assumption 4: \n",
    "Based on the year division, what percentage of heavy trucks before and after 2016 have mileage jumps?\n",
    "Yes\n",
    "### According to the serial no. of the ELD, it can be divided into: 0, 3562-, 3562 ~ 4429, 4430 ~ 5330, 5331+. \n",
    "### Assumption 5: \n",
    "Of these numbers, what percentage of each had a mileage jump issue?\n",
    "0.7% (4), 6.6% (37), 17.9% (103), 14.8% (85), 35.2% (201), 24.7% (141) \n",
    "### Assumption 6:\n",
    "Once ELD has a problem of jumping mileage or hour, will it happen again?\n",
    "Yes\n",
    "\n",
    "\n"
   ]
  },
  {
   "cell_type": "code",
   "execution_count": 395,
   "id": "90829e61",
   "metadata": {},
   "outputs": [],
   "source": [
    "import numpy as np\n",
    "import pandas as pd\n",
    "import matplotlib.pyplot as plt\n",
    "import seaborn as sns\n",
    "import plotly.express as px"
   ]
  },
  {
   "cell_type": "code",
   "execution_count": 396,
   "id": "973d45a6",
   "metadata": {},
   "outputs": [
    {
     "data": {
      "text/html": [
       "<div>\n",
       "<style scoped>\n",
       "    .dataframe tbody tr th:only-of-type {\n",
       "        vertical-align: middle;\n",
       "    }\n",
       "\n",
       "    .dataframe tbody tr th {\n",
       "        vertical-align: top;\n",
       "    }\n",
       "\n",
       "    .dataframe thead th {\n",
       "        text-align: right;\n",
       "    }\n",
       "</style>\n",
       "<table border=\"1\" class=\"dataframe\">\n",
       "  <thead>\n",
       "    <tr style=\"text-align: right;\">\n",
       "      <th></th>\n",
       "      <th>SequenceNo</th>\n",
       "      <th>OrgName</th>\n",
       "      <th>Date</th>\n",
       "      <th>DriverName</th>\n",
       "      <th>InvalidType</th>\n",
       "      <th>VehicleMake</th>\n",
       "      <th>VehicleYear</th>\n",
       "      <th>VIN</th>\n",
       "      <th>SerialNo</th>\n",
       "    </tr>\n",
       "  </thead>\n",
       "  <tbody>\n",
       "    <tr>\n",
       "      <th>0</th>\n",
       "      <td>946</td>\n",
       "      <td>Bazik Trucking Inc</td>\n",
       "      <td>1122023</td>\n",
       "      <td>George Bazik</td>\n",
       "      <td>Mileage</td>\n",
       "      <td>Freightliner</td>\n",
       "      <td>2014</td>\n",
       "      <td>1FUGGLD57ELFK4085</td>\n",
       "      <td>0</td>\n",
       "    </tr>\n",
       "    <tr>\n",
       "      <th>1</th>\n",
       "      <td>1295</td>\n",
       "      <td>Bazik Trucking Inc</td>\n",
       "      <td>1162023</td>\n",
       "      <td>George Bazik</td>\n",
       "      <td>Mileage</td>\n",
       "      <td>Freightliner</td>\n",
       "      <td>2014</td>\n",
       "      <td>1FUGGLD57ELFK4085</td>\n",
       "      <td>0</td>\n",
       "    </tr>\n",
       "    <tr>\n",
       "      <th>2</th>\n",
       "      <td>1450</td>\n",
       "      <td>Bazik Trucking Inc</td>\n",
       "      <td>1182023</td>\n",
       "      <td>NaN</td>\n",
       "      <td>Mileage</td>\n",
       "      <td>Freightliner</td>\n",
       "      <td>2014</td>\n",
       "      <td>1FUGGLD57ELFK4085</td>\n",
       "      <td>0</td>\n",
       "    </tr>\n",
       "    <tr>\n",
       "      <th>3</th>\n",
       "      <td>27</td>\n",
       "      <td>E in April Trucking Inc.</td>\n",
       "      <td>1012023</td>\n",
       "      <td>Fujiang Li</td>\n",
       "      <td>Mileage</td>\n",
       "      <td>Freightliner</td>\n",
       "      <td>2016</td>\n",
       "      <td>1FUJGLBG1GLGY3570</td>\n",
       "      <td>0</td>\n",
       "    </tr>\n",
       "    <tr>\n",
       "      <th>4</th>\n",
       "      <td>257</td>\n",
       "      <td>Suhao Transport Inc.</td>\n",
       "      <td>1042023</td>\n",
       "      <td>Shuhao Zhang</td>\n",
       "      <td>Mileage</td>\n",
       "      <td>Freightliner</td>\n",
       "      <td>2016</td>\n",
       "      <td>1FUJGLBG1GLGY8249</td>\n",
       "      <td>0</td>\n",
       "    </tr>\n",
       "    <tr>\n",
       "      <th>...</th>\n",
       "      <td>...</td>\n",
       "      <td>...</td>\n",
       "      <td>...</td>\n",
       "      <td>...</td>\n",
       "      <td>...</td>\n",
       "      <td>...</td>\n",
       "      <td>...</td>\n",
       "      <td>...</td>\n",
       "      <td>...</td>\n",
       "    </tr>\n",
       "    <tr>\n",
       "      <th>2432</th>\n",
       "      <td>2251</td>\n",
       "      <td>TNS Express Inc.</td>\n",
       "      <td>1292023</td>\n",
       "      <td>Yan Wu</td>\n",
       "      <td>Mileage</td>\n",
       "      <td>Western Star</td>\n",
       "      <td>2016</td>\n",
       "      <td>5KJJBHDR6GLHA8737</td>\n",
       "      <td>211002604</td>\n",
       "    </tr>\n",
       "    <tr>\n",
       "      <th>2433</th>\n",
       "      <td>2321</td>\n",
       "      <td>TNS Express Inc.</td>\n",
       "      <td>1302023</td>\n",
       "      <td>Yan Wu</td>\n",
       "      <td>Mileage</td>\n",
       "      <td>Western Star</td>\n",
       "      <td>2016</td>\n",
       "      <td>5KJJBHDR6GLHA8737</td>\n",
       "      <td>211002604</td>\n",
       "    </tr>\n",
       "    <tr>\n",
       "      <th>2434</th>\n",
       "      <td>2377</td>\n",
       "      <td>TNS Express Inc.</td>\n",
       "      <td>1312023</td>\n",
       "      <td>Yan Wu</td>\n",
       "      <td>Mileage</td>\n",
       "      <td>Western Star</td>\n",
       "      <td>2016</td>\n",
       "      <td>5KJJBHDR6GLHA8737</td>\n",
       "      <td>211002604</td>\n",
       "    </tr>\n",
       "    <tr>\n",
       "      <th>2435</th>\n",
       "      <td>307</td>\n",
       "      <td>Sun Charter Inc</td>\n",
       "      <td>1052023</td>\n",
       "      <td>Gang Liu</td>\n",
       "      <td>Mileage/Hour</td>\n",
       "      <td>Prevost</td>\n",
       "      <td>2017</td>\n",
       "      <td>2PCH33491HC713515</td>\n",
       "      <td>211002771</td>\n",
       "    </tr>\n",
       "    <tr>\n",
       "      <th>2436</th>\n",
       "      <td>1035</td>\n",
       "      <td>Z Tour LLC</td>\n",
       "      <td>1132023</td>\n",
       "      <td>Mingrui Liu</td>\n",
       "      <td>Mileage</td>\n",
       "      <td>Ford</td>\n",
       "      <td>2017</td>\n",
       "      <td>1FBAX2CM7HKA67208</td>\n",
       "      <td>171100134</td>\n",
       "    </tr>\n",
       "  </tbody>\n",
       "</table>\n",
       "<p>2437 rows × 9 columns</p>\n",
       "</div>"
      ],
      "text/plain": [
       "      SequenceNo                   OrgName     Date    DriverName  \\\n",
       "0            946        Bazik Trucking Inc  1122023  George Bazik   \n",
       "1           1295        Bazik Trucking Inc  1162023  George Bazik   \n",
       "2           1450        Bazik Trucking Inc  1182023           NaN   \n",
       "3             27  E in April Trucking Inc.  1012023    Fujiang Li   \n",
       "4            257      Suhao Transport Inc.  1042023  Shuhao Zhang   \n",
       "...          ...                       ...      ...           ...   \n",
       "2432        2251          TNS Express Inc.  1292023        Yan Wu   \n",
       "2433        2321          TNS Express Inc.  1302023        Yan Wu   \n",
       "2434        2377          TNS Express Inc.  1312023        Yan Wu   \n",
       "2435         307           Sun Charter Inc  1052023      Gang Liu   \n",
       "2436        1035                Z Tour LLC  1132023   Mingrui Liu   \n",
       "\n",
       "       InvalidType   VehicleMake  VehicleYear                VIN   SerialNo  \n",
       "0          Mileage  Freightliner         2014  1FUGGLD57ELFK4085          0  \n",
       "1          Mileage  Freightliner         2014  1FUGGLD57ELFK4085          0  \n",
       "2          Mileage  Freightliner         2014  1FUGGLD57ELFK4085          0  \n",
       "3          Mileage  Freightliner         2016  1FUJGLBG1GLGY3570          0  \n",
       "4          Mileage  Freightliner         2016  1FUJGLBG1GLGY8249          0  \n",
       "...            ...           ...          ...                ...        ...  \n",
       "2432       Mileage  Western Star         2016  5KJJBHDR6GLHA8737  211002604  \n",
       "2433       Mileage  Western Star         2016  5KJJBHDR6GLHA8737  211002604  \n",
       "2434       Mileage  Western Star         2016  5KJJBHDR6GLHA8737  211002604  \n",
       "2435  Mileage/Hour       Prevost         2017  2PCH33491HC713515  211002771  \n",
       "2436       Mileage          Ford         2017  1FBAX2CM7HKA67208  171100134  \n",
       "\n",
       "[2437 rows x 9 columns]"
      ]
     },
     "execution_count": 396,
     "metadata": {},
     "output_type": "execute_result"
    }
   ],
   "source": [
    "ED = pd.read_excel('EDFiltered.xlsx')\n",
    "ED"
   ]
  },
  {
   "cell_type": "code",
   "execution_count": 397,
   "id": "63776478",
   "metadata": {},
   "outputs": [
    {
     "data": {
      "text/html": [
       "<div>\n",
       "<style scoped>\n",
       "    .dataframe tbody tr th:only-of-type {\n",
       "        vertical-align: middle;\n",
       "    }\n",
       "\n",
       "    .dataframe tbody tr th {\n",
       "        vertical-align: top;\n",
       "    }\n",
       "\n",
       "    .dataframe thead th {\n",
       "        text-align: right;\n",
       "    }\n",
       "</style>\n",
       "<table border=\"1\" class=\"dataframe\">\n",
       "  <thead>\n",
       "    <tr style=\"text-align: right;\">\n",
       "      <th></th>\n",
       "      <th>SequenceNo</th>\n",
       "      <th>OrgName</th>\n",
       "      <th>Date</th>\n",
       "      <th>DriverName</th>\n",
       "      <th>InvalidType</th>\n",
       "      <th>VehicleMake</th>\n",
       "      <th>VehicleYear</th>\n",
       "      <th>VIN</th>\n",
       "      <th>SerialNo</th>\n",
       "    </tr>\n",
       "  </thead>\n",
       "  <tbody>\n",
       "    <tr>\n",
       "      <th>0</th>\n",
       "      <td>946</td>\n",
       "      <td>Bazik Trucking Inc</td>\n",
       "      <td>1122023</td>\n",
       "      <td>George Bazik</td>\n",
       "      <td>Mileage</td>\n",
       "      <td>Freightliner</td>\n",
       "      <td>2014</td>\n",
       "      <td>1FUGGLD57ELFK4085</td>\n",
       "      <td>0</td>\n",
       "    </tr>\n",
       "    <tr>\n",
       "      <th>1</th>\n",
       "      <td>1295</td>\n",
       "      <td>Bazik Trucking Inc</td>\n",
       "      <td>1162023</td>\n",
       "      <td>George Bazik</td>\n",
       "      <td>Mileage</td>\n",
       "      <td>Freightliner</td>\n",
       "      <td>2014</td>\n",
       "      <td>1FUGGLD57ELFK4085</td>\n",
       "      <td>0</td>\n",
       "    </tr>\n",
       "    <tr>\n",
       "      <th>2</th>\n",
       "      <td>1450</td>\n",
       "      <td>Bazik Trucking Inc</td>\n",
       "      <td>1182023</td>\n",
       "      <td>NaN</td>\n",
       "      <td>Mileage</td>\n",
       "      <td>Freightliner</td>\n",
       "      <td>2014</td>\n",
       "      <td>1FUGGLD57ELFK4085</td>\n",
       "      <td>0</td>\n",
       "    </tr>\n",
       "    <tr>\n",
       "      <th>3</th>\n",
       "      <td>27</td>\n",
       "      <td>E in April Trucking Inc.</td>\n",
       "      <td>1012023</td>\n",
       "      <td>Fujiang Li</td>\n",
       "      <td>Mileage</td>\n",
       "      <td>Freightliner</td>\n",
       "      <td>2016</td>\n",
       "      <td>1FUJGLBG1GLGY3570</td>\n",
       "      <td>0</td>\n",
       "    </tr>\n",
       "    <tr>\n",
       "      <th>4</th>\n",
       "      <td>257</td>\n",
       "      <td>Suhao Transport Inc.</td>\n",
       "      <td>1042023</td>\n",
       "      <td>Shuhao Zhang</td>\n",
       "      <td>Mileage</td>\n",
       "      <td>Freightliner</td>\n",
       "      <td>2016</td>\n",
       "      <td>1FUJGLBG1GLGY8249</td>\n",
       "      <td>0</td>\n",
       "    </tr>\n",
       "  </tbody>\n",
       "</table>\n",
       "</div>"
      ],
      "text/plain": [
       "   SequenceNo                   OrgName     Date    DriverName InvalidType  \\\n",
       "0         946        Bazik Trucking Inc  1122023  George Bazik     Mileage   \n",
       "1        1295        Bazik Trucking Inc  1162023  George Bazik     Mileage   \n",
       "2        1450        Bazik Trucking Inc  1182023           NaN     Mileage   \n",
       "3          27  E in April Trucking Inc.  1012023    Fujiang Li     Mileage   \n",
       "4         257      Suhao Transport Inc.  1042023  Shuhao Zhang     Mileage   \n",
       "\n",
       "    VehicleMake  VehicleYear                VIN  SerialNo  \n",
       "0  Freightliner         2014  1FUGGLD57ELFK4085         0  \n",
       "1  Freightliner         2014  1FUGGLD57ELFK4085         0  \n",
       "2  Freightliner         2014  1FUGGLD57ELFK4085         0  \n",
       "3  Freightliner         2016  1FUJGLBG1GLGY3570         0  \n",
       "4  Freightliner         2016  1FUJGLBG1GLGY8249         0  "
      ]
     },
     "execution_count": 397,
     "metadata": {},
     "output_type": "execute_result"
    }
   ],
   "source": [
    "ED.head()"
   ]
  },
  {
   "cell_type": "code",
   "execution_count": 398,
   "id": "f66c3775",
   "metadata": {},
   "outputs": [
    {
     "name": "stdout",
     "output_type": "stream",
     "text": [
      "<class 'pandas.core.frame.DataFrame'>\n",
      "RangeIndex: 2437 entries, 0 to 2436\n",
      "Data columns (total 9 columns):\n",
      " #   Column       Non-Null Count  Dtype \n",
      "---  ------       --------------  ----- \n",
      " 0   SequenceNo   2437 non-null   int64 \n",
      " 1   OrgName      2437 non-null   object\n",
      " 2   Date         2437 non-null   int64 \n",
      " 3   DriverName   2427 non-null   object\n",
      " 4   InvalidType  2437 non-null   object\n",
      " 5   VehicleMake  2437 non-null   object\n",
      " 6   VehicleYear  2437 non-null   int64 \n",
      " 7   VIN          2437 non-null   object\n",
      " 8   SerialNo     2437 non-null   int64 \n",
      "dtypes: int64(4), object(5)\n",
      "memory usage: 171.5+ KB\n"
     ]
    }
   ],
   "source": [
    "ED.info()"
   ]
  },
  {
   "cell_type": "code",
   "execution_count": 399,
   "id": "d5b5be91",
   "metadata": {},
   "outputs": [
    {
     "data": {
      "text/html": [
       "<div>\n",
       "<style scoped>\n",
       "    .dataframe tbody tr th:only-of-type {\n",
       "        vertical-align: middle;\n",
       "    }\n",
       "\n",
       "    .dataframe tbody tr th {\n",
       "        vertical-align: top;\n",
       "    }\n",
       "\n",
       "    .dataframe thead th {\n",
       "        text-align: right;\n",
       "    }\n",
       "</style>\n",
       "<table border=\"1\" class=\"dataframe\">\n",
       "  <thead>\n",
       "    <tr style=\"text-align: right;\">\n",
       "      <th></th>\n",
       "      <th>SequenceNo</th>\n",
       "      <th>OrgName</th>\n",
       "      <th>Date</th>\n",
       "      <th>DriverName</th>\n",
       "      <th>InvalidType</th>\n",
       "      <th>VehicleMake</th>\n",
       "      <th>VehicleYear</th>\n",
       "      <th>VIN</th>\n",
       "      <th>SerialNo</th>\n",
       "    </tr>\n",
       "  </thead>\n",
       "  <tbody>\n",
       "    <tr>\n",
       "      <th>0</th>\n",
       "      <td>946</td>\n",
       "      <td>Bazik Trucking Inc</td>\n",
       "      <td>1122023</td>\n",
       "      <td>George Bazik</td>\n",
       "      <td>Mileage</td>\n",
       "      <td>Freightliner</td>\n",
       "      <td>2014</td>\n",
       "      <td>1FUGGLD57ELFK4085</td>\n",
       "      <td>0</td>\n",
       "    </tr>\n",
       "    <tr>\n",
       "      <th>3</th>\n",
       "      <td>27</td>\n",
       "      <td>E in April Trucking Inc.</td>\n",
       "      <td>1012023</td>\n",
       "      <td>Fujiang Li</td>\n",
       "      <td>Mileage</td>\n",
       "      <td>Freightliner</td>\n",
       "      <td>2016</td>\n",
       "      <td>1FUJGLBG1GLGY3570</td>\n",
       "      <td>0</td>\n",
       "    </tr>\n",
       "    <tr>\n",
       "      <th>4</th>\n",
       "      <td>257</td>\n",
       "      <td>Suhao Transport Inc.</td>\n",
       "      <td>1042023</td>\n",
       "      <td>Shuhao Zhang</td>\n",
       "      <td>Mileage</td>\n",
       "      <td>Freightliner</td>\n",
       "      <td>2016</td>\n",
       "      <td>1FUJGLBG1GLGY8249</td>\n",
       "      <td>0</td>\n",
       "    </tr>\n",
       "    <tr>\n",
       "      <th>13</th>\n",
       "      <td>823</td>\n",
       "      <td>Lydia Express Inc.</td>\n",
       "      <td>1112023</td>\n",
       "      <td>GUOBIN YANG</td>\n",
       "      <td>Mileage/Hour</td>\n",
       "      <td>Freightliner</td>\n",
       "      <td>2016</td>\n",
       "      <td>1FUJGLBG2GLHA0856</td>\n",
       "      <td>211005627</td>\n",
       "    </tr>\n",
       "    <tr>\n",
       "      <th>14</th>\n",
       "      <td>681</td>\n",
       "      <td>TM Transportation LLC</td>\n",
       "      <td>1092023</td>\n",
       "      <td>Luke May</td>\n",
       "      <td>Mileage</td>\n",
       "      <td>Freightliner</td>\n",
       "      <td>2011</td>\n",
       "      <td>1FUJGLBG6BSBA8097</td>\n",
       "      <td>0</td>\n",
       "    </tr>\n",
       "    <tr>\n",
       "      <th>...</th>\n",
       "      <td>...</td>\n",
       "      <td>...</td>\n",
       "      <td>...</td>\n",
       "      <td>...</td>\n",
       "      <td>...</td>\n",
       "      <td>...</td>\n",
       "      <td>...</td>\n",
       "      <td>...</td>\n",
       "      <td>...</td>\n",
       "    </tr>\n",
       "    <tr>\n",
       "      <th>2416</th>\n",
       "      <td>1441</td>\n",
       "      <td>Tailwind Express Inc</td>\n",
       "      <td>1182023</td>\n",
       "      <td>Zhongyi Wang</td>\n",
       "      <td>Mileage</td>\n",
       "      <td>Volvo</td>\n",
       "      <td>2019</td>\n",
       "      <td>4V4NC9TJ8KN217327</td>\n",
       "      <td>211004741</td>\n",
       "    </tr>\n",
       "    <tr>\n",
       "      <th>2417</th>\n",
       "      <td>247</td>\n",
       "      <td>SYH Trucking Company</td>\n",
       "      <td>1042023</td>\n",
       "      <td>Shao Yu</td>\n",
       "      <td>Mileage</td>\n",
       "      <td>Volvo</td>\n",
       "      <td>2013</td>\n",
       "      <td>4V4NC9TJ9DN131513</td>\n",
       "      <td>211003657</td>\n",
       "    </tr>\n",
       "    <tr>\n",
       "      <th>2418</th>\n",
       "      <td>117</td>\n",
       "      <td>TNS Express Inc.</td>\n",
       "      <td>1032023</td>\n",
       "      <td>Yan Wu</td>\n",
       "      <td>Mileage</td>\n",
       "      <td>Western Star</td>\n",
       "      <td>2016</td>\n",
       "      <td>5KJJBHDR6GLHA8737</td>\n",
       "      <td>211002604</td>\n",
       "    </tr>\n",
       "    <tr>\n",
       "      <th>2435</th>\n",
       "      <td>307</td>\n",
       "      <td>Sun Charter Inc</td>\n",
       "      <td>1052023</td>\n",
       "      <td>Gang Liu</td>\n",
       "      <td>Mileage/Hour</td>\n",
       "      <td>Prevost</td>\n",
       "      <td>2017</td>\n",
       "      <td>2PCH33491HC713515</td>\n",
       "      <td>211002771</td>\n",
       "    </tr>\n",
       "    <tr>\n",
       "      <th>2436</th>\n",
       "      <td>1035</td>\n",
       "      <td>Z Tour LLC</td>\n",
       "      <td>1132023</td>\n",
       "      <td>Mingrui Liu</td>\n",
       "      <td>Mileage</td>\n",
       "      <td>Ford</td>\n",
       "      <td>2017</td>\n",
       "      <td>1FBAX2CM7HKA67208</td>\n",
       "      <td>171100134</td>\n",
       "    </tr>\n",
       "  </tbody>\n",
       "</table>\n",
       "<p>574 rows × 9 columns</p>\n",
       "</div>"
      ],
      "text/plain": [
       "      SequenceNo                   OrgName     Date    DriverName  \\\n",
       "0            946        Bazik Trucking Inc  1122023  George Bazik   \n",
       "3             27  E in April Trucking Inc.  1012023    Fujiang Li   \n",
       "4            257      Suhao Transport Inc.  1042023  Shuhao Zhang   \n",
       "13           823        Lydia Express Inc.  1112023   GUOBIN YANG   \n",
       "14           681     TM Transportation LLC  1092023      Luke May   \n",
       "...          ...                       ...      ...           ...   \n",
       "2416        1441      Tailwind Express Inc  1182023  Zhongyi Wang   \n",
       "2417         247      SYH Trucking Company  1042023       Shao Yu   \n",
       "2418         117          TNS Express Inc.  1032023        Yan Wu   \n",
       "2435         307           Sun Charter Inc  1052023      Gang Liu   \n",
       "2436        1035                Z Tour LLC  1132023   Mingrui Liu   \n",
       "\n",
       "       InvalidType   VehicleMake  VehicleYear                VIN   SerialNo  \n",
       "0          Mileage  Freightliner         2014  1FUGGLD57ELFK4085          0  \n",
       "3          Mileage  Freightliner         2016  1FUJGLBG1GLGY3570          0  \n",
       "4          Mileage  Freightliner         2016  1FUJGLBG1GLGY8249          0  \n",
       "13    Mileage/Hour  Freightliner         2016  1FUJGLBG2GLHA0856  211005627  \n",
       "14         Mileage  Freightliner         2011  1FUJGLBG6BSBA8097          0  \n",
       "...            ...           ...          ...                ...        ...  \n",
       "2416       Mileage         Volvo         2019  4V4NC9TJ8KN217327  211004741  \n",
       "2417       Mileage         Volvo         2013  4V4NC9TJ9DN131513  211003657  \n",
       "2418       Mileage  Western Star         2016  5KJJBHDR6GLHA8737  211002604  \n",
       "2435  Mileage/Hour       Prevost         2017  2PCH33491HC713515  211002771  \n",
       "2436       Mileage          Ford         2017  1FBAX2CM7HKA67208  171100134  \n",
       "\n",
       "[574 rows x 9 columns]"
      ]
     },
     "execution_count": 399,
     "metadata": {},
     "output_type": "execute_result"
    }
   ],
   "source": [
    "EDNew = ED.drop_duplicates(subset=['VIN'])\n",
    "EDNew"
   ]
  },
  {
   "cell_type": "markdown",
   "id": "eb4eef2a",
   "metadata": {},
   "source": [
    "# What's The Total Number of Heavy-Duty Trucks with The Issue of Jumping Mileage or Hour by Brands"
   ]
  },
  {
   "cell_type": "markdown",
   "id": "8dc6a1f6",
   "metadata": {},
   "source": [
    "### There are \"Freightliner\", \"Volvo\", \"Kenworth\", \"Peterbilt\", \"Western Star\", \"International\", \"Ford\", \"Prevost\" "
   ]
  },
  {
   "cell_type": "code",
   "execution_count": 400,
   "id": "01acd0fc",
   "metadata": {},
   "outputs": [
    {
     "data": {
      "text/plain": [
       "Freightliner     421\n",
       "Volvo             95\n",
       "Kenworth          33\n",
       "Peterbilt         17\n",
       "International      5\n",
       "Western Star       1\n",
       "Prevost            1\n",
       "Ford               1\n",
       "Name: VehicleMake, dtype: int64"
      ]
     },
     "execution_count": 400,
     "metadata": {},
     "output_type": "execute_result"
    }
   ],
   "source": [
    "EDNew['VehicleMake'].value_counts()[:8]"
   ]
  },
  {
   "cell_type": "code",
   "execution_count": 401,
   "id": "e6337526",
   "metadata": {},
   "outputs": [
    {
     "data": {
      "text/plain": [
       "<AxesSubplot:title={'center':'Total amount happened jumping odometer defferenciate by truck brand'}, xlabel='The Total Issued Amount', ylabel=\"Trucks' Brands\">"
      ]
     },
     "execution_count": 401,
     "metadata": {},
     "output_type": "execute_result"
    },
    {
     "data": {
      "image/png": "[encoded data removed]",
      "text/plain": [
       "<Figure size 640x480 with 1 Axes>"
      ]
     },
     "metadata": {},
     "output_type": "display_data"
    }
   ],
   "source": [
    "fig, ax = plt.subplots()\n",
    "ax.set_title(\"Total amount happened jumping odometer defferenciate by truck brand\")\n",
    "ax.set_ylabel(\"Trucks' Brands\")\n",
    "ax.set_xlabel(\"The Total Issued Amount\")\n",
    "EDNew['VehicleMake'].value_counts()[:6].plot(kind='barh')"
   ]
  },
  {
   "cell_type": "code",
   "execution_count": 404,
   "id": "75883252",
   "metadata": {},
   "outputs": [
    {
     "data": {
      "text/plain": [
       "<AxesSubplot:xlabel=\"Heavy-Duty Trucks' Brands\", ylabel='Percentage'>"
      ]
     },
     "execution_count": 404,
     "metadata": {},
     "output_type": "execute_result"
    },
    {
     "data": {
      "image/png": "[encoded data removed]",
      "text/plain": [
       "<Figure size 640x480 with 1 Axes>"
      ]
     },
     "metadata": {},
     "output_type": "display_data"
    }
   ],
   "source": [
    "EDGraph = (EDNew['VehicleMake'].value_counts()[:6])/len(EDNew['VehicleMake'])*100\n",
    "plt.xticks(rotation=-20, fontsize=10)\n",
    "#plt.yticks(rotation=20, fontsize=10)\n",
    "plt.xlabel(\"Heavy-Duty Trucks' Brands\")\n",
    "plt.ylabel('Percentage')\n",
    "EDGraph.plot(kind='bar', color = (0.9, 0.1, 0.6, 0.2), edgecolor='black')\n"
   ]
  },
  {
   "cell_type": "code",
   "execution_count": 405,
   "id": "c67ac3f3",
   "metadata": {},
   "outputs": [
    {
     "data": {
      "text/plain": [
       "Mileage         362\n",
       "Hour            124\n",
       "Mileage/Hour     88\n",
       "Name: InvalidType, dtype: int64"
      ]
     },
     "execution_count": 405,
     "metadata": {},
     "output_type": "execute_result"
    }
   ],
   "source": [
    "EDNew['InvalidType'].value_counts()[:3]"
   ]
  },
  {
   "cell_type": "code",
   "execution_count": 414,
   "id": "bb204d6f",
   "metadata": {},
   "outputs": [
    {
     "data": {
      "text/plain": [
       "Text(0, 0.5, 'Jumping Issued')"
      ]
     },
     "execution_count": 414,
     "metadata": {},
     "output_type": "execute_result"
    },
    {
     "data": {
      "image/png": "[encoded data removed]",
      "text/plain": [
       "<Figure size 640x480 with 1 Axes>"
      ]
     },
     "metadata": {},
     "output_type": "display_data"
    }
   ],
   "source": [
    "EDNew['InvalidType'].value_counts()[:3].plot(kind='barh', color=\"green\", edgecolor='black')\n",
    "plt.xlabel(\"The Total Number\")\n",
    "plt.ylabel('Jumping Issued')"
   ]
  },
  {
   "cell_type": "code",
   "execution_count": 415,
   "id": "8be8b111",
   "metadata": {},
   "outputs": [
    {
     "data": {
      "text/html": [
       "<div>\n",
       "<style scoped>\n",
       "    .dataframe tbody tr th:only-of-type {\n",
       "        vertical-align: middle;\n",
       "    }\n",
       "\n",
       "    .dataframe tbody tr th {\n",
       "        vertical-align: top;\n",
       "    }\n",
       "\n",
       "    .dataframe thead th {\n",
       "        text-align: right;\n",
       "    }\n",
       "</style>\n",
       "<table border=\"1\" class=\"dataframe\">\n",
       "  <thead>\n",
       "    <tr style=\"text-align: right;\">\n",
       "      <th></th>\n",
       "      <th>SequenceNo</th>\n",
       "      <th>OrgName</th>\n",
       "      <th>Date</th>\n",
       "      <th>DriverName</th>\n",
       "      <th>InvalidType</th>\n",
       "      <th>VehicleMake</th>\n",
       "      <th>VehicleYear</th>\n",
       "      <th>VIN</th>\n",
       "      <th>SerialNo</th>\n",
       "    </tr>\n",
       "  </thead>\n",
       "  <tbody>\n",
       "    <tr>\n",
       "      <th>0</th>\n",
       "      <td>946</td>\n",
       "      <td>Bazik Trucking Inc</td>\n",
       "      <td>1122023</td>\n",
       "      <td>George Bazik</td>\n",
       "      <td>Mileage</td>\n",
       "      <td>Freightliner</td>\n",
       "      <td>2014</td>\n",
       "      <td>1FUGGLD57ELFK4085</td>\n",
       "      <td>0</td>\n",
       "    </tr>\n",
       "    <tr>\n",
       "      <th>3</th>\n",
       "      <td>27</td>\n",
       "      <td>E in April Trucking Inc.</td>\n",
       "      <td>1012023</td>\n",
       "      <td>Fujiang Li</td>\n",
       "      <td>Mileage</td>\n",
       "      <td>Freightliner</td>\n",
       "      <td>2016</td>\n",
       "      <td>1FUJGLBG1GLGY3570</td>\n",
       "      <td>0</td>\n",
       "    </tr>\n",
       "    <tr>\n",
       "      <th>4</th>\n",
       "      <td>257</td>\n",
       "      <td>Suhao Transport Inc.</td>\n",
       "      <td>1042023</td>\n",
       "      <td>Shuhao Zhang</td>\n",
       "      <td>Mileage</td>\n",
       "      <td>Freightliner</td>\n",
       "      <td>2016</td>\n",
       "      <td>1FUJGLBG1GLGY8249</td>\n",
       "      <td>0</td>\n",
       "    </tr>\n",
       "    <tr>\n",
       "      <th>14</th>\n",
       "      <td>681</td>\n",
       "      <td>TM Transportation LLC</td>\n",
       "      <td>1092023</td>\n",
       "      <td>Luke May</td>\n",
       "      <td>Mileage</td>\n",
       "      <td>Freightliner</td>\n",
       "      <td>2011</td>\n",
       "      <td>1FUJGLBG6BSBA8097</td>\n",
       "      <td>0</td>\n",
       "    </tr>\n",
       "    <tr>\n",
       "      <th>34</th>\n",
       "      <td>222</td>\n",
       "      <td>CJ Lee Inc.</td>\n",
       "      <td>1042023</td>\n",
       "      <td>Cyrus Lee</td>\n",
       "      <td>Mileage</td>\n",
       "      <td>Freightliner</td>\n",
       "      <td>2016</td>\n",
       "      <td>1FUJGLD50GLGU1774</td>\n",
       "      <td>0</td>\n",
       "    </tr>\n",
       "    <tr>\n",
       "      <th>...</th>\n",
       "      <td>...</td>\n",
       "      <td>...</td>\n",
       "      <td>...</td>\n",
       "      <td>...</td>\n",
       "      <td>...</td>\n",
       "      <td>...</td>\n",
       "      <td>...</td>\n",
       "      <td>...</td>\n",
       "      <td>...</td>\n",
       "    </tr>\n",
       "    <tr>\n",
       "      <th>2414</th>\n",
       "      <td>921</td>\n",
       "      <td>S R S Express Inc.</td>\n",
       "      <td>1122023</td>\n",
       "      <td>Sergey Gevorgyan</td>\n",
       "      <td>Mileage</td>\n",
       "      <td>Volvo</td>\n",
       "      <td>2014</td>\n",
       "      <td>4V4NC9TJ3EN176495</td>\n",
       "      <td>211002487</td>\n",
       "    </tr>\n",
       "    <tr>\n",
       "      <th>2416</th>\n",
       "      <td>1441</td>\n",
       "      <td>Tailwind Express Inc</td>\n",
       "      <td>1182023</td>\n",
       "      <td>Zhongyi Wang</td>\n",
       "      <td>Mileage</td>\n",
       "      <td>Volvo</td>\n",
       "      <td>2019</td>\n",
       "      <td>4V4NC9TJ8KN217327</td>\n",
       "      <td>211004741</td>\n",
       "    </tr>\n",
       "    <tr>\n",
       "      <th>2417</th>\n",
       "      <td>247</td>\n",
       "      <td>SYH Trucking Company</td>\n",
       "      <td>1042023</td>\n",
       "      <td>Shao Yu</td>\n",
       "      <td>Mileage</td>\n",
       "      <td>Volvo</td>\n",
       "      <td>2013</td>\n",
       "      <td>4V4NC9TJ9DN131513</td>\n",
       "      <td>211003657</td>\n",
       "    </tr>\n",
       "    <tr>\n",
       "      <th>2418</th>\n",
       "      <td>117</td>\n",
       "      <td>TNS Express Inc.</td>\n",
       "      <td>1032023</td>\n",
       "      <td>Yan Wu</td>\n",
       "      <td>Mileage</td>\n",
       "      <td>Western Star</td>\n",
       "      <td>2016</td>\n",
       "      <td>5KJJBHDR6GLHA8737</td>\n",
       "      <td>211002604</td>\n",
       "    </tr>\n",
       "    <tr>\n",
       "      <th>2436</th>\n",
       "      <td>1035</td>\n",
       "      <td>Z Tour LLC</td>\n",
       "      <td>1132023</td>\n",
       "      <td>Mingrui Liu</td>\n",
       "      <td>Mileage</td>\n",
       "      <td>Ford</td>\n",
       "      <td>2017</td>\n",
       "      <td>1FBAX2CM7HKA67208</td>\n",
       "      <td>171100134</td>\n",
       "    </tr>\n",
       "  </tbody>\n",
       "</table>\n",
       "<p>362 rows × 9 columns</p>\n",
       "</div>"
      ],
      "text/plain": [
       "      SequenceNo                   OrgName     Date        DriverName  \\\n",
       "0            946        Bazik Trucking Inc  1122023      George Bazik   \n",
       "3             27  E in April Trucking Inc.  1012023        Fujiang Li   \n",
       "4            257      Suhao Transport Inc.  1042023      Shuhao Zhang   \n",
       "14           681     TM Transportation LLC  1092023          Luke May   \n",
       "34           222               CJ Lee Inc.  1042023         Cyrus Lee   \n",
       "...          ...                       ...      ...               ...   \n",
       "2414         921        S R S Express Inc.  1122023  Sergey Gevorgyan   \n",
       "2416        1441      Tailwind Express Inc  1182023      Zhongyi Wang   \n",
       "2417         247      SYH Trucking Company  1042023           Shao Yu   \n",
       "2418         117          TNS Express Inc.  1032023            Yan Wu   \n",
       "2436        1035                Z Tour LLC  1132023       Mingrui Liu   \n",
       "\n",
       "     InvalidType   VehicleMake  VehicleYear                VIN   SerialNo  \n",
       "0        Mileage  Freightliner         2014  1FUGGLD57ELFK4085          0  \n",
       "3        Mileage  Freightliner         2016  1FUJGLBG1GLGY3570          0  \n",
       "4        Mileage  Freightliner         2016  1FUJGLBG1GLGY8249          0  \n",
       "14       Mileage  Freightliner         2011  1FUJGLBG6BSBA8097          0  \n",
       "34       Mileage  Freightliner         2016  1FUJGLD50GLGU1774          0  \n",
       "...          ...           ...          ...                ...        ...  \n",
       "2414     Mileage         Volvo         2014  4V4NC9TJ3EN176495  211002487  \n",
       "2416     Mileage         Volvo         2019  4V4NC9TJ8KN217327  211004741  \n",
       "2417     Mileage         Volvo         2013  4V4NC9TJ9DN131513  211003657  \n",
       "2418     Mileage  Western Star         2016  5KJJBHDR6GLHA8737  211002604  \n",
       "2436     Mileage          Ford         2017  1FBAX2CM7HKA67208  171100134  \n",
       "\n",
       "[362 rows x 9 columns]"
      ]
     },
     "execution_count": 415,
     "metadata": {},
     "output_type": "execute_result"
    }
   ],
   "source": [
    "EDM = EDNew.loc[EDNew['InvalidType'] == 'Mileage']\n",
    "EDM"
   ]
  },
  {
   "cell_type": "code",
   "execution_count": 416,
   "id": "2ef1917f",
   "metadata": {},
   "outputs": [
    {
     "data": {
      "text/html": [
       "<div>\n",
       "<style scoped>\n",
       "    .dataframe tbody tr th:only-of-type {\n",
       "        vertical-align: middle;\n",
       "    }\n",
       "\n",
       "    .dataframe tbody tr th {\n",
       "        vertical-align: top;\n",
       "    }\n",
       "\n",
       "    .dataframe thead th {\n",
       "        text-align: right;\n",
       "    }\n",
       "</style>\n",
       "<table border=\"1\" class=\"dataframe\">\n",
       "  <thead>\n",
       "    <tr style=\"text-align: right;\">\n",
       "      <th></th>\n",
       "      <th>SequenceNo</th>\n",
       "      <th>OrgName</th>\n",
       "      <th>Date</th>\n",
       "      <th>DriverName</th>\n",
       "      <th>InvalidType</th>\n",
       "      <th>VehicleMake</th>\n",
       "      <th>VehicleYear</th>\n",
       "      <th>VIN</th>\n",
       "      <th>SerialNo</th>\n",
       "    </tr>\n",
       "  </thead>\n",
       "  <tbody>\n",
       "    <tr>\n",
       "      <th>56</th>\n",
       "      <td>1929</td>\n",
       "      <td>Western Bucks Inc.</td>\n",
       "      <td>1252023</td>\n",
       "      <td>Furong Yang</td>\n",
       "      <td>Hour</td>\n",
       "      <td>Freightliner</td>\n",
       "      <td>2015</td>\n",
       "      <td>1FUJGLD52FLGS3534</td>\n",
       "      <td>211005240</td>\n",
       "    </tr>\n",
       "    <tr>\n",
       "      <th>62</th>\n",
       "      <td>751</td>\n",
       "      <td>W Safe Speed Inc</td>\n",
       "      <td>1102023</td>\n",
       "      <td>Jingjing Wu</td>\n",
       "      <td>Hour</td>\n",
       "      <td>Freightliner</td>\n",
       "      <td>2016</td>\n",
       "      <td>1FUJGLD54GLGZ8351</td>\n",
       "      <td>211004530</td>\n",
       "    </tr>\n",
       "    <tr>\n",
       "      <th>153</th>\n",
       "      <td>1922</td>\n",
       "      <td>JW USA LINK</td>\n",
       "      <td>1252023</td>\n",
       "      <td>Tian yuan Cai</td>\n",
       "      <td>Hour</td>\n",
       "      <td>Freightliner</td>\n",
       "      <td>2012</td>\n",
       "      <td>1FUJGLDR2CSBK1014</td>\n",
       "      <td>0</td>\n",
       "    </tr>\n",
       "    <tr>\n",
       "      <th>189</th>\n",
       "      <td>424</td>\n",
       "      <td>Youjen Express Inc</td>\n",
       "      <td>1062023</td>\n",
       "      <td>Congcong Li</td>\n",
       "      <td>Hour</td>\n",
       "      <td>Freightliner</td>\n",
       "      <td>2017</td>\n",
       "      <td>1FUJGLDR3HLHD2215</td>\n",
       "      <td>211005156</td>\n",
       "    </tr>\n",
       "    <tr>\n",
       "      <th>201</th>\n",
       "      <td>1999</td>\n",
       "      <td>Olivia Trucking Inc</td>\n",
       "      <td>1262023</td>\n",
       "      <td>Takwikanwe Katanga</td>\n",
       "      <td>Hour</td>\n",
       "      <td>Freightliner</td>\n",
       "      <td>2011</td>\n",
       "      <td>1FUJGLDR7BSAZ3693</td>\n",
       "      <td>0</td>\n",
       "    </tr>\n",
       "    <tr>\n",
       "      <th>...</th>\n",
       "      <td>...</td>\n",
       "      <td>...</td>\n",
       "      <td>...</td>\n",
       "      <td>...</td>\n",
       "      <td>...</td>\n",
       "      <td>...</td>\n",
       "      <td>...</td>\n",
       "      <td>...</td>\n",
       "      <td>...</td>\n",
       "    </tr>\n",
       "    <tr>\n",
       "      <th>2373</th>\n",
       "      <td>585</td>\n",
       "      <td>Hong Yun Trucking Inc.</td>\n",
       "      <td>1082023</td>\n",
       "      <td>Chonghua Yan</td>\n",
       "      <td>Hour</td>\n",
       "      <td>Volvo</td>\n",
       "      <td>2022</td>\n",
       "      <td>4V4NC9EJ5NN298546</td>\n",
       "      <td>211002777</td>\n",
       "    </tr>\n",
       "    <tr>\n",
       "      <th>2382</th>\n",
       "      <td>1828</td>\n",
       "      <td>Polar Trucking Inc</td>\n",
       "      <td>1232023</td>\n",
       "      <td>Hefei Shi</td>\n",
       "      <td>Hour</td>\n",
       "      <td>Freightliner</td>\n",
       "      <td>2023</td>\n",
       "      <td>4V4NC9EJ6PN611784</td>\n",
       "      <td>211005206</td>\n",
       "    </tr>\n",
       "    <tr>\n",
       "      <th>2383</th>\n",
       "      <td>1234</td>\n",
       "      <td>Devic Transportation</td>\n",
       "      <td>1152023</td>\n",
       "      <td>Cong Wang</td>\n",
       "      <td>Hour</td>\n",
       "      <td>Volvo</td>\n",
       "      <td>2019</td>\n",
       "      <td>4V4NC9EJ7KN201603</td>\n",
       "      <td>0</td>\n",
       "    </tr>\n",
       "    <tr>\n",
       "      <th>2400</th>\n",
       "      <td>1399</td>\n",
       "      <td>L N Z Trucking</td>\n",
       "      <td>1172023</td>\n",
       "      <td>tao wu</td>\n",
       "      <td>Hour</td>\n",
       "      <td>Volvo</td>\n",
       "      <td>2015</td>\n",
       "      <td>4V4NC9EJXFN908040</td>\n",
       "      <td>211004910</td>\n",
       "    </tr>\n",
       "    <tr>\n",
       "      <th>2405</th>\n",
       "      <td>986</td>\n",
       "      <td>M&amp;K National Inc</td>\n",
       "      <td>1122023</td>\n",
       "      <td>Richard Arjani</td>\n",
       "      <td>Hour</td>\n",
       "      <td>Volvo</td>\n",
       "      <td>2022</td>\n",
       "      <td>4V4NC9EJXNN295190</td>\n",
       "      <td>0</td>\n",
       "    </tr>\n",
       "  </tbody>\n",
       "</table>\n",
       "<p>124 rows × 9 columns</p>\n",
       "</div>"
      ],
      "text/plain": [
       "      SequenceNo                 OrgName     Date          DriverName  \\\n",
       "56          1929      Western Bucks Inc.  1252023         Furong Yang   \n",
       "62           751        W Safe Speed Inc  1102023         Jingjing Wu   \n",
       "153         1922             JW USA LINK  1252023       Tian yuan Cai   \n",
       "189          424      Youjen Express Inc  1062023         Congcong Li   \n",
       "201         1999     Olivia Trucking Inc  1262023  Takwikanwe Katanga   \n",
       "...          ...                     ...      ...                 ...   \n",
       "2373         585  Hong Yun Trucking Inc.  1082023        Chonghua Yan   \n",
       "2382        1828      Polar Trucking Inc  1232023           Hefei Shi   \n",
       "2383        1234    Devic Transportation  1152023           Cong Wang   \n",
       "2400        1399          L N Z Trucking  1172023              tao wu   \n",
       "2405         986        M&K National Inc  1122023      Richard Arjani   \n",
       "\n",
       "     InvalidType   VehicleMake  VehicleYear                VIN   SerialNo  \n",
       "56          Hour  Freightliner         2015  1FUJGLD52FLGS3534  211005240  \n",
       "62          Hour  Freightliner         2016  1FUJGLD54GLGZ8351  211004530  \n",
       "153         Hour  Freightliner         2012  1FUJGLDR2CSBK1014          0  \n",
       "189         Hour  Freightliner         2017  1FUJGLDR3HLHD2215  211005156  \n",
       "201         Hour  Freightliner         2011  1FUJGLDR7BSAZ3693          0  \n",
       "...          ...           ...          ...                ...        ...  \n",
       "2373        Hour         Volvo         2022  4V4NC9EJ5NN298546  211002777  \n",
       "2382        Hour  Freightliner         2023  4V4NC9EJ6PN611784  211005206  \n",
       "2383        Hour         Volvo         2019  4V4NC9EJ7KN201603          0  \n",
       "2400        Hour         Volvo         2015  4V4NC9EJXFN908040  211004910  \n",
       "2405        Hour         Volvo         2022  4V4NC9EJXNN295190          0  \n",
       "\n",
       "[124 rows x 9 columns]"
      ]
     },
     "execution_count": 416,
     "metadata": {},
     "output_type": "execute_result"
    }
   ],
   "source": [
    "EDH = EDNew.loc[EDNew['InvalidType'] == 'Hour']\n",
    "EDH"
   ]
  },
  {
   "cell_type": "code",
   "execution_count": 417,
   "id": "979b9bf2",
   "metadata": {},
   "outputs": [
    {
     "data": {
      "text/html": [
       "<div>\n",
       "<style scoped>\n",
       "    .dataframe tbody tr th:only-of-type {\n",
       "        vertical-align: middle;\n",
       "    }\n",
       "\n",
       "    .dataframe tbody tr th {\n",
       "        vertical-align: top;\n",
       "    }\n",
       "\n",
       "    .dataframe thead th {\n",
       "        text-align: right;\n",
       "    }\n",
       "</style>\n",
       "<table border=\"1\" class=\"dataframe\">\n",
       "  <thead>\n",
       "    <tr style=\"text-align: right;\">\n",
       "      <th></th>\n",
       "      <th>SequenceNo</th>\n",
       "      <th>OrgName</th>\n",
       "      <th>Date</th>\n",
       "      <th>DriverName</th>\n",
       "      <th>InvalidType</th>\n",
       "      <th>VehicleMake</th>\n",
       "      <th>VehicleYear</th>\n",
       "      <th>VIN</th>\n",
       "      <th>SerialNo</th>\n",
       "    </tr>\n",
       "  </thead>\n",
       "  <tbody>\n",
       "    <tr>\n",
       "      <th>13</th>\n",
       "      <td>823</td>\n",
       "      <td>Lydia Express Inc.</td>\n",
       "      <td>1112023</td>\n",
       "      <td>GUOBIN YANG</td>\n",
       "      <td>Mileage/Hour</td>\n",
       "      <td>Freightliner</td>\n",
       "      <td>2016</td>\n",
       "      <td>1FUJGLBG2GLHA0856</td>\n",
       "      <td>211005627</td>\n",
       "    </tr>\n",
       "    <tr>\n",
       "      <th>32</th>\n",
       "      <td>492</td>\n",
       "      <td>Lydia Express Inc.</td>\n",
       "      <td>1072023</td>\n",
       "      <td>Liang Cai</td>\n",
       "      <td>Mileage/Hour</td>\n",
       "      <td>Freightliner</td>\n",
       "      <td>2016</td>\n",
       "      <td>1FUJGLBG7GLGY8241</td>\n",
       "      <td>0</td>\n",
       "    </tr>\n",
       "    <tr>\n",
       "      <th>63</th>\n",
       "      <td>829</td>\n",
       "      <td>Rongyun Trucking Inc</td>\n",
       "      <td>1112023</td>\n",
       "      <td>Jian Li</td>\n",
       "      <td>Mileage/Hour</td>\n",
       "      <td>Freightliner</td>\n",
       "      <td>2016</td>\n",
       "      <td>1FUJGLD54GLGZ8365</td>\n",
       "      <td>0</td>\n",
       "    </tr>\n",
       "    <tr>\n",
       "      <th>160</th>\n",
       "      <td>2133</td>\n",
       "      <td>Taomore Supply Chain LTD</td>\n",
       "      <td>1272023</td>\n",
       "      <td>LIANG LI</td>\n",
       "      <td>Mileage/Hour</td>\n",
       "      <td>Freightliner</td>\n",
       "      <td>2016</td>\n",
       "      <td>1FUJGLDR2GLGW6971</td>\n",
       "      <td>211005002</td>\n",
       "    </tr>\n",
       "    <tr>\n",
       "      <th>194</th>\n",
       "      <td>842</td>\n",
       "      <td>Gao Shuai Trucking Inc</td>\n",
       "      <td>1112023</td>\n",
       "      <td>Jianwei Gao</td>\n",
       "      <td>Mileage/Hour</td>\n",
       "      <td>Freightliner</td>\n",
       "      <td>2018</td>\n",
       "      <td>1FUJGLDR4JLJF8128</td>\n",
       "      <td>211003305</td>\n",
       "    </tr>\n",
       "    <tr>\n",
       "      <th>...</th>\n",
       "      <td>...</td>\n",
       "      <td>...</td>\n",
       "      <td>...</td>\n",
       "      <td>...</td>\n",
       "      <td>...</td>\n",
       "      <td>...</td>\n",
       "      <td>...</td>\n",
       "      <td>...</td>\n",
       "      <td>...</td>\n",
       "    </tr>\n",
       "    <tr>\n",
       "      <th>2381</th>\n",
       "      <td>1693</td>\n",
       "      <td>SHJ Trucking Inc (DOT: 3197280)</td>\n",
       "      <td>1212023</td>\n",
       "      <td>Yit Ning Ma</td>\n",
       "      <td>Mileage/Hour</td>\n",
       "      <td>Freightliner</td>\n",
       "      <td>2017</td>\n",
       "      <td>4V4NC9EJ6PN611736</td>\n",
       "      <td>211005135</td>\n",
       "    </tr>\n",
       "    <tr>\n",
       "      <th>2391</th>\n",
       "      <td>1468</td>\n",
       "      <td>ZCY Logistics</td>\n",
       "      <td>1182023</td>\n",
       "      <td>Chunyu Zhou</td>\n",
       "      <td>Mileage/Hour</td>\n",
       "      <td>Volvo</td>\n",
       "      <td>2019</td>\n",
       "      <td>4V4NC9EJ8KN898120</td>\n",
       "      <td>211004700</td>\n",
       "    </tr>\n",
       "    <tr>\n",
       "      <th>2392</th>\n",
       "      <td>609</td>\n",
       "      <td>Carrystar J Inc.</td>\n",
       "      <td>1082023</td>\n",
       "      <td>Jianwei Li</td>\n",
       "      <td>Mileage/Hour</td>\n",
       "      <td>Volvo</td>\n",
       "      <td>2023</td>\n",
       "      <td>4V4NC9EJ8PN611138</td>\n",
       "      <td>211004877</td>\n",
       "    </tr>\n",
       "    <tr>\n",
       "      <th>2402</th>\n",
       "      <td>260</td>\n",
       "      <td>FLSX Trucking Inc</td>\n",
       "      <td>1042023</td>\n",
       "      <td>Zhirong Liao</td>\n",
       "      <td>Mileage/Hour</td>\n",
       "      <td>Volvo</td>\n",
       "      <td>2016</td>\n",
       "      <td>4V4NC9EJXGN953089</td>\n",
       "      <td>211004803</td>\n",
       "    </tr>\n",
       "    <tr>\n",
       "      <th>2435</th>\n",
       "      <td>307</td>\n",
       "      <td>Sun Charter Inc</td>\n",
       "      <td>1052023</td>\n",
       "      <td>Gang Liu</td>\n",
       "      <td>Mileage/Hour</td>\n",
       "      <td>Prevost</td>\n",
       "      <td>2017</td>\n",
       "      <td>2PCH33491HC713515</td>\n",
       "      <td>211002771</td>\n",
       "    </tr>\n",
       "  </tbody>\n",
       "</table>\n",
       "<p>88 rows × 9 columns</p>\n",
       "</div>"
      ],
      "text/plain": [
       "      SequenceNo                          OrgName     Date    DriverName  \\\n",
       "13           823               Lydia Express Inc.  1112023   GUOBIN YANG   \n",
       "32           492               Lydia Express Inc.  1072023     Liang Cai   \n",
       "63           829             Rongyun Trucking Inc  1112023       Jian Li   \n",
       "160         2133         Taomore Supply Chain LTD  1272023      LIANG LI   \n",
       "194          842           Gao Shuai Trucking Inc  1112023   Jianwei Gao   \n",
       "...          ...                              ...      ...           ...   \n",
       "2381        1693  SHJ Trucking Inc (DOT: 3197280)  1212023   Yit Ning Ma   \n",
       "2391        1468                    ZCY Logistics  1182023   Chunyu Zhou   \n",
       "2392         609                 Carrystar J Inc.  1082023    Jianwei Li   \n",
       "2402         260                FLSX Trucking Inc  1042023  Zhirong Liao   \n",
       "2435         307                  Sun Charter Inc  1052023      Gang Liu   \n",
       "\n",
       "       InvalidType   VehicleMake  VehicleYear                VIN   SerialNo  \n",
       "13    Mileage/Hour  Freightliner         2016  1FUJGLBG2GLHA0856  211005627  \n",
       "32    Mileage/Hour  Freightliner         2016  1FUJGLBG7GLGY8241          0  \n",
       "63    Mileage/Hour  Freightliner         2016  1FUJGLD54GLGZ8365          0  \n",
       "160   Mileage/Hour  Freightliner         2016  1FUJGLDR2GLGW6971  211005002  \n",
       "194   Mileage/Hour  Freightliner         2018  1FUJGLDR4JLJF8128  211003305  \n",
       "...            ...           ...          ...                ...        ...  \n",
       "2381  Mileage/Hour  Freightliner         2017  4V4NC9EJ6PN611736  211005135  \n",
       "2391  Mileage/Hour         Volvo         2019  4V4NC9EJ8KN898120  211004700  \n",
       "2392  Mileage/Hour         Volvo         2023  4V4NC9EJ8PN611138  211004877  \n",
       "2402  Mileage/Hour         Volvo         2016  4V4NC9EJXGN953089  211004803  \n",
       "2435  Mileage/Hour       Prevost         2017  2PCH33491HC713515  211002771  \n",
       "\n",
       "[88 rows x 9 columns]"
      ]
     },
     "execution_count": 417,
     "metadata": {},
     "output_type": "execute_result"
    }
   ],
   "source": [
    "EDMH = EDNew.loc[EDNew['InvalidType'] == 'Mileage/Hour']\n",
    "EDMH"
   ]
  },
  {
   "cell_type": "code",
   "execution_count": 418,
   "id": "e62bfd92",
   "metadata": {},
   "outputs": [
    {
     "data": {
      "application/vnd.plotly.v1+json": {
       "config": {
        "plotlyServerURL": "https://plot.ly"
       },
       "data": [
        {
         "name": "Jumping Mileage",
         "text": [
          264,
          53,
          27,
          12,
          4,
          1
         ],
         "textposition": "outside",
         "type": "bar",
         "x": [
          "Freightliner",
          "Volvo",
          "Kenworth",
          "Peterbilt",
          "Western Star",
          "International"
         ],
         "y": [
          264,
          53,
          27,
          12,
          4,
          1
         ]
        },
        {
         "name": "Jumping Mileage",
         "text": [
          92,
          26,
          4,
          2
         ],
         "textposition": "outside",
         "type": "bar",
         "x": [
          "Freightliner",
          "Volvo",
          "Kenworth",
          "Peterbilt",
          "Western Star",
          "International"
         ],
         "y": [
          92,
          26,
          4,
          2
         ]
        },
        {
         "name": "Jumping Mileage",
         "text": [
          65,
          16,
          3,
          2,
          1,
          1
         ],
         "textposition": "outside",
         "type": "bar",
         "x": [
          "Freightliner",
          "Volvo",
          "Kenworth",
          "Peterbilt",
          "Western Star",
          "International"
         ],
         "y": [
          65,
          16,
          3,
          2,
          1,
          1
         ]
        }
       ],
       "layout": {
        "barmode": "stack",
        "template": {
         "data": {
          "bar": [
           {
            "error_x": {
             "color": "#2a3f5f"
            },
            "error_y": {
             "color": "#2a3f5f"
            },
            "marker": {
             "line": {
              "color": "#E5ECF6",
              "width": 0.5
             },
             "pattern": {
              "fillmode": "overlay",
              "size": 10,
              "solidity": 0.2
             }
            },
            "type": "bar"
           }
          ],
          "barpolar": [
           {
            "marker": {
             "line": {
              "color": "#E5ECF6",
              "width": 0.5
             },
             "pattern": {
              "fillmode": "overlay",
              "size": 10,
              "solidity": 0.2
             }
            },
            "type": "barpolar"
           }
          ],
          "carpet": [
           {
            "aaxis": {
             "endlinecolor": "#2a3f5f",
             "gridcolor": "white",
             "linecolor": "white",
             "minorgridcolor": "white",
             "startlinecolor": "#2a3f5f"
            },
            "baxis": {
             "endlinecolor": "#2a3f5f",
             "gridcolor": "white",
             "linecolor": "white",
             "minorgridcolor": "white",
             "startlinecolor": "#2a3f5f"
            },
            "type": "carpet"
           }
          ],
          "choropleth": [
           {
            "colorbar": {
             "outlinewidth": 0,
             "ticks": ""
            },
            "type": "choropleth"
           }
          ],
          "contour": [
           {
            "colorbar": {
             "outlinewidth": 0,
             "ticks": ""
            },
            "colorscale": [
             [
              0,
              "#0d0887"
             ],
             [
              0.1111111111111111,
              "#46039f"
             ],
             [
              0.2222222222222222,
              "#7201a8"
             ],
             [
              0.3333333333333333,
              "#9c179e"
             ],
             [
              0.4444444444444444,
              "#bd3786"
             ],
             [
              0.5555555555555556,
              "#d8576b"
             ],
             [
              0.6666666666666666,
              "#ed7953"
             ],
             [
              0.7777777777777778,
              "#fb9f3a"
             ],
             [
              0.8888888888888888,
              "#fdca26"
             ],
             [
              1,
              "#f0f921"
             ]
            ],
            "type": "contour"
           }
          ],
          "contourcarpet": [
           {
            "colorbar": {
             "outlinewidth": 0,
             "ticks": ""
            },
            "type": "contourcarpet"
           }
          ],
          "heatmap": [
           {
            "colorbar": {
             "outlinewidth": 0,
             "ticks": ""
            },
            "colorscale": [
             [
              0,
              "#0d0887"
             ],
             [
              0.1111111111111111,
              "#46039f"
             ],
             [
              0.2222222222222222,
              "#7201a8"
             ],
             [
              0.3333333333333333,
              "#9c179e"
             ],
             [
              0.4444444444444444,
              "#bd3786"
             ],
             [
              0.5555555555555556,
              "#d8576b"
             ],
             [
              0.6666666666666666,
              "#ed7953"
             ],
             [
              0.7777777777777778,
              "#fb9f3a"
             ],
             [
              0.8888888888888888,
              "#fdca26"
             ],
             [
              1,
              "#f0f921"
             ]
            ],
            "type": "heatmap"
           }
          ],
          "heatmapgl": [
           {
            "colorbar": {
             "outlinewidth": 0,
             "ticks": ""
            },
            "colorscale": [
             [
              0,
              "#0d0887"
             ],
             [
              0.1111111111111111,
              "#46039f"
             ],
             [
              0.2222222222222222,
              "#7201a8"
             ],
             [
              0.3333333333333333,
              "#9c179e"
             ],
             [
              0.4444444444444444,
              "#bd3786"
             ],
             [
              0.5555555555555556,
              "#d8576b"
             ],
             [
              0.6666666666666666,
              "#ed7953"
             ],
             [
              0.7777777777777778,
              "#fb9f3a"
             ],
             [
              0.8888888888888888,
              "#fdca26"
             ],
             [
              1,
              "#f0f921"
             ]
            ],
            "type": "heatmapgl"
           }
          ],
          "histogram": [
           {
            "marker": {
             "pattern": {
              "fillmode": "overlay",
              "size": 10,
              "solidity": 0.2
             }
            },
            "type": "histogram"
           }
          ],
          "histogram2d": [
           {
            "colorbar": {
             "outlinewidth": 0,
             "ticks": ""
            },
            "colorscale": [
             [
              0,
              "#0d0887"
             ],
             [
              0.1111111111111111,
              "#46039f"
             ],
             [
              0.2222222222222222,
              "#7201a8"
             ],
             [
              0.3333333333333333,
              "#9c179e"
             ],
             [
              0.4444444444444444,
              "#bd3786"
             ],
             [
              0.5555555555555556,
              "#d8576b"
             ],
             [
              0.6666666666666666,
              "#ed7953"
             ],
             [
              0.7777777777777778,
              "#fb9f3a"
             ],
             [
              0.8888888888888888,
              "#fdca26"
             ],
             [
              1,
              "#f0f921"
             ]
            ],
            "type": "histogram2d"
           }
          ],
          "histogram2dcontour": [
           {
            "colorbar": {
             "outlinewidth": 0,
             "ticks": ""
            },
            "colorscale": [
             [
              0,
              "#0d0887"
             ],
             [
              0.1111111111111111,
              "#46039f"
             ],
             [
              0.2222222222222222,
              "#7201a8"
             ],
             [
              0.3333333333333333,
              "#9c179e"
             ],
             [
              0.4444444444444444,
              "#bd3786"
             ],
             [
              0.5555555555555556,
              "#d8576b"
             ],
             [
              0.6666666666666666,
              "#ed7953"
             ],
             [
              0.7777777777777778,
              "#fb9f3a"
             ],
             [
              0.8888888888888888,
              "#fdca26"
             ],
             [
              1,
              "#f0f921"
             ]
            ],
            "type": "histogram2dcontour"
           }
          ],
          "mesh3d": [
           {
            "colorbar": {
             "outlinewidth": 0,
             "ticks": ""
            },
            "type": "mesh3d"
           }
          ],
          "parcoords": [
           {
            "line": {
             "colorbar": {
              "outlinewidth": 0,
              "ticks": ""
             }
            },
            "type": "parcoords"
           }
          ],
          "pie": [
           {
            "automargin": true,
            "type": "pie"
           }
          ],
          "scatter": [
           {
            "fillpattern": {
             "fillmode": "overlay",
             "size": 10,
             "solidity": 0.2
            },
            "type": "scatter"
           }
          ],
          "scatter3d": [
           {
            "line": {
             "colorbar": {
              "outlinewidth": 0,
              "ticks": ""
             }
            },
            "marker": {
             "colorbar": {
              "outlinewidth": 0,
              "ticks": ""
             }
            },
            "type": "scatter3d"
           }
          ],
          "scattercarpet": [
           {
            "marker": {
             "colorbar": {
              "outlinewidth": 0,
              "ticks": ""
             }
            },
            "type": "scattercarpet"
           }
          ],
          "scattergeo": [
           {
            "marker": {
             "colorbar": {
              "outlinewidth": 0,
              "ticks": ""
             }
            },
            "type": "scattergeo"
           }
          ],
          "scattergl": [
           {
            "marker": {
             "colorbar": {
              "outlinewidth": 0,
              "ticks": ""
             }
            },
            "type": "scattergl"
           }
          ],
          "scattermapbox": [
           {
            "marker": {
             "colorbar": {
              "outlinewidth": 0,
              "ticks": ""
             }
            },
            "type": "scattermapbox"
           }
          ],
          "scatterpolar": [
           {
            "marker": {
             "colorbar": {
              "outlinewidth": 0,
              "ticks": ""
             }
            },
            "type": "scatterpolar"
           }
          ],
          "scatterpolargl": [
           {
            "marker": {
             "colorbar": {
              "outlinewidth": 0,
              "ticks": ""
             }
            },
            "type": "scatterpolargl"
           }
          ],
          "scatterternary": [
           {
            "marker": {
             "colorbar": {
              "outlinewidth": 0,
              "ticks": ""
             }
            },
            "type": "scatterternary"
           }
          ],
          "surface": [
           {
            "colorbar": {
             "outlinewidth": 0,
             "ticks": ""
            },
            "colorscale": [
             [
              0,
              "#0d0887"
             ],
             [
              0.1111111111111111,
              "#46039f"
             ],
             [
              0.2222222222222222,
              "#7201a8"
             ],
             [
              0.3333333333333333,
              "#9c179e"
             ],
             [
              0.4444444444444444,
              "#bd3786"
             ],
             [
              0.5555555555555556,
              "#d8576b"
             ],
             [
              0.6666666666666666,
              "#ed7953"
             ],
             [
              0.7777777777777778,
              "#fb9f3a"
             ],
             [
              0.8888888888888888,
              "#fdca26"
             ],
             [
              1,
              "#f0f921"
             ]
            ],
            "type": "surface"
           }
          ],
          "table": [
           {
            "cells": {
             "fill": {
              "color": "#EBF0F8"
             },
             "line": {
              "color": "white"
             }
            },
            "header": {
             "fill": {
              "color": "#C8D4E3"
             },
             "line": {
              "color": "white"
             }
            },
            "type": "table"
           }
          ]
         },
         "layout": {
          "annotationdefaults": {
           "arrowcolor": "#2a3f5f",
           "arrowhead": 0,
           "arrowwidth": 1
          },
          "autotypenumbers": "strict",
          "coloraxis": {
           "colorbar": {
            "outlinewidth": 0,
            "ticks": ""
           }
          },
          "colorscale": {
           "diverging": [
            [
             0,
             "#8e0152"
            ],
            [
             0.1,
             "#c51b7d"
            ],
            [
             0.2,
             "#de77ae"
            ],
            [
             0.3,
             "#f1b6da"
            ],
            [
             0.4,
             "#fde0ef"
            ],
            [
             0.5,
             "#f7f7f7"
            ],
            [
             0.6,
             "#e6f5d0"
            ],
            [
             0.7,
             "#b8e186"
            ],
            [
             0.8,
             "#7fbc41"
            ],
            [
             0.9,
             "#4d9221"
            ],
            [
             1,
             "#276419"
            ]
           ],
           "sequential": [
            [
             0,
             "#0d0887"
            ],
            [
             0.1111111111111111,
             "#46039f"
            ],
            [
             0.2222222222222222,
             "#7201a8"
            ],
            [
             0.3333333333333333,
             "#9c179e"
            ],
            [
             0.4444444444444444,
             "#bd3786"
            ],
            [
             0.5555555555555556,
             "#d8576b"
            ],
            [
             0.6666666666666666,
             "#ed7953"
            ],
            [
             0.7777777777777778,
             "#fb9f3a"
            ],
            [
             0.8888888888888888,
             "#fdca26"
            ],
            [
             1,
             "#f0f921"
            ]
           ],
           "sequentialminus": [
            [
             0,
             "#0d0887"
            ],
            [
             0.1111111111111111,
             "#46039f"
            ],
            [
             0.2222222222222222,
             "#7201a8"
            ],
            [
             0.3333333333333333,
             "#9c179e"
            ],
            [
             0.4444444444444444,
             "#bd3786"
            ],
            [
             0.5555555555555556,
             "#d8576b"
            ],
            [
             0.6666666666666666,
             "#ed7953"
            ],
            [
             0.7777777777777778,
             "#fb9f3a"
            ],
            [
             0.8888888888888888,
             "#fdca26"
            ],
            [
             1,
             "#f0f921"
            ]
           ]
          },
          "colorway": [
           "#636efa",
           "#EF553B",
           "#00cc96",
           "#ab63fa",
           "#FFA15A",
           "#19d3f3",
           "#FF6692",
           "#B6E880",
           "#FF97FF",
           "#FECB52"
          ],
          "font": {
           "color": "#2a3f5f"
          },
          "geo": {
           "bgcolor": "white",
           "lakecolor": "white",
           "landcolor": "#E5ECF6",
           "showlakes": true,
           "showland": true,
           "subunitcolor": "white"
          },
          "hoverlabel": {
           "align": "left"
          },
          "hovermode": "closest",
          "mapbox": {
           "style": "light"
          },
          "paper_bgcolor": "white",
          "plot_bgcolor": "#E5ECF6",
          "polar": {
           "angularaxis": {
            "gridcolor": "white",
            "linecolor": "white",
            "ticks": ""
           },
           "bgcolor": "#E5ECF6",
           "radialaxis": {
            "gridcolor": "white",
            "linecolor": "white",
            "ticks": ""
           }
          },
          "scene": {
           "xaxis": {
            "backgroundcolor": "#E5ECF6",
            "gridcolor": "white",
            "gridwidth": 2,
            "linecolor": "white",
            "showbackground": true,
            "ticks": "",
            "zerolinecolor": "white"
           },
           "yaxis": {
            "backgroundcolor": "#E5ECF6",
            "gridcolor": "white",
            "gridwidth": 2,
            "linecolor": "white",
            "showbackground": true,
            "ticks": "",
            "zerolinecolor": "white"
           },
           "zaxis": {
            "backgroundcolor": "#E5ECF6",
            "gridcolor": "white",
            "gridwidth": 2,
            "linecolor": "white",
            "showbackground": true,
            "ticks": "",
            "zerolinecolor": "white"
           }
          },
          "shapedefaults": {
           "line": {
            "color": "#2a3f5f"
           }
          },
          "ternary": {
           "aaxis": {
            "gridcolor": "white",
            "linecolor": "white",
            "ticks": ""
           },
           "baxis": {
            "gridcolor": "white",
            "linecolor": "white",
            "ticks": ""
           },
           "bgcolor": "#E5ECF6",
           "caxis": {
            "gridcolor": "white",
            "linecolor": "white",
            "ticks": ""
           }
          },
          "title": {
           "x": 0.05
          },
          "xaxis": {
           "automargin": true,
           "gridcolor": "white",
           "linecolor": "white",
           "ticks": "",
           "title": {
            "standoff": 15
           },
           "zerolinecolor": "white",
           "zerolinewidth": 2
          },
          "yaxis": {
           "automargin": true,
           "gridcolor": "white",
           "linecolor": "white",
           "ticks": "",
           "title": {
            "standoff": 15
           },
           "zerolinecolor": "white",
           "zerolinewidth": 2
          }
         }
        },
        "title": {
         "text": "The Total Number of Heavy-Duty Trucks with The Issue of Jumping Mileage or Hour by Brands"
        },
        "xaxis": {
         "title": {
          "text": "Trucks' Brands"
         }
        },
        "yaxis": {
         "title": {
          "text": "Total Issued Amount"
         }
        }
       }
      },
      "text/html": [
       "<div>                            <div id=\"d581d1b4-a5c8-4520-a763-e58abf998133\" class=\"plotly-graph-div\" style=\"height:525px; width:100%;\"></div>            <script type=\"text/javascript\">                require([\"plotly\"], function(Plotly) {                    window.PLOTLYENV=window.PLOTLYENV || {};                                    if (document.getElementById(\"d581d1b4-a5c8-4520-a763-e58abf998133\")) {                    Plotly.newPlot(                        \"d581d1b4-a5c8-4520-a763-e58abf998133\",                        [{\"name\":\"Jumping Mileage\",\"text\":[264.0,53.0,27.0,12.0,4.0,1.0],\"textposition\":\"outside\",\"x\":[\"Freightliner\",\"Volvo\",\"Kenworth\",\"Peterbilt\",\"Western Star\",\"International\"],\"y\":[264,53,27,12,4,1],\"type\":\"bar\"},{\"name\":\"Jumping Mileage\",\"text\":[92.0,26.0,4.0,2.0],\"textposition\":\"outside\",\"x\":[\"Freightliner\",\"Volvo\",\"Kenworth\",\"Peterbilt\",\"Western Star\",\"International\"],\"y\":[92,26,4,2],\"type\":\"bar\"},{\"name\":\"Jumping Mileage\",\"text\":[65.0,16.0,3.0,2.0,1.0,1.0],\"textposition\":\"outside\",\"x\":[\"Freightliner\",\"Volvo\",\"Kenworth\",\"Peterbilt\",\"Western Star\",\"International\"],\"y\":[65,16,3,2,1,1],\"type\":\"bar\"}],                        {\"template\":{\"data\":{\"histogram2dcontour\":[{\"type\":\"histogram2dcontour\",\"colorbar\":{\"outlinewidth\":0,\"ticks\":\"\"},\"colorscale\":[[0.0,\"#0d0887\"],[0.1111111111111111,\"#46039f\"],[0.2222222222222222,\"#7201a8\"],[0.3333333333333333,\"#9c179e\"],[0.4444444444444444,\"#bd3786\"],[0.5555555555555556,\"#d8576b\"],[0.6666666666666666,\"#ed7953\"],[0.7777777777777778,\"#fb9f3a\"],[0.8888888888888888,\"#fdca26\"],[1.0,\"#f0f921\"]]}],\"choropleth\":[{\"type\":\"choropleth\",\"colorbar\":{\"outlinewidth\":0,\"ticks\":\"\"}}],\"histogram2d\":[{\"type\":\"histogram2d\",\"colorbar\":{\"outlinewidth\":0,\"ticks\":\"\"},\"colorscale\":[[0.0,\"#0d0887\"],[0.1111111111111111,\"#46039f\"],[0.2222222222222222,\"#7201a8\"],[0.3333333333333333,\"#9c179e\"],[0.4444444444444444,\"#bd3786\"],[0.5555555555555556,\"#d8576b\"],[0.6666666666666666,\"#ed7953\"],[0.7777777777777778,\"#fb9f3a\"],[0.8888888888888888,\"#fdca26\"],[1.0,\"#f0f921\"]]}],\"heatmap\":[{\"type\":\"heatmap\",\"colorbar\":{\"outlinewidth\":0,\"ticks\":\"\"},\"colorscale\":[[0.0,\"#0d0887\"],[0.1111111111111111,\"#46039f\"],[0.2222222222222222,\"#7201a8\"],[0.3333333333333333,\"#9c179e\"],[0.4444444444444444,\"#bd3786\"],[0.5555555555555556,\"#d8576b\"],[0.6666666666666666,\"#ed7953\"],[0.7777777777777778,\"#fb9f3a\"],[0.8888888888888888,\"#fdca26\"],[1.0,\"#f0f921\"]]}],\"heatmapgl\":[{\"type\":\"heatmapgl\",\"colorbar\":{\"outlinewidth\":0,\"ticks\":\"\"},\"colorscale\":[[0.0,\"#0d0887\"],[0.1111111111111111,\"#46039f\"],[0.2222222222222222,\"#7201a8\"],[0.3333333333333333,\"#9c179e\"],[0.4444444444444444,\"#bd3786\"],[0.5555555555555556,\"#d8576b\"],[0.6666666666666666,\"#ed7953\"],[0.7777777777777778,\"#fb9f3a\"],[0.8888888888888888,\"#fdca26\"],[1.0,\"#f0f921\"]]}],\"contourcarpet\":[{\"type\":\"contourcarpet\",\"colorbar\":{\"outlinewidth\":0,\"ticks\":\"\"}}],\"contour\":[{\"type\":\"contour\",\"colorbar\":{\"outlinewidth\":0,\"ticks\":\"\"},\"colorscale\":[[0.0,\"#0d0887\"],[0.1111111111111111,\"#46039f\"],[0.2222222222222222,\"#7201a8\"],[0.3333333333333333,\"#9c179e\"],[0.4444444444444444,\"#bd3786\"],[0.5555555555555556,\"#d8576b\"],[0.6666666666666666,\"#ed7953\"],[0.7777777777777778,\"#fb9f3a\"],[0.8888888888888888,\"#fdca26\"],[1.0,\"#f0f921\"]]}],\"surface\":[{\"type\":\"surface\",\"colorbar\":{\"outlinewidth\":0,\"ticks\":\"\"},\"colorscale\":[[0.0,\"#0d0887\"],[0.1111111111111111,\"#46039f\"],[0.2222222222222222,\"#7201a8\"],[0.3333333333333333,\"#9c179e\"],[0.4444444444444444,\"#bd3786\"],[0.5555555555555556,\"#d8576b\"],[0.6666666666666666,\"#ed7953\"],[0.7777777777777778,\"#fb9f3a\"],[0.8888888888888888,\"#fdca26\"],[1.0,\"#f0f921\"]]}],\"mesh3d\":[{\"type\":\"mesh3d\",\"colorbar\":{\"outlinewidth\":0,\"ticks\":\"\"}}],\"scatter\":[{\"fillpattern\":{\"fillmode\":\"overlay\",\"size\":10,\"solidity\":0.2},\"type\":\"scatter\"}],\"parcoords\":[{\"type\":\"parcoords\",\"line\":{\"colorbar\":{\"outlinewidth\":0,\"ticks\":\"\"}}}],\"scatterpolargl\":[{\"type\":\"scatterpolargl\",\"marker\":{\"colorbar\":{\"outlinewidth\":0,\"ticks\":\"\"}}}],\"bar\":[{\"error_x\":{\"color\":\"#2a3f5f\"},\"error_y\":{\"color\":\"#2a3f5f\"},\"marker\":{\"line\":{\"color\":\"#E5ECF6\",\"width\":0.5},\"pattern\":{\"fillmode\":\"overlay\",\"size\":10,\"solidity\":0.2}},\"type\":\"bar\"}],\"scattergeo\":[{\"type\":\"scattergeo\",\"marker\":{\"colorbar\":{\"outlinewidth\":0,\"ticks\":\"\"}}}],\"scatterpolar\":[{\"type\":\"scatterpolar\",\"marker\":{\"colorbar\":{\"outlinewidth\":0,\"ticks\":\"\"}}}],\"histogram\":[{\"marker\":{\"pattern\":{\"fillmode\":\"overlay\",\"size\":10,\"solidity\":0.2}},\"type\":\"histogram\"}],\"scattergl\":[{\"type\":\"scattergl\",\"marker\":{\"colorbar\":{\"outlinewidth\":0,\"ticks\":\"\"}}}],\"scatter3d\":[{\"type\":\"scatter3d\",\"line\":{\"colorbar\":{\"outlinewidth\":0,\"ticks\":\"\"}},\"marker\":{\"colorbar\":{\"outlinewidth\":0,\"ticks\":\"\"}}}],\"scattermapbox\":[{\"type\":\"scattermapbox\",\"marker\":{\"colorbar\":{\"outlinewidth\":0,\"ticks\":\"\"}}}],\"scatterternary\":[{\"type\":\"scatterternary\",\"marker\":{\"colorbar\":{\"outlinewidth\":0,\"ticks\":\"\"}}}],\"scattercarpet\":[{\"type\":\"scattercarpet\",\"marker\":{\"colorbar\":{\"outlinewidth\":0,\"ticks\":\"\"}}}],\"carpet\":[{\"aaxis\":{\"endlinecolor\":\"#2a3f5f\",\"gridcolor\":\"white\",\"linecolor\":\"white\",\"minorgridcolor\":\"white\",\"startlinecolor\":\"#2a3f5f\"},\"baxis\":{\"endlinecolor\":\"#2a3f5f\",\"gridcolor\":\"white\",\"linecolor\":\"white\",\"minorgridcolor\":\"white\",\"startlinecolor\":\"#2a3f5f\"},\"type\":\"carpet\"}],\"table\":[{\"cells\":{\"fill\":{\"color\":\"#EBF0F8\"},\"line\":{\"color\":\"white\"}},\"header\":{\"fill\":{\"color\":\"#C8D4E3\"},\"line\":{\"color\":\"white\"}},\"type\":\"table\"}],\"barpolar\":[{\"marker\":{\"line\":{\"color\":\"#E5ECF6\",\"width\":0.5},\"pattern\":{\"fillmode\":\"overlay\",\"size\":10,\"solidity\":0.2}},\"type\":\"barpolar\"}],\"pie\":[{\"automargin\":true,\"type\":\"pie\"}]},\"layout\":{\"autotypenumbers\":\"strict\",\"colorway\":[\"#636efa\",\"#EF553B\",\"#00cc96\",\"#ab63fa\",\"#FFA15A\",\"#19d3f3\",\"#FF6692\",\"#B6E880\",\"#FF97FF\",\"#FECB52\"],\"font\":{\"color\":\"#2a3f5f\"},\"hovermode\":\"closest\",\"hoverlabel\":{\"align\":\"left\"},\"paper_bgcolor\":\"white\",\"plot_bgcolor\":\"#E5ECF6\",\"polar\":{\"bgcolor\":\"#E5ECF6\",\"angularaxis\":{\"gridcolor\":\"white\",\"linecolor\":\"white\",\"ticks\":\"\"},\"radialaxis\":{\"gridcolor\":\"white\",\"linecolor\":\"white\",\"ticks\":\"\"}},\"ternary\":{\"bgcolor\":\"#E5ECF6\",\"aaxis\":{\"gridcolor\":\"white\",\"linecolor\":\"white\",\"ticks\":\"\"},\"baxis\":{\"gridcolor\":\"white\",\"linecolor\":\"white\",\"ticks\":\"\"},\"caxis\":{\"gridcolor\":\"white\",\"linecolor\":\"white\",\"ticks\":\"\"}},\"coloraxis\":{\"colorbar\":{\"outlinewidth\":0,\"ticks\":\"\"}},\"colorscale\":{\"sequential\":[[0.0,\"#0d0887\"],[0.1111111111111111,\"#46039f\"],[0.2222222222222222,\"#7201a8\"],[0.3333333333333333,\"#9c179e\"],[0.4444444444444444,\"#bd3786\"],[0.5555555555555556,\"#d8576b\"],[0.6666666666666666,\"#ed7953\"],[0.7777777777777778,\"#fb9f3a\"],[0.8888888888888888,\"#fdca26\"],[1.0,\"#f0f921\"]],\"sequentialminus\":[[0.0,\"#0d0887\"],[0.1111111111111111,\"#46039f\"],[0.2222222222222222,\"#7201a8\"],[0.3333333333333333,\"#9c179e\"],[0.4444444444444444,\"#bd3786\"],[0.5555555555555556,\"#d8576b\"],[0.6666666666666666,\"#ed7953\"],[0.7777777777777778,\"#fb9f3a\"],[0.8888888888888888,\"#fdca26\"],[1.0,\"#f0f921\"]],\"diverging\":[[0,\"#8e0152\"],[0.1,\"#c51b7d\"],[0.2,\"#de77ae\"],[0.3,\"#f1b6da\"],[0.4,\"#fde0ef\"],[0.5,\"#f7f7f7\"],[0.6,\"#e6f5d0\"],[0.7,\"#b8e186\"],[0.8,\"#7fbc41\"],[0.9,\"#4d9221\"],[1,\"#276419\"]]},\"xaxis\":{\"gridcolor\":\"white\",\"linecolor\":\"white\",\"ticks\":\"\",\"title\":{\"standoff\":15},\"zerolinecolor\":\"white\",\"automargin\":true,\"zerolinewidth\":2},\"yaxis\":{\"gridcolor\":\"white\",\"linecolor\":\"white\",\"ticks\":\"\",\"title\":{\"standoff\":15},\"zerolinecolor\":\"white\",\"automargin\":true,\"zerolinewidth\":2},\"scene\":{\"xaxis\":{\"backgroundcolor\":\"#E5ECF6\",\"gridcolor\":\"white\",\"linecolor\":\"white\",\"showbackground\":true,\"ticks\":\"\",\"zerolinecolor\":\"white\",\"gridwidth\":2},\"yaxis\":{\"backgroundcolor\":\"#E5ECF6\",\"gridcolor\":\"white\",\"linecolor\":\"white\",\"showbackground\":true,\"ticks\":\"\",\"zerolinecolor\":\"white\",\"gridwidth\":2},\"zaxis\":{\"backgroundcolor\":\"#E5ECF6\",\"gridcolor\":\"white\",\"linecolor\":\"white\",\"showbackground\":true,\"ticks\":\"\",\"zerolinecolor\":\"white\",\"gridwidth\":2}},\"shapedefaults\":{\"line\":{\"color\":\"#2a3f5f\"}},\"annotationdefaults\":{\"arrowcolor\":\"#2a3f5f\",\"arrowhead\":0,\"arrowwidth\":1},\"geo\":{\"bgcolor\":\"white\",\"landcolor\":\"#E5ECF6\",\"subunitcolor\":\"white\",\"showland\":true,\"showlakes\":true,\"lakecolor\":\"white\"},\"title\":{\"x\":0.05},\"mapbox\":{\"style\":\"light\"}}},\"title\":{\"text\":\"The Total Number of Heavy-Duty Trucks with The Issue of Jumping Mileage or Hour by Brands\"},\"barmode\":\"stack\",\"xaxis\":{\"title\":{\"text\":\"Trucks' Brands\"}},\"yaxis\":{\"title\":{\"text\":\"Total Issued Amount\"}}},                        {\"responsive\": true}                    ).then(function(){\n",
       "                            \n",
       "var gd = document.getElementById('d581d1b4-a5c8-4520-a763-e58abf998133');\n",
       "var x = new MutationObserver(function (mutations, observer) {{\n",
       "        var display = window.getComputedStyle(gd).display;\n",
       "        if (!display || display === 'none') {{\n",
       "            console.log([gd, 'removed!']);\n",
       "            Plotly.purge(gd);\n",
       "            observer.disconnect();\n",
       "        }}\n",
       "}});\n",
       "\n",
       "// Listen for the removal of the full notebook cells\n",
       "var notebookContainer = gd.closest('#notebook-container');\n",
       "if (notebookContainer) {{\n",
       "    x.observe(notebookContainer, {childList: true});\n",
       "}}\n",
       "\n",
       "// Listen for the clearing of the current output cell\n",
       "var outputEl = gd.closest('.output');\n",
       "if (outputEl) {{\n",
       "    x.observe(outputEl, {childList: true});\n",
       "}}\n",
       "\n",
       "                        })                };                });            </script>        </div>"
      ]
     },
     "metadata": {},
     "output_type": "display_data"
    }
   ],
   "source": [
    "import plotly.graph_objects as go\n",
    "Vehiclemake = [\"Freightliner\", \"Volvo\", \"Kenworth\", \"Peterbilt\", \"Western Star\", \"International\"]\n",
    "\n",
    "fig = go.Figure()\n",
    "fig.add_trace(go.Bar(x=Vehiclemake, y=EDM['VehicleMake'].value_counts()[:6], name=\"Jumping Mileage\", text=EDM['VehicleMake'].value_counts()[:6], textposition='outside'))\n",
    "fig.add_trace(go.Bar(x=Vehiclemake, y=EDH['VehicleMake'].value_counts()[:6], name=\"Jumping Mileage\", text=EDH['VehicleMake'].value_counts()[:6], textposition='outside'))\n",
    "fig.add_trace(go.Bar(x=Vehiclemake, y=EDMH['VehicleMake'].value_counts()[:6], name=\"Jumping Mileage\", text=EDMH['VehicleMake'].value_counts()[:6], textposition='outside'))\n",
    "\n",
    "\n",
    "#fig = go.Figure(data=[\n",
    "#    go.Bar(name='Jumping Mileage', x=Vehiclemake, y=EDM['VehicleMake'].value_counts()[:6]),\n",
    "#    go.Bar(name='Jumping Hour', x=Vehiclemake, y=EDH['VehicleMake'].value_counts()[:6]),\n",
    "#    go.Bar(name='Jumping Mileage/Hour', x=Vehiclemake, y=EDMH['VehicleMake'].value_counts()[:6]), \n",
    "#])\n",
    "fig.update_layout(barmode='stack', title_text=\"The Total Number of Heavy-Duty Trucks with The Issue of Jumping Mileage or Hour by Brands\", xaxis_title=\"Trucks' Brands\", yaxis_title=\"Total Issued Amount\")\n",
    "\n",
    "\n",
    "\n",
    "\n",
    "#z = [EDM['VehicleMake'].value_counts()[:6], EDH['VehicleMake'].value_counts()[:6], EDMH['VehicleMake'].value_counts()[:6]]\n",
    "\n",
    "#for i, g in enumerate(z):\n",
    "#    go.text(i, g-8, g'{g}')\n",
    "\n",
    "#fig.update_traces(text=z, textposition='outside')\n",
    "#fig.update_traces(text=EDNew['InvalidType'].value_counts()[:3], textposition='outside')\n",
    "#fig.update_traces(text=EDM['VehicleMake'].value_counts()[:6], textposition='outside')\n",
    "#fig.update_traces(text=EDH['VehicleMake'].value_counts()[:6], textposition='outside')\n",
    "#fig.update_traces(text=EDMH['VehicleMake'].value_counts()[:6], textposition='outside')\n",
    "#fig.update_layout(uniformtext=dict(mode=\"hide\", minsize=10))\n",
    "\n",
    "#fig = go.bar(EDNew, x=VehicleMake, )\n",
    "fig.show()"
   ]
  },
  {
   "cell_type": "code",
   "execution_count": 158,
   "id": "4ee6009d",
   "metadata": {},
   "outputs": [],
   "source": [
    "#import plotly.graph_objects as go\n",
    "#Vehiclemake = [\"Freightliner\", \"Volvo\", \"Kenworth\", \"Peterbilt\", \"Western Star\", \"International\"]\n",
    "#fig = go.Figure(data=[\n",
    "#    go.Bar(name='Jumping Mileage', x=Vehiclemake, y=EDM['VehicleMake'].value_counts()[:6]),\n",
    "#    go.Bar(name='Jumping Hour', x=Vehiclemake, y=EDH['VehicleMake'].value_counts()[:6]),\n",
    "#    go.Bar(name='Jumping Mileage/Hour', x=Vehiclemake, y=EDMH['VehicleMake'].value_counts()[:6]), \n",
    "#])\n",
    "#fig.update_layout(barmode='stack', title_text=\"The Total Number of Heavy-Duty Trucks with The Issue of Jumping Mileage or Hour by Brands\")\n",
    "\n",
    "\n",
    "\n",
    "\n",
    "#z = [EDM['VehicleMake'].value_counts()[:6], EDH['VehicleMake'].value_counts()[:6], EDMH['VehicleMake'].value_counts()[:6]]\n",
    "\n",
    "#for i, g in enumerate(z):\n",
    "#    go.text(i, g-8, g'{g}')\n",
    "\n",
    "#fig.update_traces(text=z, textposition='outside')\n",
    "#fig.update_traces(text=EDNew['InvalidType'].value_counts()[:3], textposition='outside')\n",
    "#fig.update_traces(text=EDM['VehicleMake'].value_counts()[:6], textposition='outside')\n",
    "#fig.update_traces(text=EDH['VehicleMake'].value_counts()[:6], textposition='outside')\n",
    "#fig.update_traces(text=EDMH['VehicleMake'].value_counts()[:6], textposition='outside')\n",
    "#fig.update_layout(uniformtext=dict(mode=\"hide\", minsize=10))\n",
    "\n",
    "#fig = go.bar(EDNew, x=VehicleMake, )\n",
    "#fig.show()"
   ]
  },
  {
   "cell_type": "code",
   "execution_count": 419,
   "id": "1a01c12d",
   "metadata": {},
   "outputs": [
    {
     "data": {
      "application/vnd.plotly.v1+json": {
       "config": {
        "plotlyServerURL": "https://plot.ly"
       },
       "data": [
        {
         "name": "Jumping Mileage",
         "text": [
          264,
          53,
          27,
          12,
          4,
          1
         ],
         "textposition": "outside",
         "type": "bar",
         "x": [
          "Freightliner",
          "Volvo",
          "Kenworth",
          "Peterbilt",
          "Western Star",
          "International"
         ],
         "y": [
          264,
          53,
          27,
          12,
          4,
          1
         ]
        },
        {
         "name": "Jumping Hour",
         "text": [
          92,
          26,
          4,
          2
         ],
         "textposition": "outside",
         "type": "bar",
         "x": [
          "Freightliner",
          "Volvo",
          "Kenworth",
          "Peterbilt",
          "Western Star",
          "International"
         ],
         "y": [
          92,
          26,
          4,
          2
         ]
        },
        {
         "name": "Jumping Mileage/Hour",
         "text": [
          65,
          16,
          3,
          2,
          1,
          1
         ],
         "textposition": "outside",
         "type": "bar",
         "x": [
          "Freightliner",
          "Volvo",
          "Kenworth",
          "Peterbilt",
          "Western Star",
          "International"
         ],
         "y": [
          65,
          16,
          3,
          2,
          1,
          1
         ]
        }
       ],
       "layout": {
        "barmode": "group",
        "template": {
         "data": {
          "bar": [
           {
            "error_x": {
             "color": "#2a3f5f"
            },
            "error_y": {
             "color": "#2a3f5f"
            },
            "marker": {
             "line": {
              "color": "#E5ECF6",
              "width": 0.5
             },
             "pattern": {
              "fillmode": "overlay",
              "size": 10,
              "solidity": 0.2
             }
            },
            "type": "bar"
           }
          ],
          "barpolar": [
           {
            "marker": {
             "line": {
              "color": "#E5ECF6",
              "width": 0.5
             },
             "pattern": {
              "fillmode": "overlay",
              "size": 10,
              "solidity": 0.2
             }
            },
            "type": "barpolar"
           }
          ],
          "carpet": [
           {
            "aaxis": {
             "endlinecolor": "#2a3f5f",
             "gridcolor": "white",
             "linecolor": "white",
             "minorgridcolor": "white",
             "startlinecolor": "#2a3f5f"
            },
            "baxis": {
             "endlinecolor": "#2a3f5f",
             "gridcolor": "white",
             "linecolor": "white",
             "minorgridcolor": "white",
             "startlinecolor": "#2a3f5f"
            },
            "type": "carpet"
           }
          ],
          "choropleth": [
           {
            "colorbar": {
             "outlinewidth": 0,
             "ticks": ""
            },
            "type": "choropleth"
           }
          ],
          "contour": [
           {
            "colorbar": {
             "outlinewidth": 0,
             "ticks": ""
            },
            "colorscale": [
             [
              0,
              "#0d0887"
             ],
             [
              0.1111111111111111,
              "#46039f"
             ],
             [
              0.2222222222222222,
              "#7201a8"
             ],
             [
              0.3333333333333333,
              "#9c179e"
             ],
             [
              0.4444444444444444,
              "#bd3786"
             ],
             [
              0.5555555555555556,
              "#d8576b"
             ],
             [
              0.6666666666666666,
              "#ed7953"
             ],
             [
              0.7777777777777778,
              "#fb9f3a"
             ],
             [
              0.8888888888888888,
              "#fdca26"
             ],
             [
              1,
              "#f0f921"
             ]
            ],
            "type": "contour"
           }
          ],
          "contourcarpet": [
           {
            "colorbar": {
             "outlinewidth": 0,
             "ticks": ""
            },
            "type": "contourcarpet"
           }
          ],
          "heatmap": [
           {
            "colorbar": {
             "outlinewidth": 0,
             "ticks": ""
            },
            "colorscale": [
             [
              0,
              "#0d0887"
             ],
             [
              0.1111111111111111,
              "#46039f"
             ],
             [
              0.2222222222222222,
              "#7201a8"
             ],
             [
              0.3333333333333333,
              "#9c179e"
             ],
             [
              0.4444444444444444,
              "#bd3786"
             ],
             [
              0.5555555555555556,
              "#d8576b"
             ],
             [
              0.6666666666666666,
              "#ed7953"
             ],
             [
              0.7777777777777778,
              "#fb9f3a"
             ],
             [
              0.8888888888888888,
              "#fdca26"
             ],
             [
              1,
              "#f0f921"
             ]
            ],
            "type": "heatmap"
           }
          ],
          "heatmapgl": [
           {
            "colorbar": {
             "outlinewidth": 0,
             "ticks": ""
            },
            "colorscale": [
             [
              0,
              "#0d0887"
             ],
             [
              0.1111111111111111,
              "#46039f"
             ],
             [
              0.2222222222222222,
              "#7201a8"
             ],
             [
              0.3333333333333333,
              "#9c179e"
             ],
             [
              0.4444444444444444,
              "#bd3786"
             ],
             [
              0.5555555555555556,
              "#d8576b"
             ],
             [
              0.6666666666666666,
              "#ed7953"
             ],
             [
              0.7777777777777778,
              "#fb9f3a"
             ],
             [
              0.8888888888888888,
              "#fdca26"
             ],
             [
              1,
              "#f0f921"
             ]
            ],
            "type": "heatmapgl"
           }
          ],
          "histogram": [
           {
            "marker": {
             "pattern": {
              "fillmode": "overlay",
              "size": 10,
              "solidity": 0.2
             }
            },
            "type": "histogram"
           }
          ],
          "histogram2d": [
           {
            "colorbar": {
             "outlinewidth": 0,
             "ticks": ""
            },
            "colorscale": [
             [
              0,
              "#0d0887"
             ],
             [
              0.1111111111111111,
              "#46039f"
             ],
             [
              0.2222222222222222,
              "#7201a8"
             ],
             [
              0.3333333333333333,
              "#9c179e"
             ],
             [
              0.4444444444444444,
              "#bd3786"
             ],
             [
              0.5555555555555556,
              "#d8576b"
             ],
             [
              0.6666666666666666,
              "#ed7953"
             ],
             [
              0.7777777777777778,
              "#fb9f3a"
             ],
             [
              0.8888888888888888,
              "#fdca26"
             ],
             [
              1,
              "#f0f921"
             ]
            ],
            "type": "histogram2d"
           }
          ],
          "histogram2dcontour": [
           {
            "colorbar": {
             "outlinewidth": 0,
             "ticks": ""
            },
            "colorscale": [
             [
              0,
              "#0d0887"
             ],
             [
              0.1111111111111111,
              "#46039f"
             ],
             [
              0.2222222222222222,
              "#7201a8"
             ],
             [
              0.3333333333333333,
              "#9c179e"
             ],
             [
              0.4444444444444444,
              "#bd3786"
             ],
             [
              0.5555555555555556,
              "#d8576b"
             ],
             [
              0.6666666666666666,
              "#ed7953"
             ],
             [
              0.7777777777777778,
              "#fb9f3a"
             ],
             [
              0.8888888888888888,
              "#fdca26"
             ],
             [
              1,
              "#f0f921"
             ]
            ],
            "type": "histogram2dcontour"
           }
          ],
          "mesh3d": [
           {
            "colorbar": {
             "outlinewidth": 0,
             "ticks": ""
            },
            "type": "mesh3d"
           }
          ],
          "parcoords": [
           {
            "line": {
             "colorbar": {
              "outlinewidth": 0,
              "ticks": ""
             }
            },
            "type": "parcoords"
           }
          ],
          "pie": [
           {
            "automargin": true,
            "type": "pie"
           }
          ],
          "scatter": [
           {
            "fillpattern": {
             "fillmode": "overlay",
             "size": 10,
             "solidity": 0.2
            },
            "type": "scatter"
           }
          ],
          "scatter3d": [
           {
            "line": {
             "colorbar": {
              "outlinewidth": 0,
              "ticks": ""
             }
            },
            "marker": {
             "colorbar": {
              "outlinewidth": 0,
              "ticks": ""
             }
            },
            "type": "scatter3d"
           }
          ],
          "scattercarpet": [
           {
            "marker": {
             "colorbar": {
              "outlinewidth": 0,
              "ticks": ""
             }
            },
            "type": "scattercarpet"
           }
          ],
          "scattergeo": [
           {
            "marker": {
             "colorbar": {
              "outlinewidth": 0,
              "ticks": ""
             }
            },
            "type": "scattergeo"
           }
          ],
          "scattergl": [
           {
            "marker": {
             "colorbar": {
              "outlinewidth": 0,
              "ticks": ""
             }
            },
            "type": "scattergl"
           }
          ],
          "scattermapbox": [
           {
            "marker": {
             "colorbar": {
              "outlinewidth": 0,
              "ticks": ""
             }
            },
            "type": "scattermapbox"
           }
          ],
          "scatterpolar": [
           {
            "marker": {
             "colorbar": {
              "outlinewidth": 0,
              "ticks": ""
             }
            },
            "type": "scatterpolar"
           }
          ],
          "scatterpolargl": [
           {
            "marker": {
             "colorbar": {
              "outlinewidth": 0,
              "ticks": ""
             }
            },
            "type": "scatterpolargl"
           }
          ],
          "scatterternary": [
           {
            "marker": {
             "colorbar": {
              "outlinewidth": 0,
              "ticks": ""
             }
            },
            "type": "scatterternary"
           }
          ],
          "surface": [
           {
            "colorbar": {
             "outlinewidth": 0,
             "ticks": ""
            },
            "colorscale": [
             [
              0,
              "#0d0887"
             ],
             [
              0.1111111111111111,
              "#46039f"
             ],
             [
              0.2222222222222222,
              "#7201a8"
             ],
             [
              0.3333333333333333,
              "#9c179e"
             ],
             [
              0.4444444444444444,
              "#bd3786"
             ],
             [
              0.5555555555555556,
              "#d8576b"
             ],
             [
              0.6666666666666666,
              "#ed7953"
             ],
             [
              0.7777777777777778,
              "#fb9f3a"
             ],
             [
              0.8888888888888888,
              "#fdca26"
             ],
             [
              1,
              "#f0f921"
             ]
            ],
            "type": "surface"
           }
          ],
          "table": [
           {
            "cells": {
             "fill": {
              "color": "#EBF0F8"
             },
             "line": {
              "color": "white"
             }
            },
            "header": {
             "fill": {
              "color": "#C8D4E3"
             },
             "line": {
              "color": "white"
             }
            },
            "type": "table"
           }
          ]
         },
         "layout": {
          "annotationdefaults": {
           "arrowcolor": "#2a3f5f",
           "arrowhead": 0,
           "arrowwidth": 1
          },
          "autotypenumbers": "strict",
          "coloraxis": {
           "colorbar": {
            "outlinewidth": 0,
            "ticks": ""
           }
          },
          "colorscale": {
           "diverging": [
            [
             0,
             "#8e0152"
            ],
            [
             0.1,
             "#c51b7d"
            ],
            [
             0.2,
             "#de77ae"
            ],
            [
             0.3,
             "#f1b6da"
            ],
            [
             0.4,
             "#fde0ef"
            ],
            [
             0.5,
             "#f7f7f7"
            ],
            [
             0.6,
             "#e6f5d0"
            ],
            [
             0.7,
             "#b8e186"
            ],
            [
             0.8,
             "#7fbc41"
            ],
            [
             0.9,
             "#4d9221"
            ],
            [
             1,
             "#276419"
            ]
           ],
           "sequential": [
            [
             0,
             "#0d0887"
            ],
            [
             0.1111111111111111,
             "#46039f"
            ],
            [
             0.2222222222222222,
             "#7201a8"
            ],
            [
             0.3333333333333333,
             "#9c179e"
            ],
            [
             0.4444444444444444,
             "#bd3786"
            ],
            [
             0.5555555555555556,
             "#d8576b"
            ],
            [
             0.6666666666666666,
             "#ed7953"
            ],
            [
             0.7777777777777778,
             "#fb9f3a"
            ],
            [
             0.8888888888888888,
             "#fdca26"
            ],
            [
             1,
             "#f0f921"
            ]
           ],
           "sequentialminus": [
            [
             0,
             "#0d0887"
            ],
            [
             0.1111111111111111,
             "#46039f"
            ],
            [
             0.2222222222222222,
             "#7201a8"
            ],
            [
             0.3333333333333333,
             "#9c179e"
            ],
            [
             0.4444444444444444,
             "#bd3786"
            ],
            [
             0.5555555555555556,
             "#d8576b"
            ],
            [
             0.6666666666666666,
             "#ed7953"
            ],
            [
             0.7777777777777778,
             "#fb9f3a"
            ],
            [
             0.8888888888888888,
             "#fdca26"
            ],
            [
             1,
             "#f0f921"
            ]
           ]
          },
          "colorway": [
           "#636efa",
           "#EF553B",
           "#00cc96",
           "#ab63fa",
           "#FFA15A",
           "#19d3f3",
           "#FF6692",
           "#B6E880",
           "#FF97FF",
           "#FECB52"
          ],
          "font": {
           "color": "#2a3f5f"
          },
          "geo": {
           "bgcolor": "white",
           "lakecolor": "white",
           "landcolor": "#E5ECF6",
           "showlakes": true,
           "showland": true,
           "subunitcolor": "white"
          },
          "hoverlabel": {
           "align": "left"
          },
          "hovermode": "closest",
          "mapbox": {
           "style": "light"
          },
          "paper_bgcolor": "white",
          "plot_bgcolor": "#E5ECF6",
          "polar": {
           "angularaxis": {
            "gridcolor": "white",
            "linecolor": "white",
            "ticks": ""
           },
           "bgcolor": "#E5ECF6",
           "radialaxis": {
            "gridcolor": "white",
            "linecolor": "white",
            "ticks": ""
           }
          },
          "scene": {
           "xaxis": {
            "backgroundcolor": "#E5ECF6",
            "gridcolor": "white",
            "gridwidth": 2,
            "linecolor": "white",
            "showbackground": true,
            "ticks": "",
            "zerolinecolor": "white"
           },
           "yaxis": {
            "backgroundcolor": "#E5ECF6",
            "gridcolor": "white",
            "gridwidth": 2,
            "linecolor": "white",
            "showbackground": true,
            "ticks": "",
            "zerolinecolor": "white"
           },
           "zaxis": {
            "backgroundcolor": "#E5ECF6",
            "gridcolor": "white",
            "gridwidth": 2,
            "linecolor": "white",
            "showbackground": true,
            "ticks": "",
            "zerolinecolor": "white"
           }
          },
          "shapedefaults": {
           "line": {
            "color": "#2a3f5f"
           }
          },
          "ternary": {
           "aaxis": {
            "gridcolor": "white",
            "linecolor": "white",
            "ticks": ""
           },
           "baxis": {
            "gridcolor": "white",
            "linecolor": "white",
            "ticks": ""
           },
           "bgcolor": "#E5ECF6",
           "caxis": {
            "gridcolor": "white",
            "linecolor": "white",
            "ticks": ""
           }
          },
          "title": {
           "x": 0.05
          },
          "xaxis": {
           "automargin": true,
           "gridcolor": "white",
           "linecolor": "white",
           "ticks": "",
           "title": {
            "standoff": 15
           },
           "zerolinecolor": "white",
           "zerolinewidth": 2
          },
          "yaxis": {
           "automargin": true,
           "gridcolor": "white",
           "linecolor": "white",
           "ticks": "",
           "title": {
            "standoff": 15
           },
           "zerolinecolor": "white",
           "zerolinewidth": 2
          }
         }
        },
        "title": {
         "text": "The Total Number of Heavy-Duty Trucks with The Issue of Jumping Mileage or Hour by Brands"
        },
        "xaxis": {
         "title": {
          "text": "Trucks' Brands"
         }
        },
        "yaxis": {
         "title": {
          "text": "Total Issued Amount"
         }
        }
       }
      },
      "text/html": [
       "<div>                            <div id=\"ebec9aaf-0b62-4a61-abe6-c4073b27db1f\" class=\"plotly-graph-div\" style=\"height:525px; width:100%;\"></div>            <script type=\"text/javascript\">                require([\"plotly\"], function(Plotly) {                    window.PLOTLYENV=window.PLOTLYENV || {};                                    if (document.getElementById(\"ebec9aaf-0b62-4a61-abe6-c4073b27db1f\")) {                    Plotly.newPlot(                        \"ebec9aaf-0b62-4a61-abe6-c4073b27db1f\",                        [{\"name\":\"Jumping Mileage\",\"text\":[264.0,53.0,27.0,12.0,4.0,1.0],\"textposition\":\"outside\",\"x\":[\"Freightliner\",\"Volvo\",\"Kenworth\",\"Peterbilt\",\"Western Star\",\"International\"],\"y\":[264,53,27,12,4,1],\"type\":\"bar\"},{\"name\":\"Jumping Hour\",\"text\":[92.0,26.0,4.0,2.0],\"textposition\":\"outside\",\"x\":[\"Freightliner\",\"Volvo\",\"Kenworth\",\"Peterbilt\",\"Western Star\",\"International\"],\"y\":[92,26,4,2],\"type\":\"bar\"},{\"name\":\"Jumping Mileage/Hour\",\"text\":[65.0,16.0,3.0,2.0,1.0,1.0],\"textposition\":\"outside\",\"x\":[\"Freightliner\",\"Volvo\",\"Kenworth\",\"Peterbilt\",\"Western Star\",\"International\"],\"y\":[65,16,3,2,1,1],\"type\":\"bar\"}],                        {\"template\":{\"data\":{\"histogram2dcontour\":[{\"type\":\"histogram2dcontour\",\"colorbar\":{\"outlinewidth\":0,\"ticks\":\"\"},\"colorscale\":[[0.0,\"#0d0887\"],[0.1111111111111111,\"#46039f\"],[0.2222222222222222,\"#7201a8\"],[0.3333333333333333,\"#9c179e\"],[0.4444444444444444,\"#bd3786\"],[0.5555555555555556,\"#d8576b\"],[0.6666666666666666,\"#ed7953\"],[0.7777777777777778,\"#fb9f3a\"],[0.8888888888888888,\"#fdca26\"],[1.0,\"#f0f921\"]]}],\"choropleth\":[{\"type\":\"choropleth\",\"colorbar\":{\"outlinewidth\":0,\"ticks\":\"\"}}],\"histogram2d\":[{\"type\":\"histogram2d\",\"colorbar\":{\"outlinewidth\":0,\"ticks\":\"\"},\"colorscale\":[[0.0,\"#0d0887\"],[0.1111111111111111,\"#46039f\"],[0.2222222222222222,\"#7201a8\"],[0.3333333333333333,\"#9c179e\"],[0.4444444444444444,\"#bd3786\"],[0.5555555555555556,\"#d8576b\"],[0.6666666666666666,\"#ed7953\"],[0.7777777777777778,\"#fb9f3a\"],[0.8888888888888888,\"#fdca26\"],[1.0,\"#f0f921\"]]}],\"heatmap\":[{\"type\":\"heatmap\",\"colorbar\":{\"outlinewidth\":0,\"ticks\":\"\"},\"colorscale\":[[0.0,\"#0d0887\"],[0.1111111111111111,\"#46039f\"],[0.2222222222222222,\"#7201a8\"],[0.3333333333333333,\"#9c179e\"],[0.4444444444444444,\"#bd3786\"],[0.5555555555555556,\"#d8576b\"],[0.6666666666666666,\"#ed7953\"],[0.7777777777777778,\"#fb9f3a\"],[0.8888888888888888,\"#fdca26\"],[1.0,\"#f0f921\"]]}],\"heatmapgl\":[{\"type\":\"heatmapgl\",\"colorbar\":{\"outlinewidth\":0,\"ticks\":\"\"},\"colorscale\":[[0.0,\"#0d0887\"],[0.1111111111111111,\"#46039f\"],[0.2222222222222222,\"#7201a8\"],[0.3333333333333333,\"#9c179e\"],[0.4444444444444444,\"#bd3786\"],[0.5555555555555556,\"#d8576b\"],[0.6666666666666666,\"#ed7953\"],[0.7777777777777778,\"#fb9f3a\"],[0.8888888888888888,\"#fdca26\"],[1.0,\"#f0f921\"]]}],\"contourcarpet\":[{\"type\":\"contourcarpet\",\"colorbar\":{\"outlinewidth\":0,\"ticks\":\"\"}}],\"contour\":[{\"type\":\"contour\",\"colorbar\":{\"outlinewidth\":0,\"ticks\":\"\"},\"colorscale\":[[0.0,\"#0d0887\"],[0.1111111111111111,\"#46039f\"],[0.2222222222222222,\"#7201a8\"],[0.3333333333333333,\"#9c179e\"],[0.4444444444444444,\"#bd3786\"],[0.5555555555555556,\"#d8576b\"],[0.6666666666666666,\"#ed7953\"],[0.7777777777777778,\"#fb9f3a\"],[0.8888888888888888,\"#fdca26\"],[1.0,\"#f0f921\"]]}],\"surface\":[{\"type\":\"surface\",\"colorbar\":{\"outlinewidth\":0,\"ticks\":\"\"},\"colorscale\":[[0.0,\"#0d0887\"],[0.1111111111111111,\"#46039f\"],[0.2222222222222222,\"#7201a8\"],[0.3333333333333333,\"#9c179e\"],[0.4444444444444444,\"#bd3786\"],[0.5555555555555556,\"#d8576b\"],[0.6666666666666666,\"#ed7953\"],[0.7777777777777778,\"#fb9f3a\"],[0.8888888888888888,\"#fdca26\"],[1.0,\"#f0f921\"]]}],\"mesh3d\":[{\"type\":\"mesh3d\",\"colorbar\":{\"outlinewidth\":0,\"ticks\":\"\"}}],\"scatter\":[{\"fillpattern\":{\"fillmode\":\"overlay\",\"size\":10,\"solidity\":0.2},\"type\":\"scatter\"}],\"parcoords\":[{\"type\":\"parcoords\",\"line\":{\"colorbar\":{\"outlinewidth\":0,\"ticks\":\"\"}}}],\"scatterpolargl\":[{\"type\":\"scatterpolargl\",\"marker\":{\"colorbar\":{\"outlinewidth\":0,\"ticks\":\"\"}}}],\"bar\":[{\"error_x\":{\"color\":\"#2a3f5f\"},\"error_y\":{\"color\":\"#2a3f5f\"},\"marker\":{\"line\":{\"color\":\"#E5ECF6\",\"width\":0.5},\"pattern\":{\"fillmode\":\"overlay\",\"size\":10,\"solidity\":0.2}},\"type\":\"bar\"}],\"scattergeo\":[{\"type\":\"scattergeo\",\"marker\":{\"colorbar\":{\"outlinewidth\":0,\"ticks\":\"\"}}}],\"scatterpolar\":[{\"type\":\"scatterpolar\",\"marker\":{\"colorbar\":{\"outlinewidth\":0,\"ticks\":\"\"}}}],\"histogram\":[{\"marker\":{\"pattern\":{\"fillmode\":\"overlay\",\"size\":10,\"solidity\":0.2}},\"type\":\"histogram\"}],\"scattergl\":[{\"type\":\"scattergl\",\"marker\":{\"colorbar\":{\"outlinewidth\":0,\"ticks\":\"\"}}}],\"scatter3d\":[{\"type\":\"scatter3d\",\"line\":{\"colorbar\":{\"outlinewidth\":0,\"ticks\":\"\"}},\"marker\":{\"colorbar\":{\"outlinewidth\":0,\"ticks\":\"\"}}}],\"scattermapbox\":[{\"type\":\"scattermapbox\",\"marker\":{\"colorbar\":{\"outlinewidth\":0,\"ticks\":\"\"}}}],\"scatterternary\":[{\"type\":\"scatterternary\",\"marker\":{\"colorbar\":{\"outlinewidth\":0,\"ticks\":\"\"}}}],\"scattercarpet\":[{\"type\":\"scattercarpet\",\"marker\":{\"colorbar\":{\"outlinewidth\":0,\"ticks\":\"\"}}}],\"carpet\":[{\"aaxis\":{\"endlinecolor\":\"#2a3f5f\",\"gridcolor\":\"white\",\"linecolor\":\"white\",\"minorgridcolor\":\"white\",\"startlinecolor\":\"#2a3f5f\"},\"baxis\":{\"endlinecolor\":\"#2a3f5f\",\"gridcolor\":\"white\",\"linecolor\":\"white\",\"minorgridcolor\":\"white\",\"startlinecolor\":\"#2a3f5f\"},\"type\":\"carpet\"}],\"table\":[{\"cells\":{\"fill\":{\"color\":\"#EBF0F8\"},\"line\":{\"color\":\"white\"}},\"header\":{\"fill\":{\"color\":\"#C8D4E3\"},\"line\":{\"color\":\"white\"}},\"type\":\"table\"}],\"barpolar\":[{\"marker\":{\"line\":{\"color\":\"#E5ECF6\",\"width\":0.5},\"pattern\":{\"fillmode\":\"overlay\",\"size\":10,\"solidity\":0.2}},\"type\":\"barpolar\"}],\"pie\":[{\"automargin\":true,\"type\":\"pie\"}]},\"layout\":{\"autotypenumbers\":\"strict\",\"colorway\":[\"#636efa\",\"#EF553B\",\"#00cc96\",\"#ab63fa\",\"#FFA15A\",\"#19d3f3\",\"#FF6692\",\"#B6E880\",\"#FF97FF\",\"#FECB52\"],\"font\":{\"color\":\"#2a3f5f\"},\"hovermode\":\"closest\",\"hoverlabel\":{\"align\":\"left\"},\"paper_bgcolor\":\"white\",\"plot_bgcolor\":\"#E5ECF6\",\"polar\":{\"bgcolor\":\"#E5ECF6\",\"angularaxis\":{\"gridcolor\":\"white\",\"linecolor\":\"white\",\"ticks\":\"\"},\"radialaxis\":{\"gridcolor\":\"white\",\"linecolor\":\"white\",\"ticks\":\"\"}},\"ternary\":{\"bgcolor\":\"#E5ECF6\",\"aaxis\":{\"gridcolor\":\"white\",\"linecolor\":\"white\",\"ticks\":\"\"},\"baxis\":{\"gridcolor\":\"white\",\"linecolor\":\"white\",\"ticks\":\"\"},\"caxis\":{\"gridcolor\":\"white\",\"linecolor\":\"white\",\"ticks\":\"\"}},\"coloraxis\":{\"colorbar\":{\"outlinewidth\":0,\"ticks\":\"\"}},\"colorscale\":{\"sequential\":[[0.0,\"#0d0887\"],[0.1111111111111111,\"#46039f\"],[0.2222222222222222,\"#7201a8\"],[0.3333333333333333,\"#9c179e\"],[0.4444444444444444,\"#bd3786\"],[0.5555555555555556,\"#d8576b\"],[0.6666666666666666,\"#ed7953\"],[0.7777777777777778,\"#fb9f3a\"],[0.8888888888888888,\"#fdca26\"],[1.0,\"#f0f921\"]],\"sequentialminus\":[[0.0,\"#0d0887\"],[0.1111111111111111,\"#46039f\"],[0.2222222222222222,\"#7201a8\"],[0.3333333333333333,\"#9c179e\"],[0.4444444444444444,\"#bd3786\"],[0.5555555555555556,\"#d8576b\"],[0.6666666666666666,\"#ed7953\"],[0.7777777777777778,\"#fb9f3a\"],[0.8888888888888888,\"#fdca26\"],[1.0,\"#f0f921\"]],\"diverging\":[[0,\"#8e0152\"],[0.1,\"#c51b7d\"],[0.2,\"#de77ae\"],[0.3,\"#f1b6da\"],[0.4,\"#fde0ef\"],[0.5,\"#f7f7f7\"],[0.6,\"#e6f5d0\"],[0.7,\"#b8e186\"],[0.8,\"#7fbc41\"],[0.9,\"#4d9221\"],[1,\"#276419\"]]},\"xaxis\":{\"gridcolor\":\"white\",\"linecolor\":\"white\",\"ticks\":\"\",\"title\":{\"standoff\":15},\"zerolinecolor\":\"white\",\"automargin\":true,\"zerolinewidth\":2},\"yaxis\":{\"gridcolor\":\"white\",\"linecolor\":\"white\",\"ticks\":\"\",\"title\":{\"standoff\":15},\"zerolinecolor\":\"white\",\"automargin\":true,\"zerolinewidth\":2},\"scene\":{\"xaxis\":{\"backgroundcolor\":\"#E5ECF6\",\"gridcolor\":\"white\",\"linecolor\":\"white\",\"showbackground\":true,\"ticks\":\"\",\"zerolinecolor\":\"white\",\"gridwidth\":2},\"yaxis\":{\"backgroundcolor\":\"#E5ECF6\",\"gridcolor\":\"white\",\"linecolor\":\"white\",\"showbackground\":true,\"ticks\":\"\",\"zerolinecolor\":\"white\",\"gridwidth\":2},\"zaxis\":{\"backgroundcolor\":\"#E5ECF6\",\"gridcolor\":\"white\",\"linecolor\":\"white\",\"showbackground\":true,\"ticks\":\"\",\"zerolinecolor\":\"white\",\"gridwidth\":2}},\"shapedefaults\":{\"line\":{\"color\":\"#2a3f5f\"}},\"annotationdefaults\":{\"arrowcolor\":\"#2a3f5f\",\"arrowhead\":0,\"arrowwidth\":1},\"geo\":{\"bgcolor\":\"white\",\"landcolor\":\"#E5ECF6\",\"subunitcolor\":\"white\",\"showland\":true,\"showlakes\":true,\"lakecolor\":\"white\"},\"title\":{\"x\":0.05},\"mapbox\":{\"style\":\"light\"}}},\"title\":{\"text\":\"The Total Number of Heavy-Duty Trucks with The Issue of Jumping Mileage or Hour by Brands\"},\"barmode\":\"group\",\"xaxis\":{\"title\":{\"text\":\"Trucks' Brands\"}},\"yaxis\":{\"title\":{\"text\":\"Total Issued Amount\"}}},                        {\"responsive\": true}                    ).then(function(){\n",
       "                            \n",
       "var gd = document.getElementById('ebec9aaf-0b62-4a61-abe6-c4073b27db1f');\n",
       "var x = new MutationObserver(function (mutations, observer) {{\n",
       "        var display = window.getComputedStyle(gd).display;\n",
       "        if (!display || display === 'none') {{\n",
       "            console.log([gd, 'removed!']);\n",
       "            Plotly.purge(gd);\n",
       "            observer.disconnect();\n",
       "        }}\n",
       "}});\n",
       "\n",
       "// Listen for the removal of the full notebook cells\n",
       "var notebookContainer = gd.closest('#notebook-container');\n",
       "if (notebookContainer) {{\n",
       "    x.observe(notebookContainer, {childList: true});\n",
       "}}\n",
       "\n",
       "// Listen for the clearing of the current output cell\n",
       "var outputEl = gd.closest('.output');\n",
       "if (outputEl) {{\n",
       "    x.observe(outputEl, {childList: true});\n",
       "}}\n",
       "\n",
       "                        })                };                });            </script>        </div>"
      ]
     },
     "metadata": {},
     "output_type": "display_data"
    }
   ],
   "source": [
    "# plot grouped bar chart\n",
    "fig = go.Figure()\n",
    "fig.add_trace(go.Bar(x=Vehiclemake, y=EDM['VehicleMake'].value_counts()[:6], name=\"Jumping Mileage\", text=EDM['VehicleMake'].value_counts()[:6], textposition='outside'))\n",
    "fig.add_trace(go.Bar(x=Vehiclemake, y=EDH['VehicleMake'].value_counts()[:6], name=\"Jumping Hour\", text=EDH['VehicleMake'].value_counts()[:6], textposition='outside'))\n",
    "fig.add_trace(go.Bar(x=Vehiclemake, y=EDMH['VehicleMake'].value_counts()[:6], name=\"Jumping Mileage/Hour\", text=EDMH['VehicleMake'].value_counts()[:6], textposition='outside'))\n",
    "#fig.update_traces(marker_color='rgb(158,202,225)', marker_line_color='rgb(8,48,107)',\n",
    "#                  marker_line_width=1.5, opacity=0.6)\n",
    "fig.update_layout(barmode=\"group\", title_text=\"The Total Number of Heavy-Duty Trucks with The Issue of Jumping Mileage or Hour by Brands\", xaxis_title=\"Trucks' Brands\", yaxis_title=\"Total Issued Amount\")\n",
    "fig.show()"
   ]
  },
  {
   "cell_type": "code",
   "execution_count": 420,
   "id": "f49e3632",
   "metadata": {},
   "outputs": [
    {
     "data": {
      "text/html": [
       "<div>\n",
       "<style scoped>\n",
       "    .dataframe tbody tr th:only-of-type {\n",
       "        vertical-align: middle;\n",
       "    }\n",
       "\n",
       "    .dataframe tbody tr th {\n",
       "        vertical-align: top;\n",
       "    }\n",
       "\n",
       "    .dataframe thead th {\n",
       "        text-align: right;\n",
       "    }\n",
       "</style>\n",
       "<table border=\"1\" class=\"dataframe\">\n",
       "  <thead>\n",
       "    <tr style=\"text-align: right;\">\n",
       "      <th></th>\n",
       "      <th>SequenceNo</th>\n",
       "      <th>OrgName</th>\n",
       "      <th>Date</th>\n",
       "      <th>DriverName</th>\n",
       "      <th>InvalidType</th>\n",
       "      <th>VehicleMake</th>\n",
       "      <th>VehicleYear</th>\n",
       "      <th>VIN</th>\n",
       "      <th>SerialNo</th>\n",
       "    </tr>\n",
       "  </thead>\n",
       "  <tbody>\n",
       "    <tr>\n",
       "      <th>149</th>\n",
       "      <td>25</td>\n",
       "      <td>ZFX Transportation Inc.</td>\n",
       "      <td>1012023</td>\n",
       "      <td>Wei Liu</td>\n",
       "      <td>Mileage</td>\n",
       "      <td>Freightliner</td>\n",
       "      <td>2017</td>\n",
       "      <td>1FUJGLDR0HLHM7582</td>\n",
       "      <td>0</td>\n",
       "    </tr>\n",
       "    <tr>\n",
       "      <th>161</th>\n",
       "      <td>140</td>\n",
       "      <td>AT Trucking Inc.</td>\n",
       "      <td>1032023</td>\n",
       "      <td>Jun Yuan</td>\n",
       "      <td>Mileage</td>\n",
       "      <td>Freightliner</td>\n",
       "      <td>2017</td>\n",
       "      <td>1FUJGLDR2HLHF1869</td>\n",
       "      <td>211003045</td>\n",
       "    </tr>\n",
       "    <tr>\n",
       "      <th>190</th>\n",
       "      <td>1270</td>\n",
       "      <td>RXY Trucking Inc</td>\n",
       "      <td>1152023</td>\n",
       "      <td>mingchun chao</td>\n",
       "      <td>Mileage</td>\n",
       "      <td>Freightliner</td>\n",
       "      <td>2017</td>\n",
       "      <td>1FUJGLDR4HLHF2408</td>\n",
       "      <td>211003086</td>\n",
       "    </tr>\n",
       "    <tr>\n",
       "      <th>191</th>\n",
       "      <td>499</td>\n",
       "      <td>X-ang Inc</td>\n",
       "      <td>1072023</td>\n",
       "      <td>Haihua Wang</td>\n",
       "      <td>Mileage</td>\n",
       "      <td>Freightliner</td>\n",
       "      <td>2017</td>\n",
       "      <td>1FUJGLDR4HLHM7701</td>\n",
       "      <td>211003465</td>\n",
       "    </tr>\n",
       "    <tr>\n",
       "      <th>192</th>\n",
       "      <td>591</td>\n",
       "      <td>Magic Board Logistic Inc</td>\n",
       "      <td>1082023</td>\n",
       "      <td>NaN</td>\n",
       "      <td>Mileage</td>\n",
       "      <td>Freightliner</td>\n",
       "      <td>2018</td>\n",
       "      <td>1FUJGLDR4JLHX2667</td>\n",
       "      <td>0</td>\n",
       "    </tr>\n",
       "    <tr>\n",
       "      <th>...</th>\n",
       "      <td>...</td>\n",
       "      <td>...</td>\n",
       "      <td>...</td>\n",
       "      <td>...</td>\n",
       "      <td>...</td>\n",
       "      <td>...</td>\n",
       "      <td>...</td>\n",
       "      <td>...</td>\n",
       "      <td>...</td>\n",
       "    </tr>\n",
       "    <tr>\n",
       "      <th>2393</th>\n",
       "      <td>975</td>\n",
       "      <td>I&amp;R Logistics Inc</td>\n",
       "      <td>1122023</td>\n",
       "      <td>Chris Sun</td>\n",
       "      <td>Mileage</td>\n",
       "      <td>Volvo</td>\n",
       "      <td>2023</td>\n",
       "      <td>4V4NC9EJ8PN611768</td>\n",
       "      <td>211005170</td>\n",
       "    </tr>\n",
       "    <tr>\n",
       "      <th>2397</th>\n",
       "      <td>952</td>\n",
       "      <td>J &amp; Y Express Inc.</td>\n",
       "      <td>1122023</td>\n",
       "      <td>Mike Jin</td>\n",
       "      <td>Mileage</td>\n",
       "      <td>Volvo</td>\n",
       "      <td>2023</td>\n",
       "      <td>4V4NC9EJ8PN612094</td>\n",
       "      <td>211001935</td>\n",
       "    </tr>\n",
       "    <tr>\n",
       "      <th>2398</th>\n",
       "      <td>753</td>\n",
       "      <td>Link Logistics Inc.</td>\n",
       "      <td>1102023</td>\n",
       "      <td>Jianquan Yuan</td>\n",
       "      <td>Mileage</td>\n",
       "      <td>Volvo</td>\n",
       "      <td>2023</td>\n",
       "      <td>4V4NC9EJ9PN611794</td>\n",
       "      <td>211004939</td>\n",
       "    </tr>\n",
       "    <tr>\n",
       "      <th>2416</th>\n",
       "      <td>1441</td>\n",
       "      <td>Tailwind Express Inc</td>\n",
       "      <td>1182023</td>\n",
       "      <td>Zhongyi Wang</td>\n",
       "      <td>Mileage</td>\n",
       "      <td>Volvo</td>\n",
       "      <td>2019</td>\n",
       "      <td>4V4NC9TJ8KN217327</td>\n",
       "      <td>211004741</td>\n",
       "    </tr>\n",
       "    <tr>\n",
       "      <th>2436</th>\n",
       "      <td>1035</td>\n",
       "      <td>Z Tour LLC</td>\n",
       "      <td>1132023</td>\n",
       "      <td>Mingrui Liu</td>\n",
       "      <td>Mileage</td>\n",
       "      <td>Ford</td>\n",
       "      <td>2017</td>\n",
       "      <td>1FBAX2CM7HKA67208</td>\n",
       "      <td>171100134</td>\n",
       "    </tr>\n",
       "  </tbody>\n",
       "</table>\n",
       "<p>238 rows × 9 columns</p>\n",
       "</div>"
      ],
      "text/plain": [
       "      SequenceNo                   OrgName     Date     DriverName  \\\n",
       "149           25   ZFX Transportation Inc.  1012023        Wei Liu   \n",
       "161          140          AT Trucking Inc.  1032023       Jun Yuan   \n",
       "190         1270          RXY Trucking Inc  1152023  mingchun chao   \n",
       "191          499                 X-ang Inc  1072023    Haihua Wang   \n",
       "192          591  Magic Board Logistic Inc  1082023            NaN   \n",
       "...          ...                       ...      ...            ...   \n",
       "2393         975         I&R Logistics Inc  1122023      Chris Sun   \n",
       "2397         952        J & Y Express Inc.  1122023       Mike Jin   \n",
       "2398         753       Link Logistics Inc.  1102023  Jianquan Yuan   \n",
       "2416        1441      Tailwind Express Inc  1182023   Zhongyi Wang   \n",
       "2436        1035                Z Tour LLC  1132023    Mingrui Liu   \n",
       "\n",
       "     InvalidType   VehicleMake  VehicleYear                VIN   SerialNo  \n",
       "149      Mileage  Freightliner         2017  1FUJGLDR0HLHM7582          0  \n",
       "161      Mileage  Freightliner         2017  1FUJGLDR2HLHF1869  211003045  \n",
       "190      Mileage  Freightliner         2017  1FUJGLDR4HLHF2408  211003086  \n",
       "191      Mileage  Freightliner         2017  1FUJGLDR4HLHM7701  211003465  \n",
       "192      Mileage  Freightliner         2018  1FUJGLDR4JLHX2667          0  \n",
       "...          ...           ...          ...                ...        ...  \n",
       "2393     Mileage         Volvo         2023  4V4NC9EJ8PN611768  211005170  \n",
       "2397     Mileage         Volvo         2023  4V4NC9EJ8PN612094  211001935  \n",
       "2398     Mileage         Volvo         2023  4V4NC9EJ9PN611794  211004939  \n",
       "2416     Mileage         Volvo         2019  4V4NC9TJ8KN217327  211004741  \n",
       "2436     Mileage          Ford         2017  1FBAX2CM7HKA67208  171100134  \n",
       "\n",
       "[238 rows x 9 columns]"
      ]
     },
     "execution_count": 420,
     "metadata": {},
     "output_type": "execute_result"
    }
   ],
   "source": [
    "EDM2017 = EDM.loc[EDM[\"VehicleYear\"]>=2017]\n",
    "EDM2017"
   ]
  },
  {
   "cell_type": "code",
   "execution_count": 421,
   "id": "85f27b0e",
   "metadata": {},
   "outputs": [
    {
     "data": {
      "text/html": [
       "<div>\n",
       "<style scoped>\n",
       "    .dataframe tbody tr th:only-of-type {\n",
       "        vertical-align: middle;\n",
       "    }\n",
       "\n",
       "    .dataframe tbody tr th {\n",
       "        vertical-align: top;\n",
       "    }\n",
       "\n",
       "    .dataframe thead th {\n",
       "        text-align: right;\n",
       "    }\n",
       "</style>\n",
       "<table border=\"1\" class=\"dataframe\">\n",
       "  <thead>\n",
       "    <tr style=\"text-align: right;\">\n",
       "      <th></th>\n",
       "      <th>SequenceNo</th>\n",
       "      <th>OrgName</th>\n",
       "      <th>Date</th>\n",
       "      <th>DriverName</th>\n",
       "      <th>InvalidType</th>\n",
       "      <th>VehicleMake</th>\n",
       "      <th>VehicleYear</th>\n",
       "      <th>VIN</th>\n",
       "      <th>SerialNo</th>\n",
       "    </tr>\n",
       "  </thead>\n",
       "  <tbody>\n",
       "    <tr>\n",
       "      <th>0</th>\n",
       "      <td>946</td>\n",
       "      <td>Bazik Trucking Inc</td>\n",
       "      <td>1122023</td>\n",
       "      <td>George Bazik</td>\n",
       "      <td>Mileage</td>\n",
       "      <td>Freightliner</td>\n",
       "      <td>2014</td>\n",
       "      <td>1FUGGLD57ELFK4085</td>\n",
       "      <td>0</td>\n",
       "    </tr>\n",
       "    <tr>\n",
       "      <th>3</th>\n",
       "      <td>27</td>\n",
       "      <td>E in April Trucking Inc.</td>\n",
       "      <td>1012023</td>\n",
       "      <td>Fujiang Li</td>\n",
       "      <td>Mileage</td>\n",
       "      <td>Freightliner</td>\n",
       "      <td>2016</td>\n",
       "      <td>1FUJGLBG1GLGY3570</td>\n",
       "      <td>0</td>\n",
       "    </tr>\n",
       "    <tr>\n",
       "      <th>4</th>\n",
       "      <td>257</td>\n",
       "      <td>Suhao Transport Inc.</td>\n",
       "      <td>1042023</td>\n",
       "      <td>Shuhao Zhang</td>\n",
       "      <td>Mileage</td>\n",
       "      <td>Freightliner</td>\n",
       "      <td>2016</td>\n",
       "      <td>1FUJGLBG1GLGY8249</td>\n",
       "      <td>0</td>\n",
       "    </tr>\n",
       "    <tr>\n",
       "      <th>14</th>\n",
       "      <td>681</td>\n",
       "      <td>TM Transportation LLC</td>\n",
       "      <td>1092023</td>\n",
       "      <td>Luke May</td>\n",
       "      <td>Mileage</td>\n",
       "      <td>Freightliner</td>\n",
       "      <td>2011</td>\n",
       "      <td>1FUJGLBG6BSBA8097</td>\n",
       "      <td>0</td>\n",
       "    </tr>\n",
       "    <tr>\n",
       "      <th>34</th>\n",
       "      <td>222</td>\n",
       "      <td>CJ Lee Inc.</td>\n",
       "      <td>1042023</td>\n",
       "      <td>Cyrus Lee</td>\n",
       "      <td>Mileage</td>\n",
       "      <td>Freightliner</td>\n",
       "      <td>2016</td>\n",
       "      <td>1FUJGLD50GLGU1774</td>\n",
       "      <td>0</td>\n",
       "    </tr>\n",
       "    <tr>\n",
       "      <th>...</th>\n",
       "      <td>...</td>\n",
       "      <td>...</td>\n",
       "      <td>...</td>\n",
       "      <td>...</td>\n",
       "      <td>...</td>\n",
       "      <td>...</td>\n",
       "      <td>...</td>\n",
       "      <td>...</td>\n",
       "      <td>...</td>\n",
       "    </tr>\n",
       "    <tr>\n",
       "      <th>2310</th>\n",
       "      <td>1936</td>\n",
       "      <td>FEIDA Express Inc</td>\n",
       "      <td>1252023</td>\n",
       "      <td>ZESHI LI</td>\n",
       "      <td>Mileage</td>\n",
       "      <td>Volvo</td>\n",
       "      <td>2016</td>\n",
       "      <td>4V4NC9EHXGN945524</td>\n",
       "      <td>211001711</td>\n",
       "    </tr>\n",
       "    <tr>\n",
       "      <th>2407</th>\n",
       "      <td>61</td>\n",
       "      <td>Fortune Star Inc</td>\n",
       "      <td>1012023</td>\n",
       "      <td>Yan Quan</td>\n",
       "      <td>Mileage</td>\n",
       "      <td>Volvo</td>\n",
       "      <td>2015</td>\n",
       "      <td>4V4NC9TH9FN908336</td>\n",
       "      <td>0</td>\n",
       "    </tr>\n",
       "    <tr>\n",
       "      <th>2414</th>\n",
       "      <td>921</td>\n",
       "      <td>S R S Express Inc.</td>\n",
       "      <td>1122023</td>\n",
       "      <td>Sergey Gevorgyan</td>\n",
       "      <td>Mileage</td>\n",
       "      <td>Volvo</td>\n",
       "      <td>2014</td>\n",
       "      <td>4V4NC9TJ3EN176495</td>\n",
       "      <td>211002487</td>\n",
       "    </tr>\n",
       "    <tr>\n",
       "      <th>2417</th>\n",
       "      <td>247</td>\n",
       "      <td>SYH Trucking Company</td>\n",
       "      <td>1042023</td>\n",
       "      <td>Shao Yu</td>\n",
       "      <td>Mileage</td>\n",
       "      <td>Volvo</td>\n",
       "      <td>2013</td>\n",
       "      <td>4V4NC9TJ9DN131513</td>\n",
       "      <td>211003657</td>\n",
       "    </tr>\n",
       "    <tr>\n",
       "      <th>2418</th>\n",
       "      <td>117</td>\n",
       "      <td>TNS Express Inc.</td>\n",
       "      <td>1032023</td>\n",
       "      <td>Yan Wu</td>\n",
       "      <td>Mileage</td>\n",
       "      <td>Western Star</td>\n",
       "      <td>2016</td>\n",
       "      <td>5KJJBHDR6GLHA8737</td>\n",
       "      <td>211002604</td>\n",
       "    </tr>\n",
       "  </tbody>\n",
       "</table>\n",
       "<p>124 rows × 9 columns</p>\n",
       "</div>"
      ],
      "text/plain": [
       "      SequenceNo                   OrgName     Date        DriverName  \\\n",
       "0            946        Bazik Trucking Inc  1122023      George Bazik   \n",
       "3             27  E in April Trucking Inc.  1012023        Fujiang Li   \n",
       "4            257      Suhao Transport Inc.  1042023      Shuhao Zhang   \n",
       "14           681     TM Transportation LLC  1092023          Luke May   \n",
       "34           222               CJ Lee Inc.  1042023         Cyrus Lee   \n",
       "...          ...                       ...      ...               ...   \n",
       "2310        1936         FEIDA Express Inc  1252023          ZESHI LI   \n",
       "2407          61          Fortune Star Inc  1012023          Yan Quan   \n",
       "2414         921        S R S Express Inc.  1122023  Sergey Gevorgyan   \n",
       "2417         247      SYH Trucking Company  1042023           Shao Yu   \n",
       "2418         117          TNS Express Inc.  1032023            Yan Wu   \n",
       "\n",
       "     InvalidType   VehicleMake  VehicleYear                VIN   SerialNo  \n",
       "0        Mileage  Freightliner         2014  1FUGGLD57ELFK4085          0  \n",
       "3        Mileage  Freightliner         2016  1FUJGLBG1GLGY3570          0  \n",
       "4        Mileage  Freightliner         2016  1FUJGLBG1GLGY8249          0  \n",
       "14       Mileage  Freightliner         2011  1FUJGLBG6BSBA8097          0  \n",
       "34       Mileage  Freightliner         2016  1FUJGLD50GLGU1774          0  \n",
       "...          ...           ...          ...                ...        ...  \n",
       "2310     Mileage         Volvo         2016  4V4NC9EHXGN945524  211001711  \n",
       "2407     Mileage         Volvo         2015  4V4NC9TH9FN908336          0  \n",
       "2414     Mileage         Volvo         2014  4V4NC9TJ3EN176495  211002487  \n",
       "2417     Mileage         Volvo         2013  4V4NC9TJ9DN131513  211003657  \n",
       "2418     Mileage  Western Star         2016  5KJJBHDR6GLHA8737  211002604  \n",
       "\n",
       "[124 rows x 9 columns]"
      ]
     },
     "execution_count": 421,
     "metadata": {},
     "output_type": "execute_result"
    }
   ],
   "source": [
    "EDM2016 = EDM.loc[EDM[\"VehicleYear\"]<2017]\n",
    "EDM2016"
   ]
  },
  {
   "cell_type": "code",
   "execution_count": 422,
   "id": "d4f41f66",
   "metadata": {},
   "outputs": [
    {
     "data": {
      "text/html": [
       "<div>\n",
       "<style scoped>\n",
       "    .dataframe tbody tr th:only-of-type {\n",
       "        vertical-align: middle;\n",
       "    }\n",
       "\n",
       "    .dataframe tbody tr th {\n",
       "        vertical-align: top;\n",
       "    }\n",
       "\n",
       "    .dataframe thead th {\n",
       "        text-align: right;\n",
       "    }\n",
       "</style>\n",
       "<table border=\"1\" class=\"dataframe\">\n",
       "  <thead>\n",
       "    <tr style=\"text-align: right;\">\n",
       "      <th></th>\n",
       "      <th>SequenceNo</th>\n",
       "      <th>OrgName</th>\n",
       "      <th>Date</th>\n",
       "      <th>DriverName</th>\n",
       "      <th>InvalidType</th>\n",
       "      <th>VehicleMake</th>\n",
       "      <th>VehicleYear</th>\n",
       "      <th>VIN</th>\n",
       "      <th>SerialNo</th>\n",
       "    </tr>\n",
       "  </thead>\n",
       "  <tbody>\n",
       "    <tr>\n",
       "      <th>189</th>\n",
       "      <td>424</td>\n",
       "      <td>Youjen Express Inc</td>\n",
       "      <td>1062023</td>\n",
       "      <td>Congcong Li</td>\n",
       "      <td>Hour</td>\n",
       "      <td>Freightliner</td>\n",
       "      <td>2017</td>\n",
       "      <td>1FUJGLDR3HLHD2215</td>\n",
       "      <td>211005156</td>\n",
       "    </tr>\n",
       "    <tr>\n",
       "      <th>217</th>\n",
       "      <td>24</td>\n",
       "      <td>Pickup USA</td>\n",
       "      <td>1012023</td>\n",
       "      <td>Junye Hu</td>\n",
       "      <td>Hour</td>\n",
       "      <td>Freightliner</td>\n",
       "      <td>2018</td>\n",
       "      <td>1FUJGLDR7JLJH7949</td>\n",
       "      <td>211003923</td>\n",
       "    </tr>\n",
       "    <tr>\n",
       "      <th>228</th>\n",
       "      <td>285</td>\n",
       "      <td>Nine Dragon Transportation Inc</td>\n",
       "      <td>1052023</td>\n",
       "      <td>SUN KANG</td>\n",
       "      <td>Hour</td>\n",
       "      <td>Freightliner</td>\n",
       "      <td>2018</td>\n",
       "      <td>1FUJGLDR8JLJJ7313</td>\n",
       "      <td>211000994</td>\n",
       "    </tr>\n",
       "    <tr>\n",
       "      <th>229</th>\n",
       "      <td>449</td>\n",
       "      <td>Eight Banners Trucking Inc.</td>\n",
       "      <td>1072023</td>\n",
       "      <td>Kai Yang</td>\n",
       "      <td>Hour</td>\n",
       "      <td>Freightliner</td>\n",
       "      <td>2017</td>\n",
       "      <td>1FUJGLDR9HLHD2929</td>\n",
       "      <td>0</td>\n",
       "    </tr>\n",
       "    <tr>\n",
       "      <th>231</th>\n",
       "      <td>882</td>\n",
       "      <td>Fande Group Inc.</td>\n",
       "      <td>1112023</td>\n",
       "      <td>Fande Kong</td>\n",
       "      <td>Hour</td>\n",
       "      <td>Freightliner</td>\n",
       "      <td>2017</td>\n",
       "      <td>1FUJGLDR9HLHW0511</td>\n",
       "      <td>0</td>\n",
       "    </tr>\n",
       "    <tr>\n",
       "      <th>...</th>\n",
       "      <td>...</td>\n",
       "      <td>...</td>\n",
       "      <td>...</td>\n",
       "      <td>...</td>\n",
       "      <td>...</td>\n",
       "      <td>...</td>\n",
       "      <td>...</td>\n",
       "      <td>...</td>\n",
       "      <td>...</td>\n",
       "    </tr>\n",
       "    <tr>\n",
       "      <th>2348</th>\n",
       "      <td>421</td>\n",
       "      <td>Brilliant International LLC</td>\n",
       "      <td>1062023</td>\n",
       "      <td>Jiayi Li</td>\n",
       "      <td>Hour</td>\n",
       "      <td>Volvo</td>\n",
       "      <td>2020</td>\n",
       "      <td>4V4NC9EJ3LN200644</td>\n",
       "      <td>0</td>\n",
       "    </tr>\n",
       "    <tr>\n",
       "      <th>2373</th>\n",
       "      <td>585</td>\n",
       "      <td>Hong Yun Trucking Inc.</td>\n",
       "      <td>1082023</td>\n",
       "      <td>Chonghua Yan</td>\n",
       "      <td>Hour</td>\n",
       "      <td>Volvo</td>\n",
       "      <td>2022</td>\n",
       "      <td>4V4NC9EJ5NN298546</td>\n",
       "      <td>211002777</td>\n",
       "    </tr>\n",
       "    <tr>\n",
       "      <th>2382</th>\n",
       "      <td>1828</td>\n",
       "      <td>Polar Trucking Inc</td>\n",
       "      <td>1232023</td>\n",
       "      <td>Hefei Shi</td>\n",
       "      <td>Hour</td>\n",
       "      <td>Freightliner</td>\n",
       "      <td>2023</td>\n",
       "      <td>4V4NC9EJ6PN611784</td>\n",
       "      <td>211005206</td>\n",
       "    </tr>\n",
       "    <tr>\n",
       "      <th>2383</th>\n",
       "      <td>1234</td>\n",
       "      <td>Devic Transportation</td>\n",
       "      <td>1152023</td>\n",
       "      <td>Cong Wang</td>\n",
       "      <td>Hour</td>\n",
       "      <td>Volvo</td>\n",
       "      <td>2019</td>\n",
       "      <td>4V4NC9EJ7KN201603</td>\n",
       "      <td>0</td>\n",
       "    </tr>\n",
       "    <tr>\n",
       "      <th>2405</th>\n",
       "      <td>986</td>\n",
       "      <td>M&amp;K National Inc</td>\n",
       "      <td>1122023</td>\n",
       "      <td>Richard Arjani</td>\n",
       "      <td>Hour</td>\n",
       "      <td>Volvo</td>\n",
       "      <td>2022</td>\n",
       "      <td>4V4NC9EJXNN295190</td>\n",
       "      <td>0</td>\n",
       "    </tr>\n",
       "  </tbody>\n",
       "</table>\n",
       "<p>104 rows × 9 columns</p>\n",
       "</div>"
      ],
      "text/plain": [
       "      SequenceNo                         OrgName     Date      DriverName  \\\n",
       "189          424              Youjen Express Inc  1062023     Congcong Li   \n",
       "217           24                      Pickup USA  1012023        Junye Hu   \n",
       "228          285  Nine Dragon Transportation Inc  1052023        SUN KANG   \n",
       "229          449     Eight Banners Trucking Inc.  1072023        Kai Yang   \n",
       "231          882                Fande Group Inc.  1112023      Fande Kong   \n",
       "...          ...                             ...      ...             ...   \n",
       "2348         421     Brilliant International LLC  1062023        Jiayi Li   \n",
       "2373         585          Hong Yun Trucking Inc.  1082023    Chonghua Yan   \n",
       "2382        1828              Polar Trucking Inc  1232023       Hefei Shi   \n",
       "2383        1234            Devic Transportation  1152023       Cong Wang   \n",
       "2405         986                M&K National Inc  1122023  Richard Arjani   \n",
       "\n",
       "     InvalidType   VehicleMake  VehicleYear                VIN   SerialNo  \n",
       "189         Hour  Freightliner         2017  1FUJGLDR3HLHD2215  211005156  \n",
       "217         Hour  Freightliner         2018  1FUJGLDR7JLJH7949  211003923  \n",
       "228         Hour  Freightliner         2018  1FUJGLDR8JLJJ7313  211000994  \n",
       "229         Hour  Freightliner         2017  1FUJGLDR9HLHD2929          0  \n",
       "231         Hour  Freightliner         2017  1FUJGLDR9HLHW0511          0  \n",
       "...          ...           ...          ...                ...        ...  \n",
       "2348        Hour         Volvo         2020  4V4NC9EJ3LN200644          0  \n",
       "2373        Hour         Volvo         2022  4V4NC9EJ5NN298546  211002777  \n",
       "2382        Hour  Freightliner         2023  4V4NC9EJ6PN611784  211005206  \n",
       "2383        Hour         Volvo         2019  4V4NC9EJ7KN201603          0  \n",
       "2405        Hour         Volvo         2022  4V4NC9EJXNN295190          0  \n",
       "\n",
       "[104 rows x 9 columns]"
      ]
     },
     "execution_count": 422,
     "metadata": {},
     "output_type": "execute_result"
    }
   ],
   "source": [
    "EDH2017 = EDH.loc[EDH[\"VehicleYear\"]>=2017]\n",
    "EDH2017"
   ]
  },
  {
   "cell_type": "code",
   "execution_count": 423,
   "id": "6f5a6b3a",
   "metadata": {},
   "outputs": [
    {
     "data": {
      "text/html": [
       "<div>\n",
       "<style scoped>\n",
       "    .dataframe tbody tr th:only-of-type {\n",
       "        vertical-align: middle;\n",
       "    }\n",
       "\n",
       "    .dataframe tbody tr th {\n",
       "        vertical-align: top;\n",
       "    }\n",
       "\n",
       "    .dataframe thead th {\n",
       "        text-align: right;\n",
       "    }\n",
       "</style>\n",
       "<table border=\"1\" class=\"dataframe\">\n",
       "  <thead>\n",
       "    <tr style=\"text-align: right;\">\n",
       "      <th></th>\n",
       "      <th>SequenceNo</th>\n",
       "      <th>OrgName</th>\n",
       "      <th>Date</th>\n",
       "      <th>DriverName</th>\n",
       "      <th>InvalidType</th>\n",
       "      <th>VehicleMake</th>\n",
       "      <th>VehicleYear</th>\n",
       "      <th>VIN</th>\n",
       "      <th>SerialNo</th>\n",
       "    </tr>\n",
       "  </thead>\n",
       "  <tbody>\n",
       "    <tr>\n",
       "      <th>56</th>\n",
       "      <td>1929</td>\n",
       "      <td>Western Bucks Inc.</td>\n",
       "      <td>1252023</td>\n",
       "      <td>Furong Yang</td>\n",
       "      <td>Hour</td>\n",
       "      <td>Freightliner</td>\n",
       "      <td>2015</td>\n",
       "      <td>1FUJGLD52FLGS3534</td>\n",
       "      <td>211005240</td>\n",
       "    </tr>\n",
       "    <tr>\n",
       "      <th>62</th>\n",
       "      <td>751</td>\n",
       "      <td>W Safe Speed Inc</td>\n",
       "      <td>1102023</td>\n",
       "      <td>Jingjing Wu</td>\n",
       "      <td>Hour</td>\n",
       "      <td>Freightliner</td>\n",
       "      <td>2016</td>\n",
       "      <td>1FUJGLD54GLGZ8351</td>\n",
       "      <td>211004530</td>\n",
       "    </tr>\n",
       "    <tr>\n",
       "      <th>153</th>\n",
       "      <td>1922</td>\n",
       "      <td>JW USA LINK</td>\n",
       "      <td>1252023</td>\n",
       "      <td>Tian yuan Cai</td>\n",
       "      <td>Hour</td>\n",
       "      <td>Freightliner</td>\n",
       "      <td>2012</td>\n",
       "      <td>1FUJGLDR2CSBK1014</td>\n",
       "      <td>0</td>\n",
       "    </tr>\n",
       "    <tr>\n",
       "      <th>201</th>\n",
       "      <td>1999</td>\n",
       "      <td>Olivia Trucking Inc</td>\n",
       "      <td>1262023</td>\n",
       "      <td>Takwikanwe Katanga</td>\n",
       "      <td>Hour</td>\n",
       "      <td>Freightliner</td>\n",
       "      <td>2011</td>\n",
       "      <td>1FUJGLDR7BSAZ3693</td>\n",
       "      <td>0</td>\n",
       "    </tr>\n",
       "    <tr>\n",
       "      <th>564</th>\n",
       "      <td>861</td>\n",
       "      <td>4 Season Express Inc</td>\n",
       "      <td>1112023</td>\n",
       "      <td>Kil H Lee</td>\n",
       "      <td>Hour</td>\n",
       "      <td>Freightliner</td>\n",
       "      <td>2016</td>\n",
       "      <td>3AKGGLD53GSGC5434</td>\n",
       "      <td>211005516</td>\n",
       "    </tr>\n",
       "    <tr>\n",
       "      <th>880</th>\n",
       "      <td>961</td>\n",
       "      <td>Bright East Star LLC</td>\n",
       "      <td>1122023</td>\n",
       "      <td>Runfang Song</td>\n",
       "      <td>Hour</td>\n",
       "      <td>Freightliner</td>\n",
       "      <td>2016</td>\n",
       "      <td>3AKJGLD56GSGU0679</td>\n",
       "      <td>211003977</td>\n",
       "    </tr>\n",
       "    <tr>\n",
       "      <th>882</th>\n",
       "      <td>2333</td>\n",
       "      <td>QL Trucking Inc</td>\n",
       "      <td>1302023</td>\n",
       "      <td>Qinglong Li</td>\n",
       "      <td>Hour</td>\n",
       "      <td>Freightliner</td>\n",
       "      <td>2016</td>\n",
       "      <td>3AKJGLD56GSGU1105</td>\n",
       "      <td>211004210</td>\n",
       "    </tr>\n",
       "    <tr>\n",
       "      <th>996</th>\n",
       "      <td>145</td>\n",
       "      <td>Garoon Express</td>\n",
       "      <td>1032023</td>\n",
       "      <td>Arian Marous</td>\n",
       "      <td>Hour</td>\n",
       "      <td>Freightliner</td>\n",
       "      <td>2014</td>\n",
       "      <td>3AKJGLD61ESFM3170</td>\n",
       "      <td>0</td>\n",
       "    </tr>\n",
       "    <tr>\n",
       "      <th>1011</th>\n",
       "      <td>1906</td>\n",
       "      <td>GL Coast Express</td>\n",
       "      <td>1242023</td>\n",
       "      <td>Fenghe Liu</td>\n",
       "      <td>Hour</td>\n",
       "      <td>Freightliner</td>\n",
       "      <td>2016</td>\n",
       "      <td>3AKJGLDR0GSGW8335</td>\n",
       "      <td>211003201</td>\n",
       "    </tr>\n",
       "    <tr>\n",
       "      <th>1266</th>\n",
       "      <td>1934</td>\n",
       "      <td>Gold Apple Trucking Inc</td>\n",
       "      <td>1252023</td>\n",
       "      <td>BENNIE WHITE</td>\n",
       "      <td>Hour</td>\n",
       "      <td>Freightliner</td>\n",
       "      <td>2016</td>\n",
       "      <td>3AKJGLDR4GSGW7284</td>\n",
       "      <td>211005482</td>\n",
       "    </tr>\n",
       "    <tr>\n",
       "      <th>1341</th>\n",
       "      <td>2406</td>\n",
       "      <td>Golden Horse Transportation Inc.</td>\n",
       "      <td>1312023</td>\n",
       "      <td>Wenjie Cong</td>\n",
       "      <td>Hour</td>\n",
       "      <td>Freightliner</td>\n",
       "      <td>2016</td>\n",
       "      <td>3AKJGLDR5GSGZ5160</td>\n",
       "      <td>211005474</td>\n",
       "    </tr>\n",
       "    <tr>\n",
       "      <th>1554</th>\n",
       "      <td>497</td>\n",
       "      <td>Z Plus Group Inc.</td>\n",
       "      <td>1072023</td>\n",
       "      <td>Po Hsien Lin</td>\n",
       "      <td>Hour</td>\n",
       "      <td>Freightliner</td>\n",
       "      <td>2016</td>\n",
       "      <td>3AKJGLDR7GSGX0647</td>\n",
       "      <td>211003112</td>\n",
       "    </tr>\n",
       "    <tr>\n",
       "      <th>2217</th>\n",
       "      <td>1794</td>\n",
       "      <td>Suretrans Corp</td>\n",
       "      <td>1222023</td>\n",
       "      <td>Yang Li</td>\n",
       "      <td>Hour</td>\n",
       "      <td>Volvo</td>\n",
       "      <td>2016</td>\n",
       "      <td>4V4NC9EH2GN968702</td>\n",
       "      <td>211003377</td>\n",
       "    </tr>\n",
       "    <tr>\n",
       "      <th>2230</th>\n",
       "      <td>2262</td>\n",
       "      <td>Hegner Trucking Inc (WAC Express)</td>\n",
       "      <td>1292023</td>\n",
       "      <td>yongfeng wu</td>\n",
       "      <td>Hour</td>\n",
       "      <td>Volvo</td>\n",
       "      <td>2016</td>\n",
       "      <td>4V4NC9EH3GN942769</td>\n",
       "      <td>211003399</td>\n",
       "    </tr>\n",
       "    <tr>\n",
       "      <th>2236</th>\n",
       "      <td>996</td>\n",
       "      <td>Unione Logistics Inc.</td>\n",
       "      <td>1122023</td>\n",
       "      <td>PEI HAN</td>\n",
       "      <td>Hour</td>\n",
       "      <td>Volvo</td>\n",
       "      <td>2016</td>\n",
       "      <td>4V4NC9EH3HN970427</td>\n",
       "      <td>0</td>\n",
       "    </tr>\n",
       "    <tr>\n",
       "      <th>2240</th>\n",
       "      <td>224</td>\n",
       "      <td>T &amp; G Transport Inc.</td>\n",
       "      <td>1042023</td>\n",
       "      <td>Ye Tian</td>\n",
       "      <td>Hour</td>\n",
       "      <td>Volvo</td>\n",
       "      <td>2016</td>\n",
       "      <td>4V4NC9EH4GN955384</td>\n",
       "      <td>0</td>\n",
       "    </tr>\n",
       "    <tr>\n",
       "      <th>2302</th>\n",
       "      <td>1812</td>\n",
       "      <td>Hot Air Balloon Inc</td>\n",
       "      <td>1232023</td>\n",
       "      <td>xiaohui li</td>\n",
       "      <td>Hour</td>\n",
       "      <td>Volvo</td>\n",
       "      <td>2015</td>\n",
       "      <td>4V4NC9EHXFN916684</td>\n",
       "      <td>211003507</td>\n",
       "    </tr>\n",
       "    <tr>\n",
       "      <th>2339</th>\n",
       "      <td>12</td>\n",
       "      <td>Falcon One Logistics</td>\n",
       "      <td>1012023</td>\n",
       "      <td>YiBo Geng</td>\n",
       "      <td>Hour</td>\n",
       "      <td>Volvo</td>\n",
       "      <td>2015</td>\n",
       "      <td>4V4NC9EJ1FN918570</td>\n",
       "      <td>211002919</td>\n",
       "    </tr>\n",
       "    <tr>\n",
       "      <th>2368</th>\n",
       "      <td>1236</td>\n",
       "      <td>Dong Shuo Transportation Inc.</td>\n",
       "      <td>1152023</td>\n",
       "      <td>Jianmin Dong</td>\n",
       "      <td>Hour</td>\n",
       "      <td>Volvo</td>\n",
       "      <td>2016</td>\n",
       "      <td>4V4NC9EJ5GN939536</td>\n",
       "      <td>211002991</td>\n",
       "    </tr>\n",
       "    <tr>\n",
       "      <th>2400</th>\n",
       "      <td>1399</td>\n",
       "      <td>L N Z Trucking</td>\n",
       "      <td>1172023</td>\n",
       "      <td>tao wu</td>\n",
       "      <td>Hour</td>\n",
       "      <td>Volvo</td>\n",
       "      <td>2015</td>\n",
       "      <td>4V4NC9EJXFN908040</td>\n",
       "      <td>211004910</td>\n",
       "    </tr>\n",
       "  </tbody>\n",
       "</table>\n",
       "</div>"
      ],
      "text/plain": [
       "      SequenceNo                            OrgName     Date  \\\n",
       "56          1929                 Western Bucks Inc.  1252023   \n",
       "62           751                   W Safe Speed Inc  1102023   \n",
       "153         1922                        JW USA LINK  1252023   \n",
       "201         1999                Olivia Trucking Inc  1262023   \n",
       "564          861               4 Season Express Inc  1112023   \n",
       "880          961               Bright East Star LLC  1122023   \n",
       "882         2333                    QL Trucking Inc  1302023   \n",
       "996          145                     Garoon Express  1032023   \n",
       "1011        1906                   GL Coast Express  1242023   \n",
       "1266        1934            Gold Apple Trucking Inc  1252023   \n",
       "1341        2406   Golden Horse Transportation Inc.  1312023   \n",
       "1554         497                  Z Plus Group Inc.  1072023   \n",
       "2217        1794                     Suretrans Corp  1222023   \n",
       "2230        2262  Hegner Trucking Inc (WAC Express)  1292023   \n",
       "2236         996              Unione Logistics Inc.  1122023   \n",
       "2240         224               T & G Transport Inc.  1042023   \n",
       "2302        1812                Hot Air Balloon Inc  1232023   \n",
       "2339          12               Falcon One Logistics  1012023   \n",
       "2368        1236      Dong Shuo Transportation Inc.  1152023   \n",
       "2400        1399                     L N Z Trucking  1172023   \n",
       "\n",
       "              DriverName InvalidType   VehicleMake  VehicleYear  \\\n",
       "56           Furong Yang        Hour  Freightliner         2015   \n",
       "62           Jingjing Wu        Hour  Freightliner         2016   \n",
       "153        Tian yuan Cai        Hour  Freightliner         2012   \n",
       "201   Takwikanwe Katanga        Hour  Freightliner         2011   \n",
       "564            Kil H Lee        Hour  Freightliner         2016   \n",
       "880         Runfang Song        Hour  Freightliner         2016   \n",
       "882          Qinglong Li        Hour  Freightliner         2016   \n",
       "996         Arian Marous        Hour  Freightliner         2014   \n",
       "1011          Fenghe Liu        Hour  Freightliner         2016   \n",
       "1266        BENNIE WHITE        Hour  Freightliner         2016   \n",
       "1341         Wenjie Cong        Hour  Freightliner         2016   \n",
       "1554        Po Hsien Lin        Hour  Freightliner         2016   \n",
       "2217             Yang Li        Hour         Volvo         2016   \n",
       "2230         yongfeng wu        Hour         Volvo         2016   \n",
       "2236             PEI HAN        Hour         Volvo         2016   \n",
       "2240             Ye Tian        Hour         Volvo         2016   \n",
       "2302          xiaohui li        Hour         Volvo         2015   \n",
       "2339           YiBo Geng        Hour         Volvo         2015   \n",
       "2368        Jianmin Dong        Hour         Volvo         2016   \n",
       "2400              tao wu        Hour         Volvo         2015   \n",
       "\n",
       "                    VIN   SerialNo  \n",
       "56    1FUJGLD52FLGS3534  211005240  \n",
       "62    1FUJGLD54GLGZ8351  211004530  \n",
       "153   1FUJGLDR2CSBK1014          0  \n",
       "201   1FUJGLDR7BSAZ3693          0  \n",
       "564   3AKGGLD53GSGC5434  211005516  \n",
       "880   3AKJGLD56GSGU0679  211003977  \n",
       "882   3AKJGLD56GSGU1105  211004210  \n",
       "996   3AKJGLD61ESFM3170          0  \n",
       "1011  3AKJGLDR0GSGW8335  211003201  \n",
       "1266  3AKJGLDR4GSGW7284  211005482  \n",
       "1341  3AKJGLDR5GSGZ5160  211005474  \n",
       "1554  3AKJGLDR7GSGX0647  211003112  \n",
       "2217  4V4NC9EH2GN968702  211003377  \n",
       "2230  4V4NC9EH3GN942769  211003399  \n",
       "2236  4V4NC9EH3HN970427          0  \n",
       "2240  4V4NC9EH4GN955384          0  \n",
       "2302  4V4NC9EHXFN916684  211003507  \n",
       "2339  4V4NC9EJ1FN918570  211002919  \n",
       "2368  4V4NC9EJ5GN939536  211002991  \n",
       "2400  4V4NC9EJXFN908040  211004910  "
      ]
     },
     "execution_count": 423,
     "metadata": {},
     "output_type": "execute_result"
    }
   ],
   "source": [
    "EDH2016 = EDH.loc[EDH[\"VehicleYear\"]<2017]\n",
    "EDH2016"
   ]
  },
  {
   "cell_type": "code",
   "execution_count": 424,
   "id": "36b331e8",
   "metadata": {},
   "outputs": [
    {
     "data": {
      "text/html": [
       "<div>\n",
       "<style scoped>\n",
       "    .dataframe tbody tr th:only-of-type {\n",
       "        vertical-align: middle;\n",
       "    }\n",
       "\n",
       "    .dataframe tbody tr th {\n",
       "        vertical-align: top;\n",
       "    }\n",
       "\n",
       "    .dataframe thead th {\n",
       "        text-align: right;\n",
       "    }\n",
       "</style>\n",
       "<table border=\"1\" class=\"dataframe\">\n",
       "  <thead>\n",
       "    <tr style=\"text-align: right;\">\n",
       "      <th></th>\n",
       "      <th>SequenceNo</th>\n",
       "      <th>OrgName</th>\n",
       "      <th>Date</th>\n",
       "      <th>DriverName</th>\n",
       "      <th>InvalidType</th>\n",
       "      <th>VehicleMake</th>\n",
       "      <th>VehicleYear</th>\n",
       "      <th>VIN</th>\n",
       "      <th>SerialNo</th>\n",
       "    </tr>\n",
       "  </thead>\n",
       "  <tbody>\n",
       "    <tr>\n",
       "      <th>194</th>\n",
       "      <td>842</td>\n",
       "      <td>Gao Shuai Trucking Inc</td>\n",
       "      <td>1112023</td>\n",
       "      <td>Jianwei Gao</td>\n",
       "      <td>Mileage/Hour</td>\n",
       "      <td>Freightliner</td>\n",
       "      <td>2018</td>\n",
       "      <td>1FUJGLDR4JLJF8128</td>\n",
       "      <td>211003305</td>\n",
       "    </tr>\n",
       "    <tr>\n",
       "      <th>274</th>\n",
       "      <td>2412</td>\n",
       "      <td>PENGFEI EXPRESS INC</td>\n",
       "      <td>1312023</td>\n",
       "      <td>ke liu</td>\n",
       "      <td>Mileage/Hour</td>\n",
       "      <td>Freightliner</td>\n",
       "      <td>2020</td>\n",
       "      <td>1FUJHHDR4LLLU8559</td>\n",
       "      <td>211004139</td>\n",
       "    </tr>\n",
       "    <tr>\n",
       "      <th>279</th>\n",
       "      <td>1490</td>\n",
       "      <td>TTL Transport Inc</td>\n",
       "      <td>1182023</td>\n",
       "      <td>Guoliang Wang</td>\n",
       "      <td>Mileage/Hour</td>\n",
       "      <td>Freightliner</td>\n",
       "      <td>2019</td>\n",
       "      <td>1FUJHHDR8KLKL6801</td>\n",
       "      <td>211005000</td>\n",
       "    </tr>\n",
       "    <tr>\n",
       "      <th>322</th>\n",
       "      <td>2215</td>\n",
       "      <td>Fast Arrival Transportation LLC</td>\n",
       "      <td>1282023</td>\n",
       "      <td>Haohao Zhang</td>\n",
       "      <td>Mileage/Hour</td>\n",
       "      <td>Kenworth</td>\n",
       "      <td>2019</td>\n",
       "      <td>1XKYD49X1KJ367666</td>\n",
       "      <td>211005244</td>\n",
       "    </tr>\n",
       "    <tr>\n",
       "      <th>466</th>\n",
       "      <td>137</td>\n",
       "      <td>LuLu 88 Trucking, Inc.</td>\n",
       "      <td>1032023</td>\n",
       "      <td>Yongchun Bai</td>\n",
       "      <td>Mileage/Hour</td>\n",
       "      <td>Kenworth</td>\n",
       "      <td>2022</td>\n",
       "      <td>1XKYD49X9NJ494492</td>\n",
       "      <td>0</td>\n",
       "    </tr>\n",
       "    <tr>\n",
       "      <th>...</th>\n",
       "      <td>...</td>\n",
       "      <td>...</td>\n",
       "      <td>...</td>\n",
       "      <td>...</td>\n",
       "      <td>...</td>\n",
       "      <td>...</td>\n",
       "      <td>...</td>\n",
       "      <td>...</td>\n",
       "      <td>...</td>\n",
       "    </tr>\n",
       "    <tr>\n",
       "      <th>2342</th>\n",
       "      <td>2436</td>\n",
       "      <td>Top Priority Transporation Inc.</td>\n",
       "      <td>1312023</td>\n",
       "      <td>Dongqun Liu</td>\n",
       "      <td>Mileage/Hour</td>\n",
       "      <td>Volvo</td>\n",
       "      <td>2021</td>\n",
       "      <td>4V4NC9EJ2MN272226</td>\n",
       "      <td>211000548</td>\n",
       "    </tr>\n",
       "    <tr>\n",
       "      <th>2381</th>\n",
       "      <td>1693</td>\n",
       "      <td>SHJ Trucking Inc (DOT: 3197280)</td>\n",
       "      <td>1212023</td>\n",
       "      <td>Yit Ning Ma</td>\n",
       "      <td>Mileage/Hour</td>\n",
       "      <td>Freightliner</td>\n",
       "      <td>2017</td>\n",
       "      <td>4V4NC9EJ6PN611736</td>\n",
       "      <td>211005135</td>\n",
       "    </tr>\n",
       "    <tr>\n",
       "      <th>2391</th>\n",
       "      <td>1468</td>\n",
       "      <td>ZCY Logistics</td>\n",
       "      <td>1182023</td>\n",
       "      <td>Chunyu Zhou</td>\n",
       "      <td>Mileage/Hour</td>\n",
       "      <td>Volvo</td>\n",
       "      <td>2019</td>\n",
       "      <td>4V4NC9EJ8KN898120</td>\n",
       "      <td>211004700</td>\n",
       "    </tr>\n",
       "    <tr>\n",
       "      <th>2392</th>\n",
       "      <td>609</td>\n",
       "      <td>Carrystar J Inc.</td>\n",
       "      <td>1082023</td>\n",
       "      <td>Jianwei Li</td>\n",
       "      <td>Mileage/Hour</td>\n",
       "      <td>Volvo</td>\n",
       "      <td>2023</td>\n",
       "      <td>4V4NC9EJ8PN611138</td>\n",
       "      <td>211004877</td>\n",
       "    </tr>\n",
       "    <tr>\n",
       "      <th>2435</th>\n",
       "      <td>307</td>\n",
       "      <td>Sun Charter Inc</td>\n",
       "      <td>1052023</td>\n",
       "      <td>Gang Liu</td>\n",
       "      <td>Mileage/Hour</td>\n",
       "      <td>Prevost</td>\n",
       "      <td>2017</td>\n",
       "      <td>2PCH33491HC713515</td>\n",
       "      <td>211002771</td>\n",
       "    </tr>\n",
       "  </tbody>\n",
       "</table>\n",
       "<p>72 rows × 9 columns</p>\n",
       "</div>"
      ],
      "text/plain": [
       "      SequenceNo                          OrgName     Date     DriverName  \\\n",
       "194          842           Gao Shuai Trucking Inc  1112023    Jianwei Gao   \n",
       "274         2412              PENGFEI EXPRESS INC  1312023         ke liu   \n",
       "279         1490                TTL Transport Inc  1182023  Guoliang Wang   \n",
       "322         2215  Fast Arrival Transportation LLC  1282023   Haohao Zhang   \n",
       "466          137           LuLu 88 Trucking, Inc.  1032023   Yongchun Bai   \n",
       "...          ...                              ...      ...            ...   \n",
       "2342        2436  Top Priority Transporation Inc.  1312023    Dongqun Liu   \n",
       "2381        1693  SHJ Trucking Inc (DOT: 3197280)  1212023    Yit Ning Ma   \n",
       "2391        1468                    ZCY Logistics  1182023    Chunyu Zhou   \n",
       "2392         609                 Carrystar J Inc.  1082023     Jianwei Li   \n",
       "2435         307                  Sun Charter Inc  1052023       Gang Liu   \n",
       "\n",
       "       InvalidType   VehicleMake  VehicleYear                VIN   SerialNo  \n",
       "194   Mileage/Hour  Freightliner         2018  1FUJGLDR4JLJF8128  211003305  \n",
       "274   Mileage/Hour  Freightliner         2020  1FUJHHDR4LLLU8559  211004139  \n",
       "279   Mileage/Hour  Freightliner         2019  1FUJHHDR8KLKL6801  211005000  \n",
       "322   Mileage/Hour      Kenworth         2019  1XKYD49X1KJ367666  211005244  \n",
       "466   Mileage/Hour      Kenworth         2022  1XKYD49X9NJ494492          0  \n",
       "...            ...           ...          ...                ...        ...  \n",
       "2342  Mileage/Hour         Volvo         2021  4V4NC9EJ2MN272226  211000548  \n",
       "2381  Mileage/Hour  Freightliner         2017  4V4NC9EJ6PN611736  211005135  \n",
       "2391  Mileage/Hour         Volvo         2019  4V4NC9EJ8KN898120  211004700  \n",
       "2392  Mileage/Hour         Volvo         2023  4V4NC9EJ8PN611138  211004877  \n",
       "2435  Mileage/Hour       Prevost         2017  2PCH33491HC713515  211002771  \n",
       "\n",
       "[72 rows x 9 columns]"
      ]
     },
     "execution_count": 424,
     "metadata": {},
     "output_type": "execute_result"
    }
   ],
   "source": [
    "EDMH2017 = EDMH.loc[EDMH[\"VehicleYear\"]>=2017]\n",
    "EDMH2017"
   ]
  },
  {
   "cell_type": "code",
   "execution_count": 425,
   "id": "e5f7918a",
   "metadata": {},
   "outputs": [
    {
     "data": {
      "text/html": [
       "<div>\n",
       "<style scoped>\n",
       "    .dataframe tbody tr th:only-of-type {\n",
       "        vertical-align: middle;\n",
       "    }\n",
       "\n",
       "    .dataframe tbody tr th {\n",
       "        vertical-align: top;\n",
       "    }\n",
       "\n",
       "    .dataframe thead th {\n",
       "        text-align: right;\n",
       "    }\n",
       "</style>\n",
       "<table border=\"1\" class=\"dataframe\">\n",
       "  <thead>\n",
       "    <tr style=\"text-align: right;\">\n",
       "      <th></th>\n",
       "      <th>SequenceNo</th>\n",
       "      <th>OrgName</th>\n",
       "      <th>Date</th>\n",
       "      <th>DriverName</th>\n",
       "      <th>InvalidType</th>\n",
       "      <th>VehicleMake</th>\n",
       "      <th>VehicleYear</th>\n",
       "      <th>VIN</th>\n",
       "      <th>SerialNo</th>\n",
       "    </tr>\n",
       "  </thead>\n",
       "  <tbody>\n",
       "    <tr>\n",
       "      <th>13</th>\n",
       "      <td>823</td>\n",
       "      <td>Lydia Express Inc.</td>\n",
       "      <td>1112023</td>\n",
       "      <td>GUOBIN YANG</td>\n",
       "      <td>Mileage/Hour</td>\n",
       "      <td>Freightliner</td>\n",
       "      <td>2016</td>\n",
       "      <td>1FUJGLBG2GLHA0856</td>\n",
       "      <td>211005627</td>\n",
       "    </tr>\n",
       "    <tr>\n",
       "      <th>32</th>\n",
       "      <td>492</td>\n",
       "      <td>Lydia Express Inc.</td>\n",
       "      <td>1072023</td>\n",
       "      <td>Liang Cai</td>\n",
       "      <td>Mileage/Hour</td>\n",
       "      <td>Freightliner</td>\n",
       "      <td>2016</td>\n",
       "      <td>1FUJGLBG7GLGY8241</td>\n",
       "      <td>0</td>\n",
       "    </tr>\n",
       "    <tr>\n",
       "      <th>63</th>\n",
       "      <td>829</td>\n",
       "      <td>Rongyun Trucking Inc</td>\n",
       "      <td>1112023</td>\n",
       "      <td>Jian Li</td>\n",
       "      <td>Mileage/Hour</td>\n",
       "      <td>Freightliner</td>\n",
       "      <td>2016</td>\n",
       "      <td>1FUJGLD54GLGZ8365</td>\n",
       "      <td>0</td>\n",
       "    </tr>\n",
       "    <tr>\n",
       "      <th>160</th>\n",
       "      <td>2133</td>\n",
       "      <td>Taomore Supply Chain LTD</td>\n",
       "      <td>1272023</td>\n",
       "      <td>LIANG LI</td>\n",
       "      <td>Mileage/Hour</td>\n",
       "      <td>Freightliner</td>\n",
       "      <td>2016</td>\n",
       "      <td>1FUJGLDR2GLGW6971</td>\n",
       "      <td>211005002</td>\n",
       "    </tr>\n",
       "    <tr>\n",
       "      <th>195</th>\n",
       "      <td>180</td>\n",
       "      <td>Kasomo LLC</td>\n",
       "      <td>1042023</td>\n",
       "      <td>Amuri Kasomo</td>\n",
       "      <td>Mileage/Hour</td>\n",
       "      <td>Freightliner</td>\n",
       "      <td>2010</td>\n",
       "      <td>1FUJGLDR5ASAR8731</td>\n",
       "      <td>0</td>\n",
       "    </tr>\n",
       "    <tr>\n",
       "      <th>607</th>\n",
       "      <td>1129</td>\n",
       "      <td>Flying Trucking NW LLC</td>\n",
       "      <td>1142023</td>\n",
       "      <td>Ming Lu</td>\n",
       "      <td>Mileage/Hour</td>\n",
       "      <td>Freightliner</td>\n",
       "      <td>2014</td>\n",
       "      <td>3AKJGLBG2ESFJ1226</td>\n",
       "      <td>211003438</td>\n",
       "    </tr>\n",
       "    <tr>\n",
       "      <th>686</th>\n",
       "      <td>1544</td>\n",
       "      <td>PSPW Trucking Inc</td>\n",
       "      <td>1192023</td>\n",
       "      <td>Wen li Xia</td>\n",
       "      <td>Mileage/Hour</td>\n",
       "      <td>Freightliner</td>\n",
       "      <td>2016</td>\n",
       "      <td>3AKJGLD50GSGV2312</td>\n",
       "      <td>0</td>\n",
       "    </tr>\n",
       "    <tr>\n",
       "      <th>817</th>\n",
       "      <td>1759</td>\n",
       "      <td>Golden Drum LLC</td>\n",
       "      <td>1222023</td>\n",
       "      <td>Eh Dee Moo</td>\n",
       "      <td>Mileage/Hour</td>\n",
       "      <td>Freightliner</td>\n",
       "      <td>2016</td>\n",
       "      <td>3AKJGLD52GSGU6575</td>\n",
       "      <td>0</td>\n",
       "    </tr>\n",
       "    <tr>\n",
       "      <th>836</th>\n",
       "      <td>432</td>\n",
       "      <td>Brother H K Trucking Inc.</td>\n",
       "      <td>1062023</td>\n",
       "      <td>LIMIN DONG</td>\n",
       "      <td>Mileage/Hour</td>\n",
       "      <td>Freightliner</td>\n",
       "      <td>2016</td>\n",
       "      <td>3AKJGLD55GSGU1192</td>\n",
       "      <td>0</td>\n",
       "    </tr>\n",
       "    <tr>\n",
       "      <th>912</th>\n",
       "      <td>200</td>\n",
       "      <td>Barrera &amp; Son Trucking</td>\n",
       "      <td>1042023</td>\n",
       "      <td>Saul Barrera</td>\n",
       "      <td>Mileage/Hour</td>\n",
       "      <td>Freightliner</td>\n",
       "      <td>2016</td>\n",
       "      <td>3AKJGLD57GSGW2612</td>\n",
       "      <td>0</td>\n",
       "    </tr>\n",
       "    <tr>\n",
       "      <th>974</th>\n",
       "      <td>2104</td>\n",
       "      <td>The One Transport Inc.</td>\n",
       "      <td>1272023</td>\n",
       "      <td>Zhenyu Zhang</td>\n",
       "      <td>Mileage/Hour</td>\n",
       "      <td>Freightliner</td>\n",
       "      <td>2015</td>\n",
       "      <td>3AKJGLD5XFSFK5033</td>\n",
       "      <td>211004861</td>\n",
       "    </tr>\n",
       "    <tr>\n",
       "      <th>1553</th>\n",
       "      <td>119</td>\n",
       "      <td>Gao Transportation Inc</td>\n",
       "      <td>1032023</td>\n",
       "      <td>Yunhui Gao</td>\n",
       "      <td>Mileage/Hour</td>\n",
       "      <td>Freightliner</td>\n",
       "      <td>2014</td>\n",
       "      <td>3AKJGLDR7ESBA4223</td>\n",
       "      <td>211004705</td>\n",
       "    </tr>\n",
       "    <tr>\n",
       "      <th>1705</th>\n",
       "      <td>2158</td>\n",
       "      <td>Golden Drum LLC</td>\n",
       "      <td>1272023</td>\n",
       "      <td>Lay Pa Htaw</td>\n",
       "      <td>Mileage/Hour</td>\n",
       "      <td>Freightliner</td>\n",
       "      <td>2016</td>\n",
       "      <td>3AKJGLDRXGSGZ3145</td>\n",
       "      <td>211003159</td>\n",
       "    </tr>\n",
       "    <tr>\n",
       "      <th>2246</th>\n",
       "      <td>1191</td>\n",
       "      <td>Junhai Trucking Company LLC</td>\n",
       "      <td>1142023</td>\n",
       "      <td>Cheng Hai Zhang</td>\n",
       "      <td>Mileage/Hour</td>\n",
       "      <td>Volvo</td>\n",
       "      <td>2016</td>\n",
       "      <td>4V4NC9EH5GN942823</td>\n",
       "      <td>211005065</td>\n",
       "    </tr>\n",
       "    <tr>\n",
       "      <th>2247</th>\n",
       "      <td>2421</td>\n",
       "      <td>JMK Trucking Service Inc.</td>\n",
       "      <td>1312023</td>\n",
       "      <td>Jong Man Kim</td>\n",
       "      <td>Mileage/Hour</td>\n",
       "      <td>Volvo</td>\n",
       "      <td>2016</td>\n",
       "      <td>4V4NC9EH5GN949612</td>\n",
       "      <td>211005549</td>\n",
       "    </tr>\n",
       "    <tr>\n",
       "      <th>2402</th>\n",
       "      <td>260</td>\n",
       "      <td>FLSX Trucking Inc</td>\n",
       "      <td>1042023</td>\n",
       "      <td>Zhirong Liao</td>\n",
       "      <td>Mileage/Hour</td>\n",
       "      <td>Volvo</td>\n",
       "      <td>2016</td>\n",
       "      <td>4V4NC9EJXGN953089</td>\n",
       "      <td>211004803</td>\n",
       "    </tr>\n",
       "  </tbody>\n",
       "</table>\n",
       "</div>"
      ],
      "text/plain": [
       "      SequenceNo                      OrgName     Date       DriverName  \\\n",
       "13           823           Lydia Express Inc.  1112023      GUOBIN YANG   \n",
       "32           492           Lydia Express Inc.  1072023        Liang Cai   \n",
       "63           829         Rongyun Trucking Inc  1112023          Jian Li   \n",
       "160         2133     Taomore Supply Chain LTD  1272023         LIANG LI   \n",
       "195          180                   Kasomo LLC  1042023     Amuri Kasomo   \n",
       "607         1129       Flying Trucking NW LLC  1142023          Ming Lu   \n",
       "686         1544            PSPW Trucking Inc  1192023       Wen li Xia   \n",
       "817         1759              Golden Drum LLC  1222023       Eh Dee Moo   \n",
       "836          432    Brother H K Trucking Inc.  1062023       LIMIN DONG   \n",
       "912          200       Barrera & Son Trucking  1042023     Saul Barrera   \n",
       "974         2104       The One Transport Inc.  1272023     Zhenyu Zhang   \n",
       "1553         119       Gao Transportation Inc  1032023       Yunhui Gao   \n",
       "1705        2158              Golden Drum LLC  1272023      Lay Pa Htaw   \n",
       "2246        1191  Junhai Trucking Company LLC  1142023  Cheng Hai Zhang   \n",
       "2247        2421    JMK Trucking Service Inc.  1312023     Jong Man Kim   \n",
       "2402         260            FLSX Trucking Inc  1042023     Zhirong Liao   \n",
       "\n",
       "       InvalidType   VehicleMake  VehicleYear                VIN   SerialNo  \n",
       "13    Mileage/Hour  Freightliner         2016  1FUJGLBG2GLHA0856  211005627  \n",
       "32    Mileage/Hour  Freightliner         2016  1FUJGLBG7GLGY8241          0  \n",
       "63    Mileage/Hour  Freightliner         2016  1FUJGLD54GLGZ8365          0  \n",
       "160   Mileage/Hour  Freightliner         2016  1FUJGLDR2GLGW6971  211005002  \n",
       "195   Mileage/Hour  Freightliner         2010  1FUJGLDR5ASAR8731          0  \n",
       "607   Mileage/Hour  Freightliner         2014  3AKJGLBG2ESFJ1226  211003438  \n",
       "686   Mileage/Hour  Freightliner         2016  3AKJGLD50GSGV2312          0  \n",
       "817   Mileage/Hour  Freightliner         2016  3AKJGLD52GSGU6575          0  \n",
       "836   Mileage/Hour  Freightliner         2016  3AKJGLD55GSGU1192          0  \n",
       "912   Mileage/Hour  Freightliner         2016  3AKJGLD57GSGW2612          0  \n",
       "974   Mileage/Hour  Freightliner         2015  3AKJGLD5XFSFK5033  211004861  \n",
       "1553  Mileage/Hour  Freightliner         2014  3AKJGLDR7ESBA4223  211004705  \n",
       "1705  Mileage/Hour  Freightliner         2016  3AKJGLDRXGSGZ3145  211003159  \n",
       "2246  Mileage/Hour         Volvo         2016  4V4NC9EH5GN942823  211005065  \n",
       "2247  Mileage/Hour         Volvo         2016  4V4NC9EH5GN949612  211005549  \n",
       "2402  Mileage/Hour         Volvo         2016  4V4NC9EJXGN953089  211004803  "
      ]
     },
     "execution_count": 425,
     "metadata": {},
     "output_type": "execute_result"
    }
   ],
   "source": [
    "EDMH2016 = EDMH.loc[EDMH[\"VehicleYear\"]<2017]\n",
    "EDMH2016"
   ]
  },
  {
   "cell_type": "code",
   "execution_count": 426,
   "id": "1dcad707",
   "metadata": {},
   "outputs": [
    {
     "data": {
      "application/vnd.plotly.v1+json": {
       "config": {
        "plotlyServerURL": "https://plot.ly"
       },
       "data": [
        {
         "name": ">= 2017 year Jumping Mileage",
         "offsetgroup": "0",
         "text": [
          174,
          40,
          14,
          5,
          4,
          1
         ],
         "textposition": "outside",
         "type": "bar",
         "x": [
          "Freightliner",
          "Volvo",
          "Kenworth",
          "Peterbilt",
          "Western Star",
          "International"
         ],
         "y": [
          174,
          40,
          14,
          5,
          4,
          1
         ]
        },
        {
         "name": "< 2017 year Jumping Mileage",
         "offsetgroup": "0",
         "text": [
          90,
          13,
          13,
          7,
          1
         ],
         "textposition": "inside",
         "type": "bar",
         "x": [
          "Freightliner",
          "Volvo",
          "Kenworth",
          "Peterbilt",
          "Western Star",
          "International"
         ],
         "y": [
          90,
          13,
          13,
          7,
          1
         ]
        },
        {
         "name": ">= 2017 year Jumping Hour",
         "offsetgroup": "1",
         "text": [
          80,
          18,
          4,
          2
         ],
         "textposition": "outside",
         "type": "bar",
         "x": [
          "Freightliner",
          "Volvo",
          "Kenworth",
          "Peterbilt",
          "Western Star",
          "International"
         ],
         "y": [
          80,
          18,
          4,
          2
         ]
        },
        {
         "name": "< 2017 year Jumping Hour",
         "offsetgroup": "1",
         "text": [
          12,
          8
         ],
         "textposition": "outside",
         "type": "bar",
         "x": [
          "Freightliner",
          "Volvo",
          "Kenworth",
          "Peterbilt",
          "Western Star",
          "International"
         ],
         "y": [
          12,
          8
         ]
        },
        {
         "name": ">= 2017 year Jumping Mileage/Hour",
         "offsetgroup": "2",
         "text": [
          52,
          13,
          3,
          2,
          1,
          1
         ],
         "textposition": "outside",
         "type": "bar",
         "x": [
          "Freightliner",
          "Volvo",
          "Kenworth",
          "Peterbilt",
          "Western Star",
          "International"
         ],
         "y": [
          52,
          13,
          3,
          2,
          1,
          1
         ]
        },
        {
         "name": "< 2017 year Jumping Mileage/Hour",
         "offsetgroup": "2",
         "text": [
          13,
          3
         ],
         "textposition": "auto",
         "type": "bar",
         "x": [
          "Freightliner",
          "Volvo",
          "Kenworth",
          "Peterbilt",
          "Western Star",
          "International"
         ],
         "y": [
          13,
          3
         ]
        }
       ],
       "layout": {
        "annotations": [
         {
          "arrowhead": 1,
          "showarrow": true,
          "text": "Text annotation with arrow",
          "x": [
           "Freightliner",
           "Volvo",
           "Kenworth",
           "Peterbilt",
           "Western Star",
           "International"
          ],
          "y": [
           174,
           40,
           14,
           5,
           4,
           1
          ]
         }
        ],
        "barmode": "group",
        "template": {
         "data": {
          "bar": [
           {
            "error_x": {
             "color": "#2a3f5f"
            },
            "error_y": {
             "color": "#2a3f5f"
            },
            "marker": {
             "line": {
              "color": "#E5ECF6",
              "width": 0.5
             },
             "pattern": {
              "fillmode": "overlay",
              "size": 10,
              "solidity": 0.2
             }
            },
            "type": "bar"
           }
          ],
          "barpolar": [
           {
            "marker": {
             "line": {
              "color": "#E5ECF6",
              "width": 0.5
             },
             "pattern": {
              "fillmode": "overlay",
              "size": 10,
              "solidity": 0.2
             }
            },
            "type": "barpolar"
           }
          ],
          "carpet": [
           {
            "aaxis": {
             "endlinecolor": "#2a3f5f",
             "gridcolor": "white",
             "linecolor": "white",
             "minorgridcolor": "white",
             "startlinecolor": "#2a3f5f"
            },
            "baxis": {
             "endlinecolor": "#2a3f5f",
             "gridcolor": "white",
             "linecolor": "white",
             "minorgridcolor": "white",
             "startlinecolor": "#2a3f5f"
            },
            "type": "carpet"
           }
          ],
          "choropleth": [
           {
            "colorbar": {
             "outlinewidth": 0,
             "ticks": ""
            },
            "type": "choropleth"
           }
          ],
          "contour": [
           {
            "colorbar": {
             "outlinewidth": 0,
             "ticks": ""
            },
            "colorscale": [
             [
              0,
              "#0d0887"
             ],
             [
              0.1111111111111111,
              "#46039f"
             ],
             [
              0.2222222222222222,
              "#7201a8"
             ],
             [
              0.3333333333333333,
              "#9c179e"
             ],
             [
              0.4444444444444444,
              "#bd3786"
             ],
             [
              0.5555555555555556,
              "#d8576b"
             ],
             [
              0.6666666666666666,
              "#ed7953"
             ],
             [
              0.7777777777777778,
              "#fb9f3a"
             ],
             [
              0.8888888888888888,
              "#fdca26"
             ],
             [
              1,
              "#f0f921"
             ]
            ],
            "type": "contour"
           }
          ],
          "contourcarpet": [
           {
            "colorbar": {
             "outlinewidth": 0,
             "ticks": ""
            },
            "type": "contourcarpet"
           }
          ],
          "heatmap": [
           {
            "colorbar": {
             "outlinewidth": 0,
             "ticks": ""
            },
            "colorscale": [
             [
              0,
              "#0d0887"
             ],
             [
              0.1111111111111111,
              "#46039f"
             ],
             [
              0.2222222222222222,
              "#7201a8"
             ],
             [
              0.3333333333333333,
              "#9c179e"
             ],
             [
              0.4444444444444444,
              "#bd3786"
             ],
             [
              0.5555555555555556,
              "#d8576b"
             ],
             [
              0.6666666666666666,
              "#ed7953"
             ],
             [
              0.7777777777777778,
              "#fb9f3a"
             ],
             [
              0.8888888888888888,
              "#fdca26"
             ],
             [
              1,
              "#f0f921"
             ]
            ],
            "type": "heatmap"
           }
          ],
          "heatmapgl": [
           {
            "colorbar": {
             "outlinewidth": 0,
             "ticks": ""
            },
            "colorscale": [
             [
              0,
              "#0d0887"
             ],
             [
              0.1111111111111111,
              "#46039f"
             ],
             [
              0.2222222222222222,
              "#7201a8"
             ],
             [
              0.3333333333333333,
              "#9c179e"
             ],
             [
              0.4444444444444444,
              "#bd3786"
             ],
             [
              0.5555555555555556,
              "#d8576b"
             ],
             [
              0.6666666666666666,
              "#ed7953"
             ],
             [
              0.7777777777777778,
              "#fb9f3a"
             ],
             [
              0.8888888888888888,
              "#fdca26"
             ],
             [
              1,
              "#f0f921"
             ]
            ],
            "type": "heatmapgl"
           }
          ],
          "histogram": [
           {
            "marker": {
             "pattern": {
              "fillmode": "overlay",
              "size": 10,
              "solidity": 0.2
             }
            },
            "type": "histogram"
           }
          ],
          "histogram2d": [
           {
            "colorbar": {
             "outlinewidth": 0,
             "ticks": ""
            },
            "colorscale": [
             [
              0,
              "#0d0887"
             ],
             [
              0.1111111111111111,
              "#46039f"
             ],
             [
              0.2222222222222222,
              "#7201a8"
             ],
             [
              0.3333333333333333,
              "#9c179e"
             ],
             [
              0.4444444444444444,
              "#bd3786"
             ],
             [
              0.5555555555555556,
              "#d8576b"
             ],
             [
              0.6666666666666666,
              "#ed7953"
             ],
             [
              0.7777777777777778,
              "#fb9f3a"
             ],
             [
              0.8888888888888888,
              "#fdca26"
             ],
             [
              1,
              "#f0f921"
             ]
            ],
            "type": "histogram2d"
           }
          ],
          "histogram2dcontour": [
           {
            "colorbar": {
             "outlinewidth": 0,
             "ticks": ""
            },
            "colorscale": [
             [
              0,
              "#0d0887"
             ],
             [
              0.1111111111111111,
              "#46039f"
             ],
             [
              0.2222222222222222,
              "#7201a8"
             ],
             [
              0.3333333333333333,
              "#9c179e"
             ],
             [
              0.4444444444444444,
              "#bd3786"
             ],
             [
              0.5555555555555556,
              "#d8576b"
             ],
             [
              0.6666666666666666,
              "#ed7953"
             ],
             [
              0.7777777777777778,
              "#fb9f3a"
             ],
             [
              0.8888888888888888,
              "#fdca26"
             ],
             [
              1,
              "#f0f921"
             ]
            ],
            "type": "histogram2dcontour"
           }
          ],
          "mesh3d": [
           {
            "colorbar": {
             "outlinewidth": 0,
             "ticks": ""
            },
            "type": "mesh3d"
           }
          ],
          "parcoords": [
           {
            "line": {
             "colorbar": {
              "outlinewidth": 0,
              "ticks": ""
             }
            },
            "type": "parcoords"
           }
          ],
          "pie": [
           {
            "automargin": true,
            "type": "pie"
           }
          ],
          "scatter": [
           {
            "fillpattern": {
             "fillmode": "overlay",
             "size": 10,
             "solidity": 0.2
            },
            "type": "scatter"
           }
          ],
          "scatter3d": [
           {
            "line": {
             "colorbar": {
              "outlinewidth": 0,
              "ticks": ""
             }
            },
            "marker": {
             "colorbar": {
              "outlinewidth": 0,
              "ticks": ""
             }
            },
            "type": "scatter3d"
           }
          ],
          "scattercarpet": [
           {
            "marker": {
             "colorbar": {
              "outlinewidth": 0,
              "ticks": ""
             }
            },
            "type": "scattercarpet"
           }
          ],
          "scattergeo": [
           {
            "marker": {
             "colorbar": {
              "outlinewidth": 0,
              "ticks": ""
             }
            },
            "type": "scattergeo"
           }
          ],
          "scattergl": [
           {
            "marker": {
             "colorbar": {
              "outlinewidth": 0,
              "ticks": ""
             }
            },
            "type": "scattergl"
           }
          ],
          "scattermapbox": [
           {
            "marker": {
             "colorbar": {
              "outlinewidth": 0,
              "ticks": ""
             }
            },
            "type": "scattermapbox"
           }
          ],
          "scatterpolar": [
           {
            "marker": {
             "colorbar": {
              "outlinewidth": 0,
              "ticks": ""
             }
            },
            "type": "scatterpolar"
           }
          ],
          "scatterpolargl": [
           {
            "marker": {
             "colorbar": {
              "outlinewidth": 0,
              "ticks": ""
             }
            },
            "type": "scatterpolargl"
           }
          ],
          "scatterternary": [
           {
            "marker": {
             "colorbar": {
              "outlinewidth": 0,
              "ticks": ""
             }
            },
            "type": "scatterternary"
           }
          ],
          "surface": [
           {
            "colorbar": {
             "outlinewidth": 0,
             "ticks": ""
            },
            "colorscale": [
             [
              0,
              "#0d0887"
             ],
             [
              0.1111111111111111,
              "#46039f"
             ],
             [
              0.2222222222222222,
              "#7201a8"
             ],
             [
              0.3333333333333333,
              "#9c179e"
             ],
             [
              0.4444444444444444,
              "#bd3786"
             ],
             [
              0.5555555555555556,
              "#d8576b"
             ],
             [
              0.6666666666666666,
              "#ed7953"
             ],
             [
              0.7777777777777778,
              "#fb9f3a"
             ],
             [
              0.8888888888888888,
              "#fdca26"
             ],
             [
              1,
              "#f0f921"
             ]
            ],
            "type": "surface"
           }
          ],
          "table": [
           {
            "cells": {
             "fill": {
              "color": "#EBF0F8"
             },
             "line": {
              "color": "white"
             }
            },
            "header": {
             "fill": {
              "color": "#C8D4E3"
             },
             "line": {
              "color": "white"
             }
            },
            "type": "table"
           }
          ]
         },
         "layout": {
          "annotationdefaults": {
           "arrowcolor": "#2a3f5f",
           "arrowhead": 0,
           "arrowwidth": 1
          },
          "autotypenumbers": "strict",
          "coloraxis": {
           "colorbar": {
            "outlinewidth": 0,
            "ticks": ""
           }
          },
          "colorscale": {
           "diverging": [
            [
             0,
             "#8e0152"
            ],
            [
             0.1,
             "#c51b7d"
            ],
            [
             0.2,
             "#de77ae"
            ],
            [
             0.3,
             "#f1b6da"
            ],
            [
             0.4,
             "#fde0ef"
            ],
            [
             0.5,
             "#f7f7f7"
            ],
            [
             0.6,
             "#e6f5d0"
            ],
            [
             0.7,
             "#b8e186"
            ],
            [
             0.8,
             "#7fbc41"
            ],
            [
             0.9,
             "#4d9221"
            ],
            [
             1,
             "#276419"
            ]
           ],
           "sequential": [
            [
             0,
             "#0d0887"
            ],
            [
             0.1111111111111111,
             "#46039f"
            ],
            [
             0.2222222222222222,
             "#7201a8"
            ],
            [
             0.3333333333333333,
             "#9c179e"
            ],
            [
             0.4444444444444444,
             "#bd3786"
            ],
            [
             0.5555555555555556,
             "#d8576b"
            ],
            [
             0.6666666666666666,
             "#ed7953"
            ],
            [
             0.7777777777777778,
             "#fb9f3a"
            ],
            [
             0.8888888888888888,
             "#fdca26"
            ],
            [
             1,
             "#f0f921"
            ]
           ],
           "sequentialminus": [
            [
             0,
             "#0d0887"
            ],
            [
             0.1111111111111111,
             "#46039f"
            ],
            [
             0.2222222222222222,
             "#7201a8"
            ],
            [
             0.3333333333333333,
             "#9c179e"
            ],
            [
             0.4444444444444444,
             "#bd3786"
            ],
            [
             0.5555555555555556,
             "#d8576b"
            ],
            [
             0.6666666666666666,
             "#ed7953"
            ],
            [
             0.7777777777777778,
             "#fb9f3a"
            ],
            [
             0.8888888888888888,
             "#fdca26"
            ],
            [
             1,
             "#f0f921"
            ]
           ]
          },
          "colorway": [
           "#636efa",
           "#EF553B",
           "#00cc96",
           "#ab63fa",
           "#FFA15A",
           "#19d3f3",
           "#FF6692",
           "#B6E880",
           "#FF97FF",
           "#FECB52"
          ],
          "font": {
           "color": "#2a3f5f"
          },
          "geo": {
           "bgcolor": "white",
           "lakecolor": "white",
           "landcolor": "#E5ECF6",
           "showlakes": true,
           "showland": true,
           "subunitcolor": "white"
          },
          "hoverlabel": {
           "align": "left"
          },
          "hovermode": "closest",
          "mapbox": {
           "style": "light"
          },
          "paper_bgcolor": "white",
          "plot_bgcolor": "#E5ECF6",
          "polar": {
           "angularaxis": {
            "gridcolor": "white",
            "linecolor": "white",
            "ticks": ""
           },
           "bgcolor": "#E5ECF6",
           "radialaxis": {
            "gridcolor": "white",
            "linecolor": "white",
            "ticks": ""
           }
          },
          "scene": {
           "xaxis": {
            "backgroundcolor": "#E5ECF6",
            "gridcolor": "white",
            "gridwidth": 2,
            "linecolor": "white",
            "showbackground": true,
            "ticks": "",
            "zerolinecolor": "white"
           },
           "yaxis": {
            "backgroundcolor": "#E5ECF6",
            "gridcolor": "white",
            "gridwidth": 2,
            "linecolor": "white",
            "showbackground": true,
            "ticks": "",
            "zerolinecolor": "white"
           },
           "zaxis": {
            "backgroundcolor": "#E5ECF6",
            "gridcolor": "white",
            "gridwidth": 2,
            "linecolor": "white",
            "showbackground": true,
            "ticks": "",
            "zerolinecolor": "white"
           }
          },
          "shapedefaults": {
           "line": {
            "color": "#2a3f5f"
           }
          },
          "ternary": {
           "aaxis": {
            "gridcolor": "white",
            "linecolor": "white",
            "ticks": ""
           },
           "baxis": {
            "gridcolor": "white",
            "linecolor": "white",
            "ticks": ""
           },
           "bgcolor": "#E5ECF6",
           "caxis": {
            "gridcolor": "white",
            "linecolor": "white",
            "ticks": ""
           }
          },
          "title": {
           "x": 0.05
          },
          "xaxis": {
           "automargin": true,
           "gridcolor": "white",
           "linecolor": "white",
           "ticks": "",
           "title": {
            "standoff": 15
           },
           "zerolinecolor": "white",
           "zerolinewidth": 2
          },
          "yaxis": {
           "automargin": true,
           "gridcolor": "white",
           "linecolor": "white",
           "ticks": "",
           "title": {
            "standoff": 15
           },
           "zerolinecolor": "white",
           "zerolinewidth": 2
          }
         }
        },
        "title": {
         "text": "The Total Number of Heavy-Duty Trucks with The Issue of Jumping Mileage or Hour by Brands"
        },
        "xaxis": {
         "title": {
          "text": "Trucks' Brands"
         }
        },
        "yaxis": {
         "title": {
          "text": "Total Issued Amount"
         }
        }
       }
      },
      "text/html": [
       "<div>                            <div id=\"3c1c22dd-9ac4-47fa-a71a-1725c1a77a1f\" class=\"plotly-graph-div\" style=\"height:525px; width:100%;\"></div>            <script type=\"text/javascript\">                require([\"plotly\"], function(Plotly) {                    window.PLOTLYENV=window.PLOTLYENV || {};                                    if (document.getElementById(\"3c1c22dd-9ac4-47fa-a71a-1725c1a77a1f\")) {                    Plotly.newPlot(                        \"3c1c22dd-9ac4-47fa-a71a-1725c1a77a1f\",                        [{\"name\":\">= 2017 year Jumping Mileage\",\"offsetgroup\":\"0\",\"text\":[174.0,40.0,14.0,5.0,4.0,1.0],\"textposition\":\"outside\",\"x\":[\"Freightliner\",\"Volvo\",\"Kenworth\",\"Peterbilt\",\"Western Star\",\"International\"],\"y\":[174,40,14,5,4,1],\"type\":\"bar\"},{\"name\":\"< 2017 year Jumping Mileage\",\"offsetgroup\":\"0\",\"text\":[90.0,13.0,13.0,7.0,1.0],\"textposition\":\"inside\",\"x\":[\"Freightliner\",\"Volvo\",\"Kenworth\",\"Peterbilt\",\"Western Star\",\"International\"],\"y\":[90,13,13,7,1],\"type\":\"bar\"},{\"name\":\">= 2017 year Jumping Hour\",\"offsetgroup\":\"1\",\"text\":[80.0,18.0,4.0,2.0],\"textposition\":\"outside\",\"x\":[\"Freightliner\",\"Volvo\",\"Kenworth\",\"Peterbilt\",\"Western Star\",\"International\"],\"y\":[80,18,4,2],\"type\":\"bar\"},{\"name\":\"< 2017 year Jumping Hour\",\"offsetgroup\":\"1\",\"text\":[12.0,8.0],\"textposition\":\"outside\",\"x\":[\"Freightliner\",\"Volvo\",\"Kenworth\",\"Peterbilt\",\"Western Star\",\"International\"],\"y\":[12,8],\"type\":\"bar\"},{\"name\":\">= 2017 year Jumping Mileage/Hour\",\"offsetgroup\":\"2\",\"text\":[52.0,13.0,3.0,2.0,1.0,1.0],\"textposition\":\"outside\",\"x\":[\"Freightliner\",\"Volvo\",\"Kenworth\",\"Peterbilt\",\"Western Star\",\"International\"],\"y\":[52,13,3,2,1,1],\"type\":\"bar\"},{\"name\":\"< 2017 year Jumping Mileage/Hour\",\"offsetgroup\":\"2\",\"text\":[13.0,3.0],\"textposition\":\"auto\",\"x\":[\"Freightliner\",\"Volvo\",\"Kenworth\",\"Peterbilt\",\"Western Star\",\"International\"],\"y\":[13,3],\"type\":\"bar\"}],                        {\"template\":{\"data\":{\"histogram2dcontour\":[{\"type\":\"histogram2dcontour\",\"colorbar\":{\"outlinewidth\":0,\"ticks\":\"\"},\"colorscale\":[[0.0,\"#0d0887\"],[0.1111111111111111,\"#46039f\"],[0.2222222222222222,\"#7201a8\"],[0.3333333333333333,\"#9c179e\"],[0.4444444444444444,\"#bd3786\"],[0.5555555555555556,\"#d8576b\"],[0.6666666666666666,\"#ed7953\"],[0.7777777777777778,\"#fb9f3a\"],[0.8888888888888888,\"#fdca26\"],[1.0,\"#f0f921\"]]}],\"choropleth\":[{\"type\":\"choropleth\",\"colorbar\":{\"outlinewidth\":0,\"ticks\":\"\"}}],\"histogram2d\":[{\"type\":\"histogram2d\",\"colorbar\":{\"outlinewidth\":0,\"ticks\":\"\"},\"colorscale\":[[0.0,\"#0d0887\"],[0.1111111111111111,\"#46039f\"],[0.2222222222222222,\"#7201a8\"],[0.3333333333333333,\"#9c179e\"],[0.4444444444444444,\"#bd3786\"],[0.5555555555555556,\"#d8576b\"],[0.6666666666666666,\"#ed7953\"],[0.7777777777777778,\"#fb9f3a\"],[0.8888888888888888,\"#fdca26\"],[1.0,\"#f0f921\"]]}],\"heatmap\":[{\"type\":\"heatmap\",\"colorbar\":{\"outlinewidth\":0,\"ticks\":\"\"},\"colorscale\":[[0.0,\"#0d0887\"],[0.1111111111111111,\"#46039f\"],[0.2222222222222222,\"#7201a8\"],[0.3333333333333333,\"#9c179e\"],[0.4444444444444444,\"#bd3786\"],[0.5555555555555556,\"#d8576b\"],[0.6666666666666666,\"#ed7953\"],[0.7777777777777778,\"#fb9f3a\"],[0.8888888888888888,\"#fdca26\"],[1.0,\"#f0f921\"]]}],\"heatmapgl\":[{\"type\":\"heatmapgl\",\"colorbar\":{\"outlinewidth\":0,\"ticks\":\"\"},\"colorscale\":[[0.0,\"#0d0887\"],[0.1111111111111111,\"#46039f\"],[0.2222222222222222,\"#7201a8\"],[0.3333333333333333,\"#9c179e\"],[0.4444444444444444,\"#bd3786\"],[0.5555555555555556,\"#d8576b\"],[0.6666666666666666,\"#ed7953\"],[0.7777777777777778,\"#fb9f3a\"],[0.8888888888888888,\"#fdca26\"],[1.0,\"#f0f921\"]]}],\"contourcarpet\":[{\"type\":\"contourcarpet\",\"colorbar\":{\"outlinewidth\":0,\"ticks\":\"\"}}],\"contour\":[{\"type\":\"contour\",\"colorbar\":{\"outlinewidth\":0,\"ticks\":\"\"},\"colorscale\":[[0.0,\"#0d0887\"],[0.1111111111111111,\"#46039f\"],[0.2222222222222222,\"#7201a8\"],[0.3333333333333333,\"#9c179e\"],[0.4444444444444444,\"#bd3786\"],[0.5555555555555556,\"#d8576b\"],[0.6666666666666666,\"#ed7953\"],[0.7777777777777778,\"#fb9f3a\"],[0.8888888888888888,\"#fdca26\"],[1.0,\"#f0f921\"]]}],\"surface\":[{\"type\":\"surface\",\"colorbar\":{\"outlinewidth\":0,\"ticks\":\"\"},\"colorscale\":[[0.0,\"#0d0887\"],[0.1111111111111111,\"#46039f\"],[0.2222222222222222,\"#7201a8\"],[0.3333333333333333,\"#9c179e\"],[0.4444444444444444,\"#bd3786\"],[0.5555555555555556,\"#d8576b\"],[0.6666666666666666,\"#ed7953\"],[0.7777777777777778,\"#fb9f3a\"],[0.8888888888888888,\"#fdca26\"],[1.0,\"#f0f921\"]]}],\"mesh3d\":[{\"type\":\"mesh3d\",\"colorbar\":{\"outlinewidth\":0,\"ticks\":\"\"}}],\"scatter\":[{\"fillpattern\":{\"fillmode\":\"overlay\",\"size\":10,\"solidity\":0.2},\"type\":\"scatter\"}],\"parcoords\":[{\"type\":\"parcoords\",\"line\":{\"colorbar\":{\"outlinewidth\":0,\"ticks\":\"\"}}}],\"scatterpolargl\":[{\"type\":\"scatterpolargl\",\"marker\":{\"colorbar\":{\"outlinewidth\":0,\"ticks\":\"\"}}}],\"bar\":[{\"error_x\":{\"color\":\"#2a3f5f\"},\"error_y\":{\"color\":\"#2a3f5f\"},\"marker\":{\"line\":{\"color\":\"#E5ECF6\",\"width\":0.5},\"pattern\":{\"fillmode\":\"overlay\",\"size\":10,\"solidity\":0.2}},\"type\":\"bar\"}],\"scattergeo\":[{\"type\":\"scattergeo\",\"marker\":{\"colorbar\":{\"outlinewidth\":0,\"ticks\":\"\"}}}],\"scatterpolar\":[{\"type\":\"scatterpolar\",\"marker\":{\"colorbar\":{\"outlinewidth\":0,\"ticks\":\"\"}}}],\"histogram\":[{\"marker\":{\"pattern\":{\"fillmode\":\"overlay\",\"size\":10,\"solidity\":0.2}},\"type\":\"histogram\"}],\"scattergl\":[{\"type\":\"scattergl\",\"marker\":{\"colorbar\":{\"outlinewidth\":0,\"ticks\":\"\"}}}],\"scatter3d\":[{\"type\":\"scatter3d\",\"line\":{\"colorbar\":{\"outlinewidth\":0,\"ticks\":\"\"}},\"marker\":{\"colorbar\":{\"outlinewidth\":0,\"ticks\":\"\"}}}],\"scattermapbox\":[{\"type\":\"scattermapbox\",\"marker\":{\"colorbar\":{\"outlinewidth\":0,\"ticks\":\"\"}}}],\"scatterternary\":[{\"type\":\"scatterternary\",\"marker\":{\"colorbar\":{\"outlinewidth\":0,\"ticks\":\"\"}}}],\"scattercarpet\":[{\"type\":\"scattercarpet\",\"marker\":{\"colorbar\":{\"outlinewidth\":0,\"ticks\":\"\"}}}],\"carpet\":[{\"aaxis\":{\"endlinecolor\":\"#2a3f5f\",\"gridcolor\":\"white\",\"linecolor\":\"white\",\"minorgridcolor\":\"white\",\"startlinecolor\":\"#2a3f5f\"},\"baxis\":{\"endlinecolor\":\"#2a3f5f\",\"gridcolor\":\"white\",\"linecolor\":\"white\",\"minorgridcolor\":\"white\",\"startlinecolor\":\"#2a3f5f\"},\"type\":\"carpet\"}],\"table\":[{\"cells\":{\"fill\":{\"color\":\"#EBF0F8\"},\"line\":{\"color\":\"white\"}},\"header\":{\"fill\":{\"color\":\"#C8D4E3\"},\"line\":{\"color\":\"white\"}},\"type\":\"table\"}],\"barpolar\":[{\"marker\":{\"line\":{\"color\":\"#E5ECF6\",\"width\":0.5},\"pattern\":{\"fillmode\":\"overlay\",\"size\":10,\"solidity\":0.2}},\"type\":\"barpolar\"}],\"pie\":[{\"automargin\":true,\"type\":\"pie\"}]},\"layout\":{\"autotypenumbers\":\"strict\",\"colorway\":[\"#636efa\",\"#EF553B\",\"#00cc96\",\"#ab63fa\",\"#FFA15A\",\"#19d3f3\",\"#FF6692\",\"#B6E880\",\"#FF97FF\",\"#FECB52\"],\"font\":{\"color\":\"#2a3f5f\"},\"hovermode\":\"closest\",\"hoverlabel\":{\"align\":\"left\"},\"paper_bgcolor\":\"white\",\"plot_bgcolor\":\"#E5ECF6\",\"polar\":{\"bgcolor\":\"#E5ECF6\",\"angularaxis\":{\"gridcolor\":\"white\",\"linecolor\":\"white\",\"ticks\":\"\"},\"radialaxis\":{\"gridcolor\":\"white\",\"linecolor\":\"white\",\"ticks\":\"\"}},\"ternary\":{\"bgcolor\":\"#E5ECF6\",\"aaxis\":{\"gridcolor\":\"white\",\"linecolor\":\"white\",\"ticks\":\"\"},\"baxis\":{\"gridcolor\":\"white\",\"linecolor\":\"white\",\"ticks\":\"\"},\"caxis\":{\"gridcolor\":\"white\",\"linecolor\":\"white\",\"ticks\":\"\"}},\"coloraxis\":{\"colorbar\":{\"outlinewidth\":0,\"ticks\":\"\"}},\"colorscale\":{\"sequential\":[[0.0,\"#0d0887\"],[0.1111111111111111,\"#46039f\"],[0.2222222222222222,\"#7201a8\"],[0.3333333333333333,\"#9c179e\"],[0.4444444444444444,\"#bd3786\"],[0.5555555555555556,\"#d8576b\"],[0.6666666666666666,\"#ed7953\"],[0.7777777777777778,\"#fb9f3a\"],[0.8888888888888888,\"#fdca26\"],[1.0,\"#f0f921\"]],\"sequentialminus\":[[0.0,\"#0d0887\"],[0.1111111111111111,\"#46039f\"],[0.2222222222222222,\"#7201a8\"],[0.3333333333333333,\"#9c179e\"],[0.4444444444444444,\"#bd3786\"],[0.5555555555555556,\"#d8576b\"],[0.6666666666666666,\"#ed7953\"],[0.7777777777777778,\"#fb9f3a\"],[0.8888888888888888,\"#fdca26\"],[1.0,\"#f0f921\"]],\"diverging\":[[0,\"#8e0152\"],[0.1,\"#c51b7d\"],[0.2,\"#de77ae\"],[0.3,\"#f1b6da\"],[0.4,\"#fde0ef\"],[0.5,\"#f7f7f7\"],[0.6,\"#e6f5d0\"],[0.7,\"#b8e186\"],[0.8,\"#7fbc41\"],[0.9,\"#4d9221\"],[1,\"#276419\"]]},\"xaxis\":{\"gridcolor\":\"white\",\"linecolor\":\"white\",\"ticks\":\"\",\"title\":{\"standoff\":15},\"zerolinecolor\":\"white\",\"automargin\":true,\"zerolinewidth\":2},\"yaxis\":{\"gridcolor\":\"white\",\"linecolor\":\"white\",\"ticks\":\"\",\"title\":{\"standoff\":15},\"zerolinecolor\":\"white\",\"automargin\":true,\"zerolinewidth\":2},\"scene\":{\"xaxis\":{\"backgroundcolor\":\"#E5ECF6\",\"gridcolor\":\"white\",\"linecolor\":\"white\",\"showbackground\":true,\"ticks\":\"\",\"zerolinecolor\":\"white\",\"gridwidth\":2},\"yaxis\":{\"backgroundcolor\":\"#E5ECF6\",\"gridcolor\":\"white\",\"linecolor\":\"white\",\"showbackground\":true,\"ticks\":\"\",\"zerolinecolor\":\"white\",\"gridwidth\":2},\"zaxis\":{\"backgroundcolor\":\"#E5ECF6\",\"gridcolor\":\"white\",\"linecolor\":\"white\",\"showbackground\":true,\"ticks\":\"\",\"zerolinecolor\":\"white\",\"gridwidth\":2}},\"shapedefaults\":{\"line\":{\"color\":\"#2a3f5f\"}},\"annotationdefaults\":{\"arrowcolor\":\"#2a3f5f\",\"arrowhead\":0,\"arrowwidth\":1},\"geo\":{\"bgcolor\":\"white\",\"landcolor\":\"#E5ECF6\",\"subunitcolor\":\"white\",\"showland\":true,\"showlakes\":true,\"lakecolor\":\"white\"},\"title\":{\"x\":0.05},\"mapbox\":{\"style\":\"light\"}}},\"annotations\":[{\"arrowhead\":1,\"showarrow\":true,\"text\":\"Text annotation with arrow\",\"x\":[\"Freightliner\",\"Volvo\",\"Kenworth\",\"Peterbilt\",\"Western Star\",\"International\"],\"y\":[174,40,14,5,4,1]}],\"title\":{\"text\":\"The Total Number of Heavy-Duty Trucks with The Issue of Jumping Mileage or Hour by Brands\"},\"barmode\":\"group\",\"xaxis\":{\"title\":{\"text\":\"Trucks' Brands\"}},\"yaxis\":{\"title\":{\"text\":\"Total Issued Amount\"}}},                        {\"responsive\": true}                    ).then(function(){\n",
       "                            \n",
       "var gd = document.getElementById('3c1c22dd-9ac4-47fa-a71a-1725c1a77a1f');\n",
       "var x = new MutationObserver(function (mutations, observer) {{\n",
       "        var display = window.getComputedStyle(gd).display;\n",
       "        if (!display || display === 'none') {{\n",
       "            console.log([gd, 'removed!']);\n",
       "            Plotly.purge(gd);\n",
       "            observer.disconnect();\n",
       "        }}\n",
       "}});\n",
       "\n",
       "// Listen for the removal of the full notebook cells\n",
       "var notebookContainer = gd.closest('#notebook-container');\n",
       "if (notebookContainer) {{\n",
       "    x.observe(notebookContainer, {childList: true});\n",
       "}}\n",
       "\n",
       "// Listen for the clearing of the current output cell\n",
       "var outputEl = gd.closest('.output');\n",
       "if (outputEl) {{\n",
       "    x.observe(outputEl, {childList: true});\n",
       "}}\n",
       "\n",
       "                        })                };                });            </script>        </div>"
      ]
     },
     "metadata": {},
     "output_type": "display_data"
    }
   ],
   "source": [
    "# plot grouped bar chart\n",
    "fig = go.Figure()\n",
    "#fig.add_trace(go.Bar(x=Vehiclemake, y=EDM['VehicleMake'].value_counts()[:6], name=\"Jumping Mileage\", text=EDM['VehicleMake'].value_counts()[:6], textposition='outside', offsetgroup=0,))\n",
    "#fig.add_trace(go.Bar(x=Vehiclemake, y=EDH['VehicleMake'].value_counts()[:6], name=\"Jumping Mileage\", text=EDH['VehicleMake'].value_counts()[:6], textposition='outside', offsetgroup=1,))\n",
    "#fig.add_trace(go.Bar(x=Vehiclemake, y=EDMH['VehicleMake'].value_counts()[:6], name=\"Jumping Mileage\", text=EDMH['VehicleMake'].value_counts()[:6], textposition='outside', offsetgroup=2,))\n",
    "fig.add_trace(go.Bar(x=Vehiclemake, y=EDM2017['VehicleMake'].value_counts()[:6], name=\">= 2017 year Jumping Mileage\", text=EDM2017['VehicleMake'].value_counts()[:6], textposition='outside', offsetgroup=0,))\n",
    "fig.add_trace(go.Bar(x=Vehiclemake, y=EDM2016['VehicleMake'].value_counts()[:6], name=\"< 2017 year Jumping Mileage\", text=EDM2016['VehicleMake'].value_counts()[:6], textposition='inside', offsetgroup=0,))\n",
    "fig.add_trace(go.Bar(x=Vehiclemake, y=EDH2017['VehicleMake'].value_counts()[:6], name=\">= 2017 year Jumping Hour\", text=EDH2017['VehicleMake'].value_counts()[:6], textposition='outside', offsetgroup=1,))\n",
    "fig.add_trace(go.Bar(x=Vehiclemake, y=EDH2016['VehicleMake'].value_counts()[:6], name=\"< 2017 year Jumping Hour\", text=EDH2016['VehicleMake'].value_counts()[:6], textposition='outside', offsetgroup=1,))\n",
    "fig.add_trace(go.Bar(x=Vehiclemake, y=EDMH2017['VehicleMake'].value_counts()[:6], name=\">= 2017 year Jumping Mileage/Hour\", text=EDMH2017['VehicleMake'].value_counts()[:6], textposition='outside', offsetgroup=2,))\n",
    "fig.add_trace(go.Bar(x=Vehiclemake, y=EDMH2016['VehicleMake'].value_counts()[:6], name=\"< 2017 year Jumping Mileage/Hour\", text=EDMH2016['VehicleMake'].value_counts()[:6], textposition='auto', offsetgroup=2,))\n",
    "\n",
    "fig.add_annotation(x=Vehiclemake, y=EDM2017['VehicleMake'].value_counts()[:6],\n",
    "            text=\"Text annotation with arrow\",\n",
    "            showarrow=True,\n",
    "            arrowhead=1)\n",
    "\n",
    "fig.update_layout(barmode=\"group\", title_text=\"The Total Number of Heavy-Duty Trucks with The Issue of Jumping Mileage or Hour by Brands\", xaxis_title=\"Trucks' Brands\", yaxis_title=\"Total Issued Amount\")\n",
    "fig.show()"
   ]
  },
  {
   "cell_type": "code",
   "execution_count": 427,
   "id": "000fd1ea",
   "metadata": {},
   "outputs": [
    {
     "data": {
      "text/html": [
       "<div>\n",
       "<style scoped>\n",
       "    .dataframe tbody tr th:only-of-type {\n",
       "        vertical-align: middle;\n",
       "    }\n",
       "\n",
       "    .dataframe tbody tr th {\n",
       "        vertical-align: top;\n",
       "    }\n",
       "\n",
       "    .dataframe thead th {\n",
       "        text-align: right;\n",
       "    }\n",
       "</style>\n",
       "<table border=\"1\" class=\"dataframe\">\n",
       "  <thead>\n",
       "    <tr style=\"text-align: right;\">\n",
       "      <th></th>\n",
       "      <th>SequenceNo</th>\n",
       "      <th>OrgName</th>\n",
       "      <th>Date</th>\n",
       "      <th>DriverName</th>\n",
       "      <th>InvalidType</th>\n",
       "      <th>VehicleMake</th>\n",
       "      <th>VehicleYear</th>\n",
       "      <th>VIN</th>\n",
       "      <th>SerialNo</th>\n",
       "    </tr>\n",
       "  </thead>\n",
       "  <tbody>\n",
       "    <tr>\n",
       "      <th>13</th>\n",
       "      <td>823</td>\n",
       "      <td>Lydia Express Inc.</td>\n",
       "      <td>1112023</td>\n",
       "      <td>GUOBIN YANG</td>\n",
       "      <td>Mileage/Hour</td>\n",
       "      <td>Freightliner</td>\n",
       "      <td>2016</td>\n",
       "      <td>1FUJGLBG2GLHA0856</td>\n",
       "      <td>211005627</td>\n",
       "    </tr>\n",
       "    <tr>\n",
       "      <th>96</th>\n",
       "      <td>1261</td>\n",
       "      <td>TS Transportation Inc.</td>\n",
       "      <td>1152023</td>\n",
       "      <td>Xuechen He</td>\n",
       "      <td>Mileage</td>\n",
       "      <td>Freightliner</td>\n",
       "      <td>2016</td>\n",
       "      <td>1FUJGLD58GLGV6569</td>\n",
       "      <td>211005491</td>\n",
       "    </tr>\n",
       "    <tr>\n",
       "      <th>197</th>\n",
       "      <td>1155</td>\n",
       "      <td>Ryno Express Corp</td>\n",
       "      <td>1142023</td>\n",
       "      <td>Ryan Kaday Thrua</td>\n",
       "      <td>Mileage</td>\n",
       "      <td>Freightliner</td>\n",
       "      <td>2013</td>\n",
       "      <td>1FUJGLDR6DSBV4938</td>\n",
       "      <td>211005379</td>\n",
       "    </tr>\n",
       "    <tr>\n",
       "      <th>225</th>\n",
       "      <td>629</td>\n",
       "      <td>GS Flash Logistics, Inc.</td>\n",
       "      <td>1092023</td>\n",
       "      <td>meng zhang</td>\n",
       "      <td>Mileage</td>\n",
       "      <td>Freightliner</td>\n",
       "      <td>2018</td>\n",
       "      <td>1FUJGLDR8JLHG8097</td>\n",
       "      <td>211005350</td>\n",
       "    </tr>\n",
       "    <tr>\n",
       "      <th>465</th>\n",
       "      <td>1010</td>\n",
       "      <td>T &amp; L Carriers Inc.</td>\n",
       "      <td>1122023</td>\n",
       "      <td>Changlong Li</td>\n",
       "      <td>Mileage</td>\n",
       "      <td>Kenworth</td>\n",
       "      <td>2019</td>\n",
       "      <td>1XKYD49X9KJ221242</td>\n",
       "      <td>211005500</td>\n",
       "    </tr>\n",
       "    <tr>\n",
       "      <th>533</th>\n",
       "      <td>227</td>\n",
       "      <td>Rongyun Trucking Inc</td>\n",
       "      <td>1042023</td>\n",
       "      <td>Wan Yu</td>\n",
       "      <td>Mileage/Hour</td>\n",
       "      <td>Peterbilt</td>\n",
       "      <td>2023</td>\n",
       "      <td>1XPBD49X9PD880332</td>\n",
       "      <td>211005411</td>\n",
       "    </tr>\n",
       "    <tr>\n",
       "      <th>564</th>\n",
       "      <td>861</td>\n",
       "      <td>4 Season Express Inc</td>\n",
       "      <td>1112023</td>\n",
       "      <td>Kil H Lee</td>\n",
       "      <td>Hour</td>\n",
       "      <td>Freightliner</td>\n",
       "      <td>2016</td>\n",
       "      <td>3AKGGLD53GSGC5434</td>\n",
       "      <td>211005516</td>\n",
       "    </tr>\n",
       "    <tr>\n",
       "      <th>1036</th>\n",
       "      <td>139</td>\n",
       "      <td>ZQY Logistics Inc</td>\n",
       "      <td>1032023</td>\n",
       "      <td>Zhongqing Yang</td>\n",
       "      <td>Mileage/Hour</td>\n",
       "      <td>Freightliner</td>\n",
       "      <td>2017</td>\n",
       "      <td>3AKJGLDR0HSHZ6706</td>\n",
       "      <td>211005583</td>\n",
       "    </tr>\n",
       "    <tr>\n",
       "      <th>1066</th>\n",
       "      <td>389</td>\n",
       "      <td>L&amp;C Speed Inc</td>\n",
       "      <td>1062023</td>\n",
       "      <td>waichung tam</td>\n",
       "      <td>Hour</td>\n",
       "      <td>Freightliner</td>\n",
       "      <td>2017</td>\n",
       "      <td>3AKJGLDR1HSJA5093</td>\n",
       "      <td>211005418</td>\n",
       "    </tr>\n",
       "    <tr>\n",
       "      <th>1266</th>\n",
       "      <td>1934</td>\n",
       "      <td>Gold Apple Trucking Inc</td>\n",
       "      <td>1252023</td>\n",
       "      <td>BENNIE WHITE</td>\n",
       "      <td>Hour</td>\n",
       "      <td>Freightliner</td>\n",
       "      <td>2016</td>\n",
       "      <td>3AKJGLDR4GSGW7284</td>\n",
       "      <td>211005482</td>\n",
       "    </tr>\n",
       "    <tr>\n",
       "      <th>1341</th>\n",
       "      <td>2406</td>\n",
       "      <td>Golden Horse Transportation Inc.</td>\n",
       "      <td>1312023</td>\n",
       "      <td>Wenjie Cong</td>\n",
       "      <td>Hour</td>\n",
       "      <td>Freightliner</td>\n",
       "      <td>2016</td>\n",
       "      <td>3AKJGLDR5GSGZ5160</td>\n",
       "      <td>211005474</td>\n",
       "    </tr>\n",
       "    <tr>\n",
       "      <th>1363</th>\n",
       "      <td>1775</td>\n",
       "      <td>Juzhong Trucking Inc</td>\n",
       "      <td>1222023</td>\n",
       "      <td>zhenhang xu</td>\n",
       "      <td>Mileage</td>\n",
       "      <td>Freightliner</td>\n",
       "      <td>2017</td>\n",
       "      <td>3AKJGLDR5HSHF1921</td>\n",
       "      <td>211005625</td>\n",
       "    </tr>\n",
       "    <tr>\n",
       "      <th>1478</th>\n",
       "      <td>2151</td>\n",
       "      <td>MJ Express Inc.</td>\n",
       "      <td>1272023</td>\n",
       "      <td>Ming Ma</td>\n",
       "      <td>Mileage</td>\n",
       "      <td>Freightliner</td>\n",
       "      <td>2018</td>\n",
       "      <td>3AKJGLDR5JSHU5286</td>\n",
       "      <td>211005552</td>\n",
       "    </tr>\n",
       "    <tr>\n",
       "      <th>1521</th>\n",
       "      <td>977</td>\n",
       "      <td>ZL Transport Inc</td>\n",
       "      <td>1122023</td>\n",
       "      <td>yuheng sun</td>\n",
       "      <td>Mileage</td>\n",
       "      <td>Freightliner</td>\n",
       "      <td>2017</td>\n",
       "      <td>3AKJGLDR6HSHJ4364</td>\n",
       "      <td>211005564</td>\n",
       "    </tr>\n",
       "    <tr>\n",
       "      <th>1618</th>\n",
       "      <td>1475</td>\n",
       "      <td>Eagle Land Transportaion Inc.</td>\n",
       "      <td>1182023</td>\n",
       "      <td>Baoguo Liu</td>\n",
       "      <td>Hour</td>\n",
       "      <td>Freightliner</td>\n",
       "      <td>2017</td>\n",
       "      <td>3AKJGLDR8HSHJ4009</td>\n",
       "      <td>211005492</td>\n",
       "    </tr>\n",
       "    <tr>\n",
       "      <th>1684</th>\n",
       "      <td>594</td>\n",
       "      <td>Anshun Express Inc</td>\n",
       "      <td>1082023</td>\n",
       "      <td>Jian Liu</td>\n",
       "      <td>Mileage/Hour</td>\n",
       "      <td>Freightliner</td>\n",
       "      <td>2017</td>\n",
       "      <td>3AKJGLDR9HSHZ6753</td>\n",
       "      <td>211005405</td>\n",
       "    </tr>\n",
       "    <tr>\n",
       "      <th>1706</th>\n",
       "      <td>350</td>\n",
       "      <td>Tzeng Yun Trucking Inc</td>\n",
       "      <td>1052023</td>\n",
       "      <td>Kunhsien Lin</td>\n",
       "      <td>Mileage</td>\n",
       "      <td>Freightliner</td>\n",
       "      <td>2016</td>\n",
       "      <td>3AKJGLDRXGSHC7287</td>\n",
       "      <td>211005370</td>\n",
       "    </tr>\n",
       "    <tr>\n",
       "      <th>1828</th>\n",
       "      <td>39</td>\n",
       "      <td>Dream Logistics</td>\n",
       "      <td>1012023</td>\n",
       "      <td>Jianfeng Li</td>\n",
       "      <td>Hour</td>\n",
       "      <td>Freightliner</td>\n",
       "      <td>2023</td>\n",
       "      <td>3AKJHHDR0PSUH0759</td>\n",
       "      <td>211005403</td>\n",
       "    </tr>\n",
       "    <tr>\n",
       "      <th>1881</th>\n",
       "      <td>438</td>\n",
       "      <td>HUI SHENG LLC</td>\n",
       "      <td>1072023</td>\n",
       "      <td>SHI DONG</td>\n",
       "      <td>Mileage</td>\n",
       "      <td>Freightliner</td>\n",
       "      <td>2019</td>\n",
       "      <td>3AKJHHDR2KSKH2418</td>\n",
       "      <td>211005586</td>\n",
       "    </tr>\n",
       "    <tr>\n",
       "      <th>1890</th>\n",
       "      <td>427</td>\n",
       "      <td>Moving Star Trucking Inc</td>\n",
       "      <td>1062023</td>\n",
       "      <td>FenQuan Dong</td>\n",
       "      <td>Mileage</td>\n",
       "      <td>Freightliner</td>\n",
       "      <td>2018</td>\n",
       "      <td>3AKJHHDR3JSJJ6472</td>\n",
       "      <td>211005371</td>\n",
       "    </tr>\n",
       "    <tr>\n",
       "      <th>1906</th>\n",
       "      <td>456</td>\n",
       "      <td>Squirrelfleet Logistics Inc.</td>\n",
       "      <td>1072023</td>\n",
       "      <td>longchao li</td>\n",
       "      <td>Mileage</td>\n",
       "      <td>Freightliner</td>\n",
       "      <td>2023</td>\n",
       "      <td>3AKJHHDR3PSUM4743</td>\n",
       "      <td>211005458</td>\n",
       "    </tr>\n",
       "    <tr>\n",
       "      <th>1915</th>\n",
       "      <td>1259</td>\n",
       "      <td>Gold Apple Trucking Inc</td>\n",
       "      <td>1152023</td>\n",
       "      <td>DARNELL WILLIAMS</td>\n",
       "      <td>Mileage</td>\n",
       "      <td>Freightliner</td>\n",
       "      <td>2019</td>\n",
       "      <td>3AKJHHDR4KSKD3409</td>\n",
       "      <td>211005489</td>\n",
       "    </tr>\n",
       "    <tr>\n",
       "      <th>1968</th>\n",
       "      <td>407</td>\n",
       "      <td>Xiaoyu Enterprise</td>\n",
       "      <td>1062023</td>\n",
       "      <td>FRANK MING WANG</td>\n",
       "      <td>Hour</td>\n",
       "      <td>Freightliner</td>\n",
       "      <td>2020</td>\n",
       "      <td>3AKJHHDR6LSLS4333</td>\n",
       "      <td>211005382</td>\n",
       "    </tr>\n",
       "    <tr>\n",
       "      <th>2066</th>\n",
       "      <td>495</td>\n",
       "      <td>CBA Trucking Inc</td>\n",
       "      <td>1072023</td>\n",
       "      <td>Wang Xin</td>\n",
       "      <td>Mileage</td>\n",
       "      <td>Freightliner</td>\n",
       "      <td>2019</td>\n",
       "      <td>3AKJHHDR9KSKC5337</td>\n",
       "      <td>211005528</td>\n",
       "    </tr>\n",
       "    <tr>\n",
       "      <th>2146</th>\n",
       "      <td>26</td>\n",
       "      <td>DCC Express Inc.</td>\n",
       "      <td>1012023</td>\n",
       "      <td>Chuanjiang Dong</td>\n",
       "      <td>Mileage/Hour</td>\n",
       "      <td>Freightliner</td>\n",
       "      <td>2019</td>\n",
       "      <td>3AKJHHDRXKSKG9993</td>\n",
       "      <td>211005467</td>\n",
       "    </tr>\n",
       "    <tr>\n",
       "      <th>2147</th>\n",
       "      <td>1047</td>\n",
       "      <td>Golden Bridge Trucking Inc</td>\n",
       "      <td>1132023</td>\n",
       "      <td>Fuzhong Chen</td>\n",
       "      <td>Mileage/Hour</td>\n",
       "      <td>Freightliner</td>\n",
       "      <td>2019</td>\n",
       "      <td>3AKJHHDRXKSKH0349</td>\n",
       "      <td>211005577</td>\n",
       "    </tr>\n",
       "    <tr>\n",
       "      <th>2177</th>\n",
       "      <td>508</td>\n",
       "      <td>W &amp; Z Logistics Inc</td>\n",
       "      <td>1072023</td>\n",
       "      <td>Xinming Zhou</td>\n",
       "      <td>Mileage/Hour</td>\n",
       "      <td>Freightliner</td>\n",
       "      <td>2023</td>\n",
       "      <td>3AKJHHDRXPSUH0770</td>\n",
       "      <td>211005346</td>\n",
       "    </tr>\n",
       "    <tr>\n",
       "      <th>2209</th>\n",
       "      <td>19</td>\n",
       "      <td>Seasonable Express Inc.</td>\n",
       "      <td>1012023</td>\n",
       "      <td>Jingming Shi</td>\n",
       "      <td>Mileage/Hour</td>\n",
       "      <td>Volvo</td>\n",
       "      <td>2023</td>\n",
       "      <td>4V4NC9EH0PN611700</td>\n",
       "      <td>211005463</td>\n",
       "    </tr>\n",
       "    <tr>\n",
       "      <th>2210</th>\n",
       "      <td>124</td>\n",
       "      <td>FEIDA Express Inc</td>\n",
       "      <td>1032023</td>\n",
       "      <td>SHU CHENG LI</td>\n",
       "      <td>Mileage</td>\n",
       "      <td>Volvo</td>\n",
       "      <td>2016</td>\n",
       "      <td>4V4NC9EH1GN191638</td>\n",
       "      <td>211005477</td>\n",
       "    </tr>\n",
       "    <tr>\n",
       "      <th>2231</th>\n",
       "      <td>216</td>\n",
       "      <td>Penn Keystone Express Inc</td>\n",
       "      <td>1042023</td>\n",
       "      <td>HuaWei Jiang</td>\n",
       "      <td>Mileage</td>\n",
       "      <td>Volvo</td>\n",
       "      <td>2016</td>\n",
       "      <td>4V4NC9EH3GN942786</td>\n",
       "      <td>211005453</td>\n",
       "    </tr>\n",
       "    <tr>\n",
       "      <th>2243</th>\n",
       "      <td>71</td>\n",
       "      <td>Tailwind Express Inc</td>\n",
       "      <td>1022023</td>\n",
       "      <td>lu xian</td>\n",
       "      <td>Mileage</td>\n",
       "      <td>Volvo</td>\n",
       "      <td>2013</td>\n",
       "      <td>4V4NC9EH5DN149470</td>\n",
       "      <td>211005524</td>\n",
       "    </tr>\n",
       "    <tr>\n",
       "      <th>2247</th>\n",
       "      <td>2421</td>\n",
       "      <td>JMK Trucking Service Inc.</td>\n",
       "      <td>1312023</td>\n",
       "      <td>Jong Man Kim</td>\n",
       "      <td>Mileage/Hour</td>\n",
       "      <td>Volvo</td>\n",
       "      <td>2016</td>\n",
       "      <td>4V4NC9EH5GN949612</td>\n",
       "      <td>211005549</td>\n",
       "    </tr>\n",
       "    <tr>\n",
       "      <th>2270</th>\n",
       "      <td>22</td>\n",
       "      <td>Lixiang Express Inc.</td>\n",
       "      <td>1012023</td>\n",
       "      <td>guoxian fan</td>\n",
       "      <td>Mileage</td>\n",
       "      <td>Volvo</td>\n",
       "      <td>2023</td>\n",
       "      <td>4V4NC9EH6PN613287</td>\n",
       "      <td>211005376</td>\n",
       "    </tr>\n",
       "    <tr>\n",
       "      <th>2286</th>\n",
       "      <td>2339</td>\n",
       "      <td>WAC Express Inc.</td>\n",
       "      <td>1302023</td>\n",
       "      <td>LITAO SONG</td>\n",
       "      <td>Mileage/Hour</td>\n",
       "      <td>Volvo</td>\n",
       "      <td>2023</td>\n",
       "      <td>4V4NC9EH7PN619082</td>\n",
       "      <td>211005683</td>\n",
       "    </tr>\n",
       "    <tr>\n",
       "      <th>2287</th>\n",
       "      <td>208</td>\n",
       "      <td>Tailwind Express Inc</td>\n",
       "      <td>1042023</td>\n",
       "      <td>junqiao cao</td>\n",
       "      <td>Mileage</td>\n",
       "      <td>Volvo</td>\n",
       "      <td>2015</td>\n",
       "      <td>4V4NC9EH8FN190467</td>\n",
       "      <td>211005509</td>\n",
       "    </tr>\n",
       "    <tr>\n",
       "      <th>2326</th>\n",
       "      <td>692</td>\n",
       "      <td>Tailwind Express Inc</td>\n",
       "      <td>1102023</td>\n",
       "      <td>Guangwei Li</td>\n",
       "      <td>Mileage</td>\n",
       "      <td>Volvo</td>\n",
       "      <td>2023</td>\n",
       "      <td>4V4NC9EJ0PN611747</td>\n",
       "      <td>211005584</td>\n",
       "    </tr>\n",
       "    <tr>\n",
       "      <th>2338</th>\n",
       "      <td>48</td>\n",
       "      <td>Link Logistics Inc.</td>\n",
       "      <td>1012023</td>\n",
       "      <td>Kuandong Hu</td>\n",
       "      <td>Mileage</td>\n",
       "      <td>Freightliner</td>\n",
       "      <td>2023</td>\n",
       "      <td>4V4NC9EJ0PN619086</td>\n",
       "      <td>211005497</td>\n",
       "    </tr>\n",
       "    <tr>\n",
       "      <th>2343</th>\n",
       "      <td>1471</td>\n",
       "      <td>Link Logistics Inc.</td>\n",
       "      <td>1182023</td>\n",
       "      <td>Yongyuan Yu</td>\n",
       "      <td>Mileage</td>\n",
       "      <td>Volvo</td>\n",
       "      <td>2022</td>\n",
       "      <td>4V4NC9EJ2NN298536</td>\n",
       "      <td>211005595</td>\n",
       "    </tr>\n",
       "  </tbody>\n",
       "</table>\n",
       "</div>"
      ],
      "text/plain": [
       "      SequenceNo                           OrgName     Date        DriverName  \\\n",
       "13           823                Lydia Express Inc.  1112023       GUOBIN YANG   \n",
       "96          1261            TS Transportation Inc.  1152023        Xuechen He   \n",
       "197         1155                 Ryno Express Corp  1142023  Ryan Kaday Thrua   \n",
       "225          629          GS Flash Logistics, Inc.  1092023        meng zhang   \n",
       "465         1010               T & L Carriers Inc.  1122023      Changlong Li   \n",
       "533          227              Rongyun Trucking Inc  1042023            Wan Yu   \n",
       "564          861              4 Season Express Inc  1112023         Kil H Lee   \n",
       "1036         139                 ZQY Logistics Inc  1032023    Zhongqing Yang   \n",
       "1066         389                     L&C Speed Inc  1062023      waichung tam   \n",
       "1266        1934           Gold Apple Trucking Inc  1252023      BENNIE WHITE   \n",
       "1341        2406  Golden Horse Transportation Inc.  1312023       Wenjie Cong   \n",
       "1363        1775              Juzhong Trucking Inc  1222023       zhenhang xu   \n",
       "1478        2151                   MJ Express Inc.  1272023           Ming Ma   \n",
       "1521         977                  ZL Transport Inc  1122023        yuheng sun   \n",
       "1618        1475     Eagle Land Transportaion Inc.  1182023        Baoguo Liu   \n",
       "1684         594                Anshun Express Inc  1082023          Jian Liu   \n",
       "1706         350            Tzeng Yun Trucking Inc  1052023      Kunhsien Lin   \n",
       "1828          39                   Dream Logistics  1012023       Jianfeng Li   \n",
       "1881         438                     HUI SHENG LLC  1072023          SHI DONG   \n",
       "1890         427          Moving Star Trucking Inc  1062023      FenQuan Dong   \n",
       "1906         456      Squirrelfleet Logistics Inc.  1072023       longchao li   \n",
       "1915        1259           Gold Apple Trucking Inc  1152023  DARNELL WILLIAMS   \n",
       "1968         407                 Xiaoyu Enterprise  1062023   FRANK MING WANG   \n",
       "2066         495                  CBA Trucking Inc  1072023          Wang Xin   \n",
       "2146          26                  DCC Express Inc.  1012023   Chuanjiang Dong   \n",
       "2147        1047        Golden Bridge Trucking Inc  1132023      Fuzhong Chen   \n",
       "2177         508               W & Z Logistics Inc  1072023      Xinming Zhou   \n",
       "2209          19           Seasonable Express Inc.  1012023      Jingming Shi   \n",
       "2210         124                 FEIDA Express Inc  1032023      SHU CHENG LI   \n",
       "2231         216         Penn Keystone Express Inc  1042023      HuaWei Jiang   \n",
       "2243          71              Tailwind Express Inc  1022023           lu xian   \n",
       "2247        2421         JMK Trucking Service Inc.  1312023      Jong Man Kim   \n",
       "2270          22              Lixiang Express Inc.  1012023       guoxian fan   \n",
       "2286        2339                  WAC Express Inc.  1302023        LITAO SONG   \n",
       "2287         208              Tailwind Express Inc  1042023       junqiao cao   \n",
       "2326         692              Tailwind Express Inc  1102023       Guangwei Li   \n",
       "2338          48               Link Logistics Inc.  1012023       Kuandong Hu   \n",
       "2343        1471               Link Logistics Inc.  1182023       Yongyuan Yu   \n",
       "\n",
       "       InvalidType   VehicleMake  VehicleYear                VIN   SerialNo  \n",
       "13    Mileage/Hour  Freightliner         2016  1FUJGLBG2GLHA0856  211005627  \n",
       "96         Mileage  Freightliner         2016  1FUJGLD58GLGV6569  211005491  \n",
       "197        Mileage  Freightliner         2013  1FUJGLDR6DSBV4938  211005379  \n",
       "225        Mileage  Freightliner         2018  1FUJGLDR8JLHG8097  211005350  \n",
       "465        Mileage      Kenworth         2019  1XKYD49X9KJ221242  211005500  \n",
       "533   Mileage/Hour     Peterbilt         2023  1XPBD49X9PD880332  211005411  \n",
       "564           Hour  Freightliner         2016  3AKGGLD53GSGC5434  211005516  \n",
       "1036  Mileage/Hour  Freightliner         2017  3AKJGLDR0HSHZ6706  211005583  \n",
       "1066          Hour  Freightliner         2017  3AKJGLDR1HSJA5093  211005418  \n",
       "1266          Hour  Freightliner         2016  3AKJGLDR4GSGW7284  211005482  \n",
       "1341          Hour  Freightliner         2016  3AKJGLDR5GSGZ5160  211005474  \n",
       "1363       Mileage  Freightliner         2017  3AKJGLDR5HSHF1921  211005625  \n",
       "1478       Mileage  Freightliner         2018  3AKJGLDR5JSHU5286  211005552  \n",
       "1521       Mileage  Freightliner         2017  3AKJGLDR6HSHJ4364  211005564  \n",
       "1618          Hour  Freightliner         2017  3AKJGLDR8HSHJ4009  211005492  \n",
       "1684  Mileage/Hour  Freightliner         2017  3AKJGLDR9HSHZ6753  211005405  \n",
       "1706       Mileage  Freightliner         2016  3AKJGLDRXGSHC7287  211005370  \n",
       "1828          Hour  Freightliner         2023  3AKJHHDR0PSUH0759  211005403  \n",
       "1881       Mileage  Freightliner         2019  3AKJHHDR2KSKH2418  211005586  \n",
       "1890       Mileage  Freightliner         2018  3AKJHHDR3JSJJ6472  211005371  \n",
       "1906       Mileage  Freightliner         2023  3AKJHHDR3PSUM4743  211005458  \n",
       "1915       Mileage  Freightliner         2019  3AKJHHDR4KSKD3409  211005489  \n",
       "1968          Hour  Freightliner         2020  3AKJHHDR6LSLS4333  211005382  \n",
       "2066       Mileage  Freightliner         2019  3AKJHHDR9KSKC5337  211005528  \n",
       "2146  Mileage/Hour  Freightliner         2019  3AKJHHDRXKSKG9993  211005467  \n",
       "2147  Mileage/Hour  Freightliner         2019  3AKJHHDRXKSKH0349  211005577  \n",
       "2177  Mileage/Hour  Freightliner         2023  3AKJHHDRXPSUH0770  211005346  \n",
       "2209  Mileage/Hour         Volvo         2023  4V4NC9EH0PN611700  211005463  \n",
       "2210       Mileage         Volvo         2016  4V4NC9EH1GN191638  211005477  \n",
       "2231       Mileage         Volvo         2016  4V4NC9EH3GN942786  211005453  \n",
       "2243       Mileage         Volvo         2013  4V4NC9EH5DN149470  211005524  \n",
       "2247  Mileage/Hour         Volvo         2016  4V4NC9EH5GN949612  211005549  \n",
       "2270       Mileage         Volvo         2023  4V4NC9EH6PN613287  211005376  \n",
       "2286  Mileage/Hour         Volvo         2023  4V4NC9EH7PN619082  211005683  \n",
       "2287       Mileage         Volvo         2015  4V4NC9EH8FN190467  211005509  \n",
       "2326       Mileage         Volvo         2023  4V4NC9EJ0PN611747  211005584  \n",
       "2338       Mileage  Freightliner         2023  4V4NC9EJ0PN619086  211005497  \n",
       "2343       Mileage         Volvo         2022  4V4NC9EJ2NN298536  211005595  "
      ]
     },
     "execution_count": 427,
     "metadata": {},
     "output_type": "execute_result"
    }
   ],
   "source": [
    "EDNew5331 = EDNew.loc[EDNew[\"SerialNo\"]>211005331]\n",
    "EDNew5331"
   ]
  },
  {
   "cell_type": "code",
   "execution_count": 428,
   "id": "e9a8394d",
   "metadata": {},
   "outputs": [
    {
     "data": {
      "text/html": [
       "<div>\n",
       "<style scoped>\n",
       "    .dataframe tbody tr th:only-of-type {\n",
       "        vertical-align: middle;\n",
       "    }\n",
       "\n",
       "    .dataframe tbody tr th {\n",
       "        vertical-align: top;\n",
       "    }\n",
       "\n",
       "    .dataframe thead th {\n",
       "        text-align: right;\n",
       "    }\n",
       "</style>\n",
       "<table border=\"1\" class=\"dataframe\">\n",
       "  <thead>\n",
       "    <tr style=\"text-align: right;\">\n",
       "      <th></th>\n",
       "      <th>SequenceNo</th>\n",
       "      <th>OrgName</th>\n",
       "      <th>Date</th>\n",
       "      <th>DriverName</th>\n",
       "      <th>InvalidType</th>\n",
       "      <th>VehicleMake</th>\n",
       "      <th>VehicleYear</th>\n",
       "      <th>VIN</th>\n",
       "      <th>SerialNo</th>\n",
       "    </tr>\n",
       "  </thead>\n",
       "  <tbody>\n",
       "    <tr>\n",
       "      <th>56</th>\n",
       "      <td>1929</td>\n",
       "      <td>Western Bucks Inc.</td>\n",
       "      <td>1252023</td>\n",
       "      <td>Furong Yang</td>\n",
       "      <td>Hour</td>\n",
       "      <td>Freightliner</td>\n",
       "      <td>2015</td>\n",
       "      <td>1FUJGLD52FLGS3534</td>\n",
       "      <td>211005240</td>\n",
       "    </tr>\n",
       "    <tr>\n",
       "      <th>59</th>\n",
       "      <td>54</td>\n",
       "      <td>Golden Shore Trucking Corp</td>\n",
       "      <td>1012023</td>\n",
       "      <td>Li Liu</td>\n",
       "      <td>Mileage</td>\n",
       "      <td>Freightliner</td>\n",
       "      <td>2015</td>\n",
       "      <td>1FUJGLD53FLGF4013</td>\n",
       "      <td>211005133</td>\n",
       "    </tr>\n",
       "    <tr>\n",
       "      <th>60</th>\n",
       "      <td>519</td>\n",
       "      <td>XYZ Logistics Inc</td>\n",
       "      <td>1072023</td>\n",
       "      <td>weikeng li</td>\n",
       "      <td>Mileage</td>\n",
       "      <td>Freightliner</td>\n",
       "      <td>2016</td>\n",
       "      <td>1FUJGLD54GLGV0378</td>\n",
       "      <td>211004864</td>\n",
       "    </tr>\n",
       "    <tr>\n",
       "      <th>62</th>\n",
       "      <td>751</td>\n",
       "      <td>W Safe Speed Inc</td>\n",
       "      <td>1102023</td>\n",
       "      <td>Jingjing Wu</td>\n",
       "      <td>Hour</td>\n",
       "      <td>Freightliner</td>\n",
       "      <td>2016</td>\n",
       "      <td>1FUJGLD54GLGZ8351</td>\n",
       "      <td>211004530</td>\n",
       "    </tr>\n",
       "    <tr>\n",
       "      <th>88</th>\n",
       "      <td>1376</td>\n",
       "      <td>Gabriel Logistics Inc.</td>\n",
       "      <td>1172023</td>\n",
       "      <td>Guowei Zhong</td>\n",
       "      <td>Mileage</td>\n",
       "      <td>Freightliner</td>\n",
       "      <td>2015</td>\n",
       "      <td>1FUJGLD55FLGL7086</td>\n",
       "      <td>211004740</td>\n",
       "    </tr>\n",
       "    <tr>\n",
       "      <th>...</th>\n",
       "      <td>...</td>\n",
       "      <td>...</td>\n",
       "      <td>...</td>\n",
       "      <td>...</td>\n",
       "      <td>...</td>\n",
       "      <td>...</td>\n",
       "      <td>...</td>\n",
       "      <td>...</td>\n",
       "      <td>...</td>\n",
       "    </tr>\n",
       "    <tr>\n",
       "      <th>2393</th>\n",
       "      <td>975</td>\n",
       "      <td>I&amp;R Logistics Inc</td>\n",
       "      <td>1122023</td>\n",
       "      <td>Chris Sun</td>\n",
       "      <td>Mileage</td>\n",
       "      <td>Volvo</td>\n",
       "      <td>2023</td>\n",
       "      <td>4V4NC9EJ8PN611768</td>\n",
       "      <td>211005170</td>\n",
       "    </tr>\n",
       "    <tr>\n",
       "      <th>2398</th>\n",
       "      <td>753</td>\n",
       "      <td>Link Logistics Inc.</td>\n",
       "      <td>1102023</td>\n",
       "      <td>Jianquan Yuan</td>\n",
       "      <td>Mileage</td>\n",
       "      <td>Volvo</td>\n",
       "      <td>2023</td>\n",
       "      <td>4V4NC9EJ9PN611794</td>\n",
       "      <td>211004939</td>\n",
       "    </tr>\n",
       "    <tr>\n",
       "      <th>2400</th>\n",
       "      <td>1399</td>\n",
       "      <td>L N Z Trucking</td>\n",
       "      <td>1172023</td>\n",
       "      <td>tao wu</td>\n",
       "      <td>Hour</td>\n",
       "      <td>Volvo</td>\n",
       "      <td>2015</td>\n",
       "      <td>4V4NC9EJXFN908040</td>\n",
       "      <td>211004910</td>\n",
       "    </tr>\n",
       "    <tr>\n",
       "      <th>2402</th>\n",
       "      <td>260</td>\n",
       "      <td>FLSX Trucking Inc</td>\n",
       "      <td>1042023</td>\n",
       "      <td>Zhirong Liao</td>\n",
       "      <td>Mileage/Hour</td>\n",
       "      <td>Volvo</td>\n",
       "      <td>2016</td>\n",
       "      <td>4V4NC9EJXGN953089</td>\n",
       "      <td>211004803</td>\n",
       "    </tr>\n",
       "    <tr>\n",
       "      <th>2416</th>\n",
       "      <td>1441</td>\n",
       "      <td>Tailwind Express Inc</td>\n",
       "      <td>1182023</td>\n",
       "      <td>Zhongyi Wang</td>\n",
       "      <td>Mileage</td>\n",
       "      <td>Volvo</td>\n",
       "      <td>2019</td>\n",
       "      <td>4V4NC9TJ8KN217327</td>\n",
       "      <td>211004741</td>\n",
       "    </tr>\n",
       "  </tbody>\n",
       "</table>\n",
       "<p>103 rows × 9 columns</p>\n",
       "</div>"
      ],
      "text/plain": [
       "      SequenceNo                     OrgName     Date     DriverName  \\\n",
       "56          1929          Western Bucks Inc.  1252023    Furong Yang   \n",
       "59            54  Golden Shore Trucking Corp  1012023         Li Liu   \n",
       "60           519           XYZ Logistics Inc  1072023     weikeng li   \n",
       "62           751            W Safe Speed Inc  1102023    Jingjing Wu   \n",
       "88          1376      Gabriel Logistics Inc.  1172023   Guowei Zhong   \n",
       "...          ...                         ...      ...            ...   \n",
       "2393         975           I&R Logistics Inc  1122023      Chris Sun   \n",
       "2398         753         Link Logistics Inc.  1102023  Jianquan Yuan   \n",
       "2400        1399              L N Z Trucking  1172023         tao wu   \n",
       "2402         260           FLSX Trucking Inc  1042023   Zhirong Liao   \n",
       "2416        1441        Tailwind Express Inc  1182023   Zhongyi Wang   \n",
       "\n",
       "       InvalidType   VehicleMake  VehicleYear                VIN   SerialNo  \n",
       "56            Hour  Freightliner         2015  1FUJGLD52FLGS3534  211005240  \n",
       "59         Mileage  Freightliner         2015  1FUJGLD53FLGF4013  211005133  \n",
       "60         Mileage  Freightliner         2016  1FUJGLD54GLGV0378  211004864  \n",
       "62            Hour  Freightliner         2016  1FUJGLD54GLGZ8351  211004530  \n",
       "88         Mileage  Freightliner         2015  1FUJGLD55FLGL7086  211004740  \n",
       "...            ...           ...          ...                ...        ...  \n",
       "2393       Mileage         Volvo         2023  4V4NC9EJ8PN611768  211005170  \n",
       "2398       Mileage         Volvo         2023  4V4NC9EJ9PN611794  211004939  \n",
       "2400          Hour         Volvo         2015  4V4NC9EJXFN908040  211004910  \n",
       "2402  Mileage/Hour         Volvo         2016  4V4NC9EJXGN953089  211004803  \n",
       "2416       Mileage         Volvo         2019  4V4NC9TJ8KN217327  211004741  \n",
       "\n",
       "[103 rows x 9 columns]"
      ]
     },
     "execution_count": 428,
     "metadata": {},
     "output_type": "execute_result"
    }
   ],
   "source": [
    "EDNew4430 = EDNew[(EDNew[\"SerialNo\"]>211004429) & (EDNew[\"SerialNo\"]<211005331)]\n",
    "EDNew4430"
   ]
  },
  {
   "cell_type": "code",
   "execution_count": 429,
   "id": "74f1a0fb",
   "metadata": {},
   "outputs": [
    {
     "data": {
      "text/html": [
       "<div>\n",
       "<style scoped>\n",
       "    .dataframe tbody tr th:only-of-type {\n",
       "        vertical-align: middle;\n",
       "    }\n",
       "\n",
       "    .dataframe tbody tr th {\n",
       "        vertical-align: top;\n",
       "    }\n",
       "\n",
       "    .dataframe thead th {\n",
       "        text-align: right;\n",
       "    }\n",
       "</style>\n",
       "<table border=\"1\" class=\"dataframe\">\n",
       "  <thead>\n",
       "    <tr style=\"text-align: right;\">\n",
       "      <th></th>\n",
       "      <th>SequenceNo</th>\n",
       "      <th>OrgName</th>\n",
       "      <th>Date</th>\n",
       "      <th>DriverName</th>\n",
       "      <th>InvalidType</th>\n",
       "      <th>VehicleMake</th>\n",
       "      <th>VehicleYear</th>\n",
       "      <th>VIN</th>\n",
       "      <th>SerialNo</th>\n",
       "    </tr>\n",
       "  </thead>\n",
       "  <tbody>\n",
       "    <tr>\n",
       "      <th>58</th>\n",
       "      <td>1634</td>\n",
       "      <td>Z8W Trucking LLC</td>\n",
       "      <td>1202023</td>\n",
       "      <td>Zhijun Wang</td>\n",
       "      <td>Mileage</td>\n",
       "      <td>Freightliner</td>\n",
       "      <td>2016</td>\n",
       "      <td>1FUJGLD52GLGU2750</td>\n",
       "      <td>211003611</td>\n",
       "    </tr>\n",
       "    <tr>\n",
       "      <th>86</th>\n",
       "      <td>624</td>\n",
       "      <td>Trigo Truckin LLC</td>\n",
       "      <td>1092023</td>\n",
       "      <td>Tan Tran</td>\n",
       "      <td>Mileage</td>\n",
       "      <td>Freightliner</td>\n",
       "      <td>2015</td>\n",
       "      <td>1FUJGLD55FLGE7497</td>\n",
       "      <td>211003752</td>\n",
       "    </tr>\n",
       "    <tr>\n",
       "      <th>217</th>\n",
       "      <td>24</td>\n",
       "      <td>Pickup USA</td>\n",
       "      <td>1012023</td>\n",
       "      <td>Junye Hu</td>\n",
       "      <td>Hour</td>\n",
       "      <td>Freightliner</td>\n",
       "      <td>2018</td>\n",
       "      <td>1FUJGLDR7JLJH7949</td>\n",
       "      <td>211003923</td>\n",
       "    </tr>\n",
       "    <tr>\n",
       "      <th>230</th>\n",
       "      <td>269</td>\n",
       "      <td>WLH Logistics LLC</td>\n",
       "      <td>1052023</td>\n",
       "      <td>Wenlong Sun</td>\n",
       "      <td>Mileage</td>\n",
       "      <td>Freightliner</td>\n",
       "      <td>2017</td>\n",
       "      <td>1FUJGLDR9HLHP0469</td>\n",
       "      <td>211004054</td>\n",
       "    </tr>\n",
       "    <tr>\n",
       "      <th>235</th>\n",
       "      <td>212</td>\n",
       "      <td>O&amp;C Bros Transportation Inc</td>\n",
       "      <td>1042023</td>\n",
       "      <td>xueyou chen</td>\n",
       "      <td>Hour</td>\n",
       "      <td>Freightliner</td>\n",
       "      <td>2018</td>\n",
       "      <td>1FUJGLDRXJLHX2687</td>\n",
       "      <td>211003593</td>\n",
       "    </tr>\n",
       "    <tr>\n",
       "      <th>...</th>\n",
       "      <td>...</td>\n",
       "      <td>...</td>\n",
       "      <td>...</td>\n",
       "      <td>...</td>\n",
       "      <td>...</td>\n",
       "      <td>...</td>\n",
       "      <td>...</td>\n",
       "      <td>...</td>\n",
       "      <td>...</td>\n",
       "    </tr>\n",
       "    <tr>\n",
       "      <th>2372</th>\n",
       "      <td>280</td>\n",
       "      <td>Triple Gold Trucking LLC</td>\n",
       "      <td>1052023</td>\n",
       "      <td>Anyong Ming</td>\n",
       "      <td>Mileage</td>\n",
       "      <td>Volvo</td>\n",
       "      <td>2022</td>\n",
       "      <td>4V4NC9EJ5NN298532</td>\n",
       "      <td>211004041</td>\n",
       "    </tr>\n",
       "    <tr>\n",
       "      <th>2379</th>\n",
       "      <td>1924</td>\n",
       "      <td>CH Transportation Inc</td>\n",
       "      <td>1252023</td>\n",
       "      <td>Xiaojun Yang</td>\n",
       "      <td>Mileage</td>\n",
       "      <td>Volvo</td>\n",
       "      <td>2020</td>\n",
       "      <td>4V4NC9EJ6LN198663</td>\n",
       "      <td>211004016</td>\n",
       "    </tr>\n",
       "    <tr>\n",
       "      <th>2380</th>\n",
       "      <td>430</td>\n",
       "      <td>Happy Group Inc</td>\n",
       "      <td>1062023</td>\n",
       "      <td>Xiaoliang Kong</td>\n",
       "      <td>Mileage</td>\n",
       "      <td>Volvo</td>\n",
       "      <td>2022</td>\n",
       "      <td>4V4NC9EJ6NN298507</td>\n",
       "      <td>211003999</td>\n",
       "    </tr>\n",
       "    <tr>\n",
       "      <th>2385</th>\n",
       "      <td>443</td>\n",
       "      <td>J R J Transgroup LLC</td>\n",
       "      <td>1072023</td>\n",
       "      <td>jiangbao cui</td>\n",
       "      <td>Mileage</td>\n",
       "      <td>Volvo</td>\n",
       "      <td>2022</td>\n",
       "      <td>4V4NC9EJ7NN298564</td>\n",
       "      <td>211003724</td>\n",
       "    </tr>\n",
       "    <tr>\n",
       "      <th>2417</th>\n",
       "      <td>247</td>\n",
       "      <td>SYH Trucking Company</td>\n",
       "      <td>1042023</td>\n",
       "      <td>Shao Yu</td>\n",
       "      <td>Mileage</td>\n",
       "      <td>Volvo</td>\n",
       "      <td>2013</td>\n",
       "      <td>4V4NC9TJ9DN131513</td>\n",
       "      <td>211003657</td>\n",
       "    </tr>\n",
       "  </tbody>\n",
       "</table>\n",
       "<p>85 rows × 9 columns</p>\n",
       "</div>"
      ],
      "text/plain": [
       "      SequenceNo                      OrgName     Date      DriverName  \\\n",
       "58          1634             Z8W Trucking LLC  1202023     Zhijun Wang   \n",
       "86           624            Trigo Truckin LLC  1092023        Tan Tran   \n",
       "217           24                   Pickup USA  1012023        Junye Hu   \n",
       "230          269            WLH Logistics LLC  1052023     Wenlong Sun   \n",
       "235          212  O&C Bros Transportation Inc  1042023     xueyou chen   \n",
       "...          ...                          ...      ...             ...   \n",
       "2372         280     Triple Gold Trucking LLC  1052023     Anyong Ming   \n",
       "2379        1924        CH Transportation Inc  1252023    Xiaojun Yang   \n",
       "2380         430              Happy Group Inc  1062023  Xiaoliang Kong   \n",
       "2385         443         J R J Transgroup LLC  1072023    jiangbao cui   \n",
       "2417         247         SYH Trucking Company  1042023         Shao Yu   \n",
       "\n",
       "     InvalidType   VehicleMake  VehicleYear                VIN   SerialNo  \n",
       "58       Mileage  Freightliner         2016  1FUJGLD52GLGU2750  211003611  \n",
       "86       Mileage  Freightliner         2015  1FUJGLD55FLGE7497  211003752  \n",
       "217         Hour  Freightliner         2018  1FUJGLDR7JLJH7949  211003923  \n",
       "230      Mileage  Freightliner         2017  1FUJGLDR9HLHP0469  211004054  \n",
       "235         Hour  Freightliner         2018  1FUJGLDRXJLHX2687  211003593  \n",
       "...          ...           ...          ...                ...        ...  \n",
       "2372     Mileage         Volvo         2022  4V4NC9EJ5NN298532  211004041  \n",
       "2379     Mileage         Volvo         2020  4V4NC9EJ6LN198663  211004016  \n",
       "2380     Mileage         Volvo         2022  4V4NC9EJ6NN298507  211003999  \n",
       "2385     Mileage         Volvo         2022  4V4NC9EJ7NN298564  211003724  \n",
       "2417     Mileage         Volvo         2013  4V4NC9TJ9DN131513  211003657  \n",
       "\n",
       "[85 rows x 9 columns]"
      ]
     },
     "execution_count": 429,
     "metadata": {},
     "output_type": "execute_result"
    }
   ],
   "source": [
    "EDNew3562 = EDNew[(EDNew[\"SerialNo\"]>211003561) & (EDNew[\"SerialNo\"]<211004430)]\n",
    "EDNew3562"
   ]
  },
  {
   "cell_type": "code",
   "execution_count": 430,
   "id": "056a749e",
   "metadata": {},
   "outputs": [
    {
     "data": {
      "text/html": [
       "<div>\n",
       "<style scoped>\n",
       "    .dataframe tbody tr th:only-of-type {\n",
       "        vertical-align: middle;\n",
       "    }\n",
       "\n",
       "    .dataframe tbody tr th {\n",
       "        vertical-align: top;\n",
       "    }\n",
       "\n",
       "    .dataframe thead th {\n",
       "        text-align: right;\n",
       "    }\n",
       "</style>\n",
       "<table border=\"1\" class=\"dataframe\">\n",
       "  <thead>\n",
       "    <tr style=\"text-align: right;\">\n",
       "      <th></th>\n",
       "      <th>SequenceNo</th>\n",
       "      <th>OrgName</th>\n",
       "      <th>Date</th>\n",
       "      <th>DriverName</th>\n",
       "      <th>InvalidType</th>\n",
       "      <th>VehicleMake</th>\n",
       "      <th>VehicleYear</th>\n",
       "      <th>VIN</th>\n",
       "      <th>SerialNo</th>\n",
       "    </tr>\n",
       "  </thead>\n",
       "  <tbody>\n",
       "    <tr>\n",
       "      <th>46</th>\n",
       "      <td>1049</td>\n",
       "      <td>GLL Trucking Inc</td>\n",
       "      <td>1132023</td>\n",
       "      <td>Yunxiao Li</td>\n",
       "      <td>Mileage</td>\n",
       "      <td>Freightliner</td>\n",
       "      <td>2015</td>\n",
       "      <td>1FUJGLD52FLFU8737</td>\n",
       "      <td>211003494</td>\n",
       "    </tr>\n",
       "    <tr>\n",
       "      <th>57</th>\n",
       "      <td>899</td>\n",
       "      <td>GLL Trucking Inc</td>\n",
       "      <td>1112023</td>\n",
       "      <td>Yunxiao Li</td>\n",
       "      <td>Mileage</td>\n",
       "      <td>Freightliner</td>\n",
       "      <td>2016</td>\n",
       "      <td>1FUJGLD52GLGR8784</td>\n",
       "      <td>211003528</td>\n",
       "    </tr>\n",
       "    <tr>\n",
       "      <th>64</th>\n",
       "      <td>221</td>\n",
       "      <td>KAL Cargo Inc</td>\n",
       "      <td>1042023</td>\n",
       "      <td>Gurwinder Singh</td>\n",
       "      <td>Mileage</td>\n",
       "      <td>Freightliner</td>\n",
       "      <td>2016</td>\n",
       "      <td>1FUJGLD54GLHF6650</td>\n",
       "      <td>211000816</td>\n",
       "    </tr>\n",
       "    <tr>\n",
       "      <th>103</th>\n",
       "      <td>59</td>\n",
       "      <td>Super Trucking Inc (DOT: 2801642)</td>\n",
       "      <td>1012023</td>\n",
       "      <td>fengzhong zhao</td>\n",
       "      <td>Mileage</td>\n",
       "      <td>Freightliner</td>\n",
       "      <td>2016</td>\n",
       "      <td>1FUJGLD5XGLGV0451</td>\n",
       "      <td>211002382</td>\n",
       "    </tr>\n",
       "    <tr>\n",
       "      <th>119</th>\n",
       "      <td>463</td>\n",
       "      <td>Forest Ocean Trucking Inc</td>\n",
       "      <td>1072023</td>\n",
       "      <td>Junjiang Yu</td>\n",
       "      <td>Mileage</td>\n",
       "      <td>Freightliner</td>\n",
       "      <td>2016</td>\n",
       "      <td>1FUJGLD5XGLGV7349</td>\n",
       "      <td>211000913</td>\n",
       "    </tr>\n",
       "    <tr>\n",
       "      <th>...</th>\n",
       "      <td>...</td>\n",
       "      <td>...</td>\n",
       "      <td>...</td>\n",
       "      <td>...</td>\n",
       "      <td>...</td>\n",
       "      <td>...</td>\n",
       "      <td>...</td>\n",
       "      <td>...</td>\n",
       "      <td>...</td>\n",
       "    </tr>\n",
       "    <tr>\n",
       "      <th>2373</th>\n",
       "      <td>585</td>\n",
       "      <td>Hong Yun Trucking Inc.</td>\n",
       "      <td>1082023</td>\n",
       "      <td>Chonghua Yan</td>\n",
       "      <td>Hour</td>\n",
       "      <td>Volvo</td>\n",
       "      <td>2022</td>\n",
       "      <td>4V4NC9EJ5NN298546</td>\n",
       "      <td>211002777</td>\n",
       "    </tr>\n",
       "    <tr>\n",
       "      <th>2397</th>\n",
       "      <td>952</td>\n",
       "      <td>J &amp; Y Express Inc.</td>\n",
       "      <td>1122023</td>\n",
       "      <td>Mike Jin</td>\n",
       "      <td>Mileage</td>\n",
       "      <td>Volvo</td>\n",
       "      <td>2023</td>\n",
       "      <td>4V4NC9EJ8PN612094</td>\n",
       "      <td>211001935</td>\n",
       "    </tr>\n",
       "    <tr>\n",
       "      <th>2414</th>\n",
       "      <td>921</td>\n",
       "      <td>S R S Express Inc.</td>\n",
       "      <td>1122023</td>\n",
       "      <td>Sergey Gevorgyan</td>\n",
       "      <td>Mileage</td>\n",
       "      <td>Volvo</td>\n",
       "      <td>2014</td>\n",
       "      <td>4V4NC9TJ3EN176495</td>\n",
       "      <td>211002487</td>\n",
       "    </tr>\n",
       "    <tr>\n",
       "      <th>2418</th>\n",
       "      <td>117</td>\n",
       "      <td>TNS Express Inc.</td>\n",
       "      <td>1032023</td>\n",
       "      <td>Yan Wu</td>\n",
       "      <td>Mileage</td>\n",
       "      <td>Western Star</td>\n",
       "      <td>2016</td>\n",
       "      <td>5KJJBHDR6GLHA8737</td>\n",
       "      <td>211002604</td>\n",
       "    </tr>\n",
       "    <tr>\n",
       "      <th>2435</th>\n",
       "      <td>307</td>\n",
       "      <td>Sun Charter Inc</td>\n",
       "      <td>1052023</td>\n",
       "      <td>Gang Liu</td>\n",
       "      <td>Mileage/Hour</td>\n",
       "      <td>Prevost</td>\n",
       "      <td>2017</td>\n",
       "      <td>2PCH33491HC713515</td>\n",
       "      <td>211002771</td>\n",
       "    </tr>\n",
       "  </tbody>\n",
       "</table>\n",
       "<p>202 rows × 9 columns</p>\n",
       "</div>"
      ],
      "text/plain": [
       "      SequenceNo                            OrgName     Date  \\\n",
       "46          1049                   GLL Trucking Inc  1132023   \n",
       "57           899                   GLL Trucking Inc  1112023   \n",
       "64           221                      KAL Cargo Inc  1042023   \n",
       "103           59  Super Trucking Inc (DOT: 2801642)  1012023   \n",
       "119          463          Forest Ocean Trucking Inc  1072023   \n",
       "...          ...                                ...      ...   \n",
       "2373         585             Hong Yun Trucking Inc.  1082023   \n",
       "2397         952                 J & Y Express Inc.  1122023   \n",
       "2414         921                 S R S Express Inc.  1122023   \n",
       "2418         117                   TNS Express Inc.  1032023   \n",
       "2435         307                    Sun Charter Inc  1052023   \n",
       "\n",
       "            DriverName   InvalidType   VehicleMake  VehicleYear  \\\n",
       "46          Yunxiao Li       Mileage  Freightliner         2015   \n",
       "57          Yunxiao Li       Mileage  Freightliner         2016   \n",
       "64     Gurwinder Singh       Mileage  Freightliner         2016   \n",
       "103     fengzhong zhao       Mileage  Freightliner         2016   \n",
       "119        Junjiang Yu       Mileage  Freightliner         2016   \n",
       "...                ...           ...           ...          ...   \n",
       "2373      Chonghua Yan          Hour         Volvo         2022   \n",
       "2397          Mike Jin       Mileage         Volvo         2023   \n",
       "2414  Sergey Gevorgyan       Mileage         Volvo         2014   \n",
       "2418            Yan Wu       Mileage  Western Star         2016   \n",
       "2435          Gang Liu  Mileage/Hour       Prevost         2017   \n",
       "\n",
       "                    VIN   SerialNo  \n",
       "46    1FUJGLD52FLFU8737  211003494  \n",
       "57    1FUJGLD52GLGR8784  211003528  \n",
       "64    1FUJGLD54GLHF6650  211000816  \n",
       "103   1FUJGLD5XGLGV0451  211002382  \n",
       "119   1FUJGLD5XGLGV7349  211000913  \n",
       "...                 ...        ...  \n",
       "2373  4V4NC9EJ5NN298546  211002777  \n",
       "2397  4V4NC9EJ8PN612094  211001935  \n",
       "2414  4V4NC9TJ3EN176495  211002487  \n",
       "2418  5KJJBHDR6GLHA8737  211002604  \n",
       "2435  2PCH33491HC713515  211002771  \n",
       "\n",
       "[202 rows x 9 columns]"
      ]
     },
     "execution_count": 430,
     "metadata": {},
     "output_type": "execute_result"
    }
   ],
   "source": [
    "EDNew3561 = EDNew.loc[(EDNew[\"SerialNo\"]<211003562) & (EDNew[\"SerialNo\"]>171110000)]\n",
    "EDNew3561"
   ]
  },
  {
   "cell_type": "code",
   "execution_count": 431,
   "id": "0530d608",
   "metadata": {},
   "outputs": [
    {
     "data": {
      "text/html": [
       "<div>\n",
       "<style scoped>\n",
       "    .dataframe tbody tr th:only-of-type {\n",
       "        vertical-align: middle;\n",
       "    }\n",
       "\n",
       "    .dataframe tbody tr th {\n",
       "        vertical-align: top;\n",
       "    }\n",
       "\n",
       "    .dataframe thead th {\n",
       "        text-align: right;\n",
       "    }\n",
       "</style>\n",
       "<table border=\"1\" class=\"dataframe\">\n",
       "  <thead>\n",
       "    <tr style=\"text-align: right;\">\n",
       "      <th></th>\n",
       "      <th>SequenceNo</th>\n",
       "      <th>OrgName</th>\n",
       "      <th>Date</th>\n",
       "      <th>DriverName</th>\n",
       "      <th>InvalidType</th>\n",
       "      <th>VehicleMake</th>\n",
       "      <th>VehicleYear</th>\n",
       "      <th>VIN</th>\n",
       "      <th>SerialNo</th>\n",
       "    </tr>\n",
       "  </thead>\n",
       "  <tbody>\n",
       "    <tr>\n",
       "      <th>0</th>\n",
       "      <td>946</td>\n",
       "      <td>Bazik Trucking Inc</td>\n",
       "      <td>1122023</td>\n",
       "      <td>George Bazik</td>\n",
       "      <td>Mileage</td>\n",
       "      <td>Freightliner</td>\n",
       "      <td>2014</td>\n",
       "      <td>1FUGGLD57ELFK4085</td>\n",
       "      <td>0</td>\n",
       "    </tr>\n",
       "    <tr>\n",
       "      <th>3</th>\n",
       "      <td>27</td>\n",
       "      <td>E in April Trucking Inc.</td>\n",
       "      <td>1012023</td>\n",
       "      <td>Fujiang Li</td>\n",
       "      <td>Mileage</td>\n",
       "      <td>Freightliner</td>\n",
       "      <td>2016</td>\n",
       "      <td>1FUJGLBG1GLGY3570</td>\n",
       "      <td>0</td>\n",
       "    </tr>\n",
       "    <tr>\n",
       "      <th>4</th>\n",
       "      <td>257</td>\n",
       "      <td>Suhao Transport Inc.</td>\n",
       "      <td>1042023</td>\n",
       "      <td>Shuhao Zhang</td>\n",
       "      <td>Mileage</td>\n",
       "      <td>Freightliner</td>\n",
       "      <td>2016</td>\n",
       "      <td>1FUJGLBG1GLGY8249</td>\n",
       "      <td>0</td>\n",
       "    </tr>\n",
       "    <tr>\n",
       "      <th>14</th>\n",
       "      <td>681</td>\n",
       "      <td>TM Transportation LLC</td>\n",
       "      <td>1092023</td>\n",
       "      <td>Luke May</td>\n",
       "      <td>Mileage</td>\n",
       "      <td>Freightliner</td>\n",
       "      <td>2011</td>\n",
       "      <td>1FUJGLBG6BSBA8097</td>\n",
       "      <td>0</td>\n",
       "    </tr>\n",
       "    <tr>\n",
       "      <th>32</th>\n",
       "      <td>492</td>\n",
       "      <td>Lydia Express Inc.</td>\n",
       "      <td>1072023</td>\n",
       "      <td>Liang Cai</td>\n",
       "      <td>Mileage/Hour</td>\n",
       "      <td>Freightliner</td>\n",
       "      <td>2016</td>\n",
       "      <td>1FUJGLBG7GLGY8241</td>\n",
       "      <td>0</td>\n",
       "    </tr>\n",
       "    <tr>\n",
       "      <th>...</th>\n",
       "      <td>...</td>\n",
       "      <td>...</td>\n",
       "      <td>...</td>\n",
       "      <td>...</td>\n",
       "      <td>...</td>\n",
       "      <td>...</td>\n",
       "      <td>...</td>\n",
       "      <td>...</td>\n",
       "      <td>...</td>\n",
       "    </tr>\n",
       "    <tr>\n",
       "      <th>2348</th>\n",
       "      <td>421</td>\n",
       "      <td>Brilliant International LLC</td>\n",
       "      <td>1062023</td>\n",
       "      <td>Jiayi Li</td>\n",
       "      <td>Hour</td>\n",
       "      <td>Volvo</td>\n",
       "      <td>2020</td>\n",
       "      <td>4V4NC9EJ3LN200644</td>\n",
       "      <td>0</td>\n",
       "    </tr>\n",
       "    <tr>\n",
       "      <th>2351</th>\n",
       "      <td>578</td>\n",
       "      <td>TM Stefan</td>\n",
       "      <td>1082023</td>\n",
       "      <td>Jiaxu Zhou</td>\n",
       "      <td>Mileage</td>\n",
       "      <td>Volvo</td>\n",
       "      <td>2022</td>\n",
       "      <td>4V4NC9EJ3NN295175</td>\n",
       "      <td>0</td>\n",
       "    </tr>\n",
       "    <tr>\n",
       "      <th>2383</th>\n",
       "      <td>1234</td>\n",
       "      <td>Devic Transportation</td>\n",
       "      <td>1152023</td>\n",
       "      <td>Cong Wang</td>\n",
       "      <td>Hour</td>\n",
       "      <td>Volvo</td>\n",
       "      <td>2019</td>\n",
       "      <td>4V4NC9EJ7KN201603</td>\n",
       "      <td>0</td>\n",
       "    </tr>\n",
       "    <tr>\n",
       "      <th>2405</th>\n",
       "      <td>986</td>\n",
       "      <td>M&amp;K National Inc</td>\n",
       "      <td>1122023</td>\n",
       "      <td>Richard Arjani</td>\n",
       "      <td>Hour</td>\n",
       "      <td>Volvo</td>\n",
       "      <td>2022</td>\n",
       "      <td>4V4NC9EJXNN295190</td>\n",
       "      <td>0</td>\n",
       "    </tr>\n",
       "    <tr>\n",
       "      <th>2407</th>\n",
       "      <td>61</td>\n",
       "      <td>Fortune Star Inc</td>\n",
       "      <td>1012023</td>\n",
       "      <td>Yan Quan</td>\n",
       "      <td>Mileage</td>\n",
       "      <td>Volvo</td>\n",
       "      <td>2015</td>\n",
       "      <td>4V4NC9TH9FN908336</td>\n",
       "      <td>0</td>\n",
       "    </tr>\n",
       "  </tbody>\n",
       "</table>\n",
       "<p>142 rows × 9 columns</p>\n",
       "</div>"
      ],
      "text/plain": [
       "      SequenceNo                      OrgName     Date      DriverName  \\\n",
       "0            946           Bazik Trucking Inc  1122023    George Bazik   \n",
       "3             27     E in April Trucking Inc.  1012023      Fujiang Li   \n",
       "4            257         Suhao Transport Inc.  1042023    Shuhao Zhang   \n",
       "14           681        TM Transportation LLC  1092023        Luke May   \n",
       "32           492           Lydia Express Inc.  1072023       Liang Cai   \n",
       "...          ...                          ...      ...             ...   \n",
       "2348         421  Brilliant International LLC  1062023        Jiayi Li   \n",
       "2351         578                    TM Stefan  1082023      Jiaxu Zhou   \n",
       "2383        1234         Devic Transportation  1152023       Cong Wang   \n",
       "2405         986             M&K National Inc  1122023  Richard Arjani   \n",
       "2407          61             Fortune Star Inc  1012023        Yan Quan   \n",
       "\n",
       "       InvalidType   VehicleMake  VehicleYear                VIN  SerialNo  \n",
       "0          Mileage  Freightliner         2014  1FUGGLD57ELFK4085         0  \n",
       "3          Mileage  Freightliner         2016  1FUJGLBG1GLGY3570         0  \n",
       "4          Mileage  Freightliner         2016  1FUJGLBG1GLGY8249         0  \n",
       "14         Mileage  Freightliner         2011  1FUJGLBG6BSBA8097         0  \n",
       "32    Mileage/Hour  Freightliner         2016  1FUJGLBG7GLGY8241         0  \n",
       "...            ...           ...          ...                ...       ...  \n",
       "2348          Hour         Volvo         2020  4V4NC9EJ3LN200644         0  \n",
       "2351       Mileage         Volvo         2022  4V4NC9EJ3NN295175         0  \n",
       "2383          Hour         Volvo         2019  4V4NC9EJ7KN201603         0  \n",
       "2405          Hour         Volvo         2022  4V4NC9EJXNN295190         0  \n",
       "2407       Mileage         Volvo         2015  4V4NC9TH9FN908336         0  \n",
       "\n",
       "[142 rows x 9 columns]"
      ]
     },
     "execution_count": 431,
     "metadata": {},
     "output_type": "execute_result"
    }
   ],
   "source": [
    "EDNew0 = EDNew.loc[(EDNew[\"SerialNo\"]==0)]\n",
    "EDNew0"
   ]
  },
  {
   "cell_type": "code",
   "execution_count": 432,
   "id": "2fde4bae",
   "metadata": {},
   "outputs": [
    {
     "data": {
      "text/html": [
       "<div>\n",
       "<style scoped>\n",
       "    .dataframe tbody tr th:only-of-type {\n",
       "        vertical-align: middle;\n",
       "    }\n",
       "\n",
       "    .dataframe tbody tr th {\n",
       "        vertical-align: top;\n",
       "    }\n",
       "\n",
       "    .dataframe thead th {\n",
       "        text-align: right;\n",
       "    }\n",
       "</style>\n",
       "<table border=\"1\" class=\"dataframe\">\n",
       "  <thead>\n",
       "    <tr style=\"text-align: right;\">\n",
       "      <th></th>\n",
       "      <th>SequenceNo</th>\n",
       "      <th>OrgName</th>\n",
       "      <th>Date</th>\n",
       "      <th>DriverName</th>\n",
       "      <th>InvalidType</th>\n",
       "      <th>VehicleMake</th>\n",
       "      <th>VehicleYear</th>\n",
       "      <th>VIN</th>\n",
       "      <th>SerialNo</th>\n",
       "    </tr>\n",
       "  </thead>\n",
       "  <tbody>\n",
       "    <tr>\n",
       "      <th>366</th>\n",
       "      <td>171</td>\n",
       "      <td>Westside Connection Corp</td>\n",
       "      <td>1032023</td>\n",
       "      <td>Carlos Cameros</td>\n",
       "      <td>Mileage</td>\n",
       "      <td>Kenworth</td>\n",
       "      <td>2014</td>\n",
       "      <td>1XKYD49X4EJ389360</td>\n",
       "      <td>171002405</td>\n",
       "    </tr>\n",
       "    <tr>\n",
       "      <th>385</th>\n",
       "      <td>1932</td>\n",
       "      <td>M H Trucking Express Inc.</td>\n",
       "      <td>1252023</td>\n",
       "      <td>Lichen Deng</td>\n",
       "      <td>Mileage</td>\n",
       "      <td>Kenworth</td>\n",
       "      <td>2022</td>\n",
       "      <td>1XKYD49X4NJ133753</td>\n",
       "      <td>171001941</td>\n",
       "    </tr>\n",
       "    <tr>\n",
       "      <th>473</th>\n",
       "      <td>1196</td>\n",
       "      <td>Barrack LLC.</td>\n",
       "      <td>1152023</td>\n",
       "      <td>Byiringiro Tumaini</td>\n",
       "      <td>Hour</td>\n",
       "      <td>Kenworth</td>\n",
       "      <td>2018</td>\n",
       "      <td>1XKYDP9X6JJ207105</td>\n",
       "      <td>171001799</td>\n",
       "    </tr>\n",
       "    <tr>\n",
       "      <th>2436</th>\n",
       "      <td>1035</td>\n",
       "      <td>Z Tour LLC</td>\n",
       "      <td>1132023</td>\n",
       "      <td>Mingrui Liu</td>\n",
       "      <td>Mileage</td>\n",
       "      <td>Ford</td>\n",
       "      <td>2017</td>\n",
       "      <td>1FBAX2CM7HKA67208</td>\n",
       "      <td>171100134</td>\n",
       "    </tr>\n",
       "  </tbody>\n",
       "</table>\n",
       "</div>"
      ],
      "text/plain": [
       "      SequenceNo                    OrgName     Date          DriverName  \\\n",
       "366          171   Westside Connection Corp  1032023      Carlos Cameros   \n",
       "385         1932  M H Trucking Express Inc.  1252023         Lichen Deng   \n",
       "473         1196               Barrack LLC.  1152023  Byiringiro Tumaini   \n",
       "2436        1035                 Z Tour LLC  1132023         Mingrui Liu   \n",
       "\n",
       "     InvalidType VehicleMake  VehicleYear                VIN   SerialNo  \n",
       "366      Mileage    Kenworth         2014  1XKYD49X4EJ389360  171002405  \n",
       "385      Mileage    Kenworth         2022  1XKYD49X4NJ133753  171001941  \n",
       "473         Hour    Kenworth         2018  1XKYDP9X6JJ207105  171001799  \n",
       "2436     Mileage        Ford         2017  1FBAX2CM7HKA67208  171100134  "
      ]
     },
     "execution_count": 432,
     "metadata": {},
     "output_type": "execute_result"
    }
   ],
   "source": [
    "EDNew171 = EDNew.loc[(EDNew[\"SerialNo\"]<211000000) & (EDNew[\"SerialNo\"]>0)] \n",
    "EDNew171"
   ]
  },
  {
   "cell_type": "code",
   "execution_count": 433,
   "id": "3aefac8a",
   "metadata": {},
   "outputs": [
    {
     "data": {
      "image/png": "[encoded data removed]",
      "text/plain": [
       "<Figure size 1000x700 with 1 Axes>"
      ]
     },
     "metadata": {},
     "output_type": "display_data"
    }
   ],
   "source": [
    "# Import libraries\n",
    "import numpy as np\n",
    "import matplotlib.pyplot as plt\n",
    "\n",
    "\n",
    "# Creating dataset\n",
    "Serialno = ['1.0 Device', '1.1 Device (oldest FW)', '1.1 Device (SN: 211003561 Before)',\n",
    "\t\t'1.1 Device (SN: 211003562 - 211004429)', '1.1 Device (SN: 211004430 - 211005330)', '1.1 Device (SN: 211005331 After)']\n",
    "\n",
    "data = [4, 142, 202, 85, 103, 38]\n",
    "\n",
    "\n",
    "# Creating explode data\n",
    "explode = (0.1, 0.0, 0.2, 0.3, 0.0, 0.0)\n",
    "\n",
    "# Creating color parameters\n",
    "colors = ( \"#DFFF00\", \"#FFBF00\", \"#6495ED\",\n",
    "\t\t\"#DE3163\", \"#9FE2BF\", \"#40E0D0\")\n",
    "\n",
    "# Wedge properties\n",
    "wp = { 'linewidth' : 1.5, 'edgecolor' : \"black\" }\n",
    "\n",
    "# Creating autocpt arguments\n",
    "def func(pct, allvalues):\n",
    "\tabsolute = int(pct / 100.*np.sum(allvalues))\n",
    "\treturn \"{:.1f}%\\n({:d} )\".format(pct, absolute)\n",
    "\n",
    "# Creating plot\n",
    "fig, ax = plt.subplots(figsize =(10, 7))\n",
    "wedges, texts, autotexts = ax.pie(data,\n",
    "\t\t\t\t\t\t\t\tautopct = lambda pct: func(pct, data),\n",
    "\t\t\t\t\t\t\t\texplode = explode,\n",
    "\t\t\t\t\t\t\t\tlabels = Serialno,\n",
    "\t\t\t\t\t\t\t\tshadow = True,\n",
    "\t\t\t\t\t\t\t\tcolors = colors,\n",
    "\t\t\t\t\t\t\t\tstartangle = 90,\n",
    "\t\t\t\t\t\t\t\twedgeprops = wp,\n",
    "\t\t\t\t\t\t\t\ttextprops = dict(color =\"#000080\"))\n",
    "\n",
    "# Adding legend\n",
    "ax.legend(wedges, Serialno,\n",
    "\t\ttitle =\"Device Version & Serial Number\",\n",
    "\t\tloc =\"center left\",\n",
    "\t\tbbox_to_anchor =(1.5, 0, 0.5, 1))\n",
    "\n",
    "plt.setp(autotexts, size = 10, weight =\"bold\")\n",
    "ax.set_title(\"The Percentage of Jumping Mileage/Hour Divided by ELD Serial Number\")\n",
    "\n",
    "# show plot\n",
    "plt.show()\n"
   ]
  },
  {
   "cell_type": "code",
   "execution_count": 434,
   "id": "fc1982d6",
   "metadata": {},
   "outputs": [
    {
     "data": {
      "text/plain": [
       "0       False\n",
       "1        True\n",
       "2        True\n",
       "3       False\n",
       "4       False\n",
       "        ...  \n",
       "2432     True\n",
       "2433     True\n",
       "2434     True\n",
       "2435    False\n",
       "2436    False\n",
       "Name: VIN, Length: 2437, dtype: bool"
      ]
     },
     "execution_count": 434,
     "metadata": {},
     "output_type": "execute_result"
    }
   ],
   "source": [
    "EDDuplicate = ED[\"VIN\"].duplicated()\n",
    "EDDuplicate"
   ]
  },
  {
   "cell_type": "code",
   "execution_count": 435,
   "id": "f01f2f76",
   "metadata": {},
   "outputs": [
    {
     "data": {
      "text/plain": [
       "0        True\n",
       "1        True\n",
       "2        True\n",
       "3       False\n",
       "4        True\n",
       "        ...  \n",
       "2432     True\n",
       "2433     True\n",
       "2434     True\n",
       "2435    False\n",
       "2436    False\n",
       "Name: VIN, Length: 2437, dtype: bool"
      ]
     },
     "execution_count": 435,
     "metadata": {},
     "output_type": "execute_result"
    }
   ],
   "source": [
    "EDKD = ED[\"VIN\"].duplicated(keep = False)\n",
    "EDKD"
   ]
  },
  {
   "cell_type": "code",
   "execution_count": 436,
   "id": "80d82ffd",
   "metadata": {},
   "outputs": [
    {
     "data": {
      "text/html": [
       "<div>\n",
       "<style scoped>\n",
       "    .dataframe tbody tr th:only-of-type {\n",
       "        vertical-align: middle;\n",
       "    }\n",
       "\n",
       "    .dataframe tbody tr th {\n",
       "        vertical-align: top;\n",
       "    }\n",
       "\n",
       "    .dataframe thead th {\n",
       "        text-align: right;\n",
       "    }\n",
       "</style>\n",
       "<table border=\"1\" class=\"dataframe\">\n",
       "  <thead>\n",
       "    <tr style=\"text-align: right;\">\n",
       "      <th></th>\n",
       "      <th>SequenceNo</th>\n",
       "      <th>OrgName</th>\n",
       "      <th>Date</th>\n",
       "      <th>DriverName</th>\n",
       "      <th>InvalidType</th>\n",
       "      <th>VehicleMake</th>\n",
       "      <th>VehicleYear</th>\n",
       "      <th>VIN</th>\n",
       "      <th>SerialNo</th>\n",
       "      <th>IsDuplicated</th>\n",
       "    </tr>\n",
       "  </thead>\n",
       "  <tbody>\n",
       "    <tr>\n",
       "      <th>0</th>\n",
       "      <td>946</td>\n",
       "      <td>Bazik Trucking Inc</td>\n",
       "      <td>1122023</td>\n",
       "      <td>George Bazik</td>\n",
       "      <td>Mileage</td>\n",
       "      <td>Freightliner</td>\n",
       "      <td>2014</td>\n",
       "      <td>1FUGGLD57ELFK4085</td>\n",
       "      <td>0</td>\n",
       "      <td>True</td>\n",
       "    </tr>\n",
       "    <tr>\n",
       "      <th>1</th>\n",
       "      <td>1295</td>\n",
       "      <td>Bazik Trucking Inc</td>\n",
       "      <td>1162023</td>\n",
       "      <td>George Bazik</td>\n",
       "      <td>Mileage</td>\n",
       "      <td>Freightliner</td>\n",
       "      <td>2014</td>\n",
       "      <td>1FUGGLD57ELFK4085</td>\n",
       "      <td>0</td>\n",
       "      <td>True</td>\n",
       "    </tr>\n",
       "    <tr>\n",
       "      <th>2</th>\n",
       "      <td>1450</td>\n",
       "      <td>Bazik Trucking Inc</td>\n",
       "      <td>1182023</td>\n",
       "      <td>NaN</td>\n",
       "      <td>Mileage</td>\n",
       "      <td>Freightliner</td>\n",
       "      <td>2014</td>\n",
       "      <td>1FUGGLD57ELFK4085</td>\n",
       "      <td>0</td>\n",
       "      <td>True</td>\n",
       "    </tr>\n",
       "    <tr>\n",
       "      <th>3</th>\n",
       "      <td>27</td>\n",
       "      <td>E in April Trucking Inc.</td>\n",
       "      <td>1012023</td>\n",
       "      <td>Fujiang Li</td>\n",
       "      <td>Mileage</td>\n",
       "      <td>Freightliner</td>\n",
       "      <td>2016</td>\n",
       "      <td>1FUJGLBG1GLGY3570</td>\n",
       "      <td>0</td>\n",
       "      <td>False</td>\n",
       "    </tr>\n",
       "    <tr>\n",
       "      <th>4</th>\n",
       "      <td>257</td>\n",
       "      <td>Suhao Transport Inc.</td>\n",
       "      <td>1042023</td>\n",
       "      <td>Shuhao Zhang</td>\n",
       "      <td>Mileage</td>\n",
       "      <td>Freightliner</td>\n",
       "      <td>2016</td>\n",
       "      <td>1FUJGLBG1GLGY8249</td>\n",
       "      <td>0</td>\n",
       "      <td>True</td>\n",
       "    </tr>\n",
       "    <tr>\n",
       "      <th>...</th>\n",
       "      <td>...</td>\n",
       "      <td>...</td>\n",
       "      <td>...</td>\n",
       "      <td>...</td>\n",
       "      <td>...</td>\n",
       "      <td>...</td>\n",
       "      <td>...</td>\n",
       "      <td>...</td>\n",
       "      <td>...</td>\n",
       "      <td>...</td>\n",
       "    </tr>\n",
       "    <tr>\n",
       "      <th>2432</th>\n",
       "      <td>2251</td>\n",
       "      <td>TNS Express Inc.</td>\n",
       "      <td>1292023</td>\n",
       "      <td>Yan Wu</td>\n",
       "      <td>Mileage</td>\n",
       "      <td>Western Star</td>\n",
       "      <td>2016</td>\n",
       "      <td>5KJJBHDR6GLHA8737</td>\n",
       "      <td>211002604</td>\n",
       "      <td>True</td>\n",
       "    </tr>\n",
       "    <tr>\n",
       "      <th>2433</th>\n",
       "      <td>2321</td>\n",
       "      <td>TNS Express Inc.</td>\n",
       "      <td>1302023</td>\n",
       "      <td>Yan Wu</td>\n",
       "      <td>Mileage</td>\n",
       "      <td>Western Star</td>\n",
       "      <td>2016</td>\n",
       "      <td>5KJJBHDR6GLHA8737</td>\n",
       "      <td>211002604</td>\n",
       "      <td>True</td>\n",
       "    </tr>\n",
       "    <tr>\n",
       "      <th>2434</th>\n",
       "      <td>2377</td>\n",
       "      <td>TNS Express Inc.</td>\n",
       "      <td>1312023</td>\n",
       "      <td>Yan Wu</td>\n",
       "      <td>Mileage</td>\n",
       "      <td>Western Star</td>\n",
       "      <td>2016</td>\n",
       "      <td>5KJJBHDR6GLHA8737</td>\n",
       "      <td>211002604</td>\n",
       "      <td>True</td>\n",
       "    </tr>\n",
       "    <tr>\n",
       "      <th>2435</th>\n",
       "      <td>307</td>\n",
       "      <td>Sun Charter Inc</td>\n",
       "      <td>1052023</td>\n",
       "      <td>Gang Liu</td>\n",
       "      <td>Mileage/Hour</td>\n",
       "      <td>Prevost</td>\n",
       "      <td>2017</td>\n",
       "      <td>2PCH33491HC713515</td>\n",
       "      <td>211002771</td>\n",
       "      <td>False</td>\n",
       "    </tr>\n",
       "    <tr>\n",
       "      <th>2436</th>\n",
       "      <td>1035</td>\n",
       "      <td>Z Tour LLC</td>\n",
       "      <td>1132023</td>\n",
       "      <td>Mingrui Liu</td>\n",
       "      <td>Mileage</td>\n",
       "      <td>Ford</td>\n",
       "      <td>2017</td>\n",
       "      <td>1FBAX2CM7HKA67208</td>\n",
       "      <td>171100134</td>\n",
       "      <td>False</td>\n",
       "    </tr>\n",
       "  </tbody>\n",
       "</table>\n",
       "<p>2437 rows × 10 columns</p>\n",
       "</div>"
      ],
      "text/plain": [
       "      SequenceNo                   OrgName     Date    DriverName  \\\n",
       "0            946        Bazik Trucking Inc  1122023  George Bazik   \n",
       "1           1295        Bazik Trucking Inc  1162023  George Bazik   \n",
       "2           1450        Bazik Trucking Inc  1182023           NaN   \n",
       "3             27  E in April Trucking Inc.  1012023    Fujiang Li   \n",
       "4            257      Suhao Transport Inc.  1042023  Shuhao Zhang   \n",
       "...          ...                       ...      ...           ...   \n",
       "2432        2251          TNS Express Inc.  1292023        Yan Wu   \n",
       "2433        2321          TNS Express Inc.  1302023        Yan Wu   \n",
       "2434        2377          TNS Express Inc.  1312023        Yan Wu   \n",
       "2435         307           Sun Charter Inc  1052023      Gang Liu   \n",
       "2436        1035                Z Tour LLC  1132023   Mingrui Liu   \n",
       "\n",
       "       InvalidType   VehicleMake  VehicleYear                VIN   SerialNo  \\\n",
       "0          Mileage  Freightliner         2014  1FUGGLD57ELFK4085          0   \n",
       "1          Mileage  Freightliner         2014  1FUGGLD57ELFK4085          0   \n",
       "2          Mileage  Freightliner         2014  1FUGGLD57ELFK4085          0   \n",
       "3          Mileage  Freightliner         2016  1FUJGLBG1GLGY3570          0   \n",
       "4          Mileage  Freightliner         2016  1FUJGLBG1GLGY8249          0   \n",
       "...            ...           ...          ...                ...        ...   \n",
       "2432       Mileage  Western Star         2016  5KJJBHDR6GLHA8737  211002604   \n",
       "2433       Mileage  Western Star         2016  5KJJBHDR6GLHA8737  211002604   \n",
       "2434       Mileage  Western Star         2016  5KJJBHDR6GLHA8737  211002604   \n",
       "2435  Mileage/Hour       Prevost         2017  2PCH33491HC713515  211002771   \n",
       "2436       Mileage          Ford         2017  1FBAX2CM7HKA67208  171100134   \n",
       "\n",
       "      IsDuplicated  \n",
       "0             True  \n",
       "1             True  \n",
       "2             True  \n",
       "3            False  \n",
       "4             True  \n",
       "...            ...  \n",
       "2432          True  \n",
       "2433          True  \n",
       "2434          True  \n",
       "2435         False  \n",
       "2436         False  \n",
       "\n",
       "[2437 rows x 10 columns]"
      ]
     },
     "execution_count": 436,
     "metadata": {},
     "output_type": "execute_result"
    }
   ],
   "source": [
    "#ED2 = ED.assign(IsDuplicated=EDKD)\n",
    "#ED.loc[:, \"IsDuplicated\"] = list(EDKD)\n",
    "ED3 = ED.assign(IsDuplicated = ED[\"VIN\"].duplicated(keep = False))\n",
    "ED3"
   ]
  },
  {
   "cell_type": "code",
   "execution_count": 437,
   "id": "ca8b6f14",
   "metadata": {},
   "outputs": [
    {
     "data": {
      "text/html": [
       "<div>\n",
       "<style scoped>\n",
       "    .dataframe tbody tr th:only-of-type {\n",
       "        vertical-align: middle;\n",
       "    }\n",
       "\n",
       "    .dataframe tbody tr th {\n",
       "        vertical-align: top;\n",
       "    }\n",
       "\n",
       "    .dataframe thead th {\n",
       "        text-align: right;\n",
       "    }\n",
       "</style>\n",
       "<table border=\"1\" class=\"dataframe\">\n",
       "  <thead>\n",
       "    <tr style=\"text-align: right;\">\n",
       "      <th></th>\n",
       "      <th>SequenceNo</th>\n",
       "      <th>OrgName</th>\n",
       "      <th>Date</th>\n",
       "      <th>DriverName</th>\n",
       "      <th>InvalidType</th>\n",
       "      <th>VehicleMake</th>\n",
       "      <th>VehicleYear</th>\n",
       "      <th>VIN</th>\n",
       "      <th>SerialNo</th>\n",
       "      <th>IsDuplicated</th>\n",
       "    </tr>\n",
       "  </thead>\n",
       "  <tbody>\n",
       "    <tr>\n",
       "      <th>0</th>\n",
       "      <td>946</td>\n",
       "      <td>Bazik Trucking Inc</td>\n",
       "      <td>1122023</td>\n",
       "      <td>George Bazik</td>\n",
       "      <td>Mileage</td>\n",
       "      <td>Freightliner</td>\n",
       "      <td>2014</td>\n",
       "      <td>1FUGGLD57ELFK4085</td>\n",
       "      <td>0</td>\n",
       "      <td>True</td>\n",
       "    </tr>\n",
       "    <tr>\n",
       "      <th>1</th>\n",
       "      <td>1295</td>\n",
       "      <td>Bazik Trucking Inc</td>\n",
       "      <td>1162023</td>\n",
       "      <td>George Bazik</td>\n",
       "      <td>Mileage</td>\n",
       "      <td>Freightliner</td>\n",
       "      <td>2014</td>\n",
       "      <td>1FUGGLD57ELFK4085</td>\n",
       "      <td>0</td>\n",
       "      <td>True</td>\n",
       "    </tr>\n",
       "    <tr>\n",
       "      <th>2</th>\n",
       "      <td>1450</td>\n",
       "      <td>Bazik Trucking Inc</td>\n",
       "      <td>1182023</td>\n",
       "      <td>NaN</td>\n",
       "      <td>Mileage</td>\n",
       "      <td>Freightliner</td>\n",
       "      <td>2014</td>\n",
       "      <td>1FUGGLD57ELFK4085</td>\n",
       "      <td>0</td>\n",
       "      <td>True</td>\n",
       "    </tr>\n",
       "    <tr>\n",
       "      <th>4</th>\n",
       "      <td>257</td>\n",
       "      <td>Suhao Transport Inc.</td>\n",
       "      <td>1042023</td>\n",
       "      <td>Shuhao Zhang</td>\n",
       "      <td>Mileage</td>\n",
       "      <td>Freightliner</td>\n",
       "      <td>2016</td>\n",
       "      <td>1FUJGLBG1GLGY8249</td>\n",
       "      <td>0</td>\n",
       "      <td>True</td>\n",
       "    </tr>\n",
       "    <tr>\n",
       "      <th>5</th>\n",
       "      <td>294</td>\n",
       "      <td>Suhao Transport Inc.</td>\n",
       "      <td>1052023</td>\n",
       "      <td>Shuhao Zhang</td>\n",
       "      <td>Mileage</td>\n",
       "      <td>Freightliner</td>\n",
       "      <td>2016</td>\n",
       "      <td>1FUJGLBG1GLGY8249</td>\n",
       "      <td>0</td>\n",
       "      <td>True</td>\n",
       "    </tr>\n",
       "    <tr>\n",
       "      <th>...</th>\n",
       "      <td>...</td>\n",
       "      <td>...</td>\n",
       "      <td>...</td>\n",
       "      <td>...</td>\n",
       "      <td>...</td>\n",
       "      <td>...</td>\n",
       "      <td>...</td>\n",
       "      <td>...</td>\n",
       "      <td>...</td>\n",
       "      <td>...</td>\n",
       "    </tr>\n",
       "    <tr>\n",
       "      <th>2430</th>\n",
       "      <td>1915</td>\n",
       "      <td>TNS Express Inc.</td>\n",
       "      <td>1252023</td>\n",
       "      <td>Yan Wu</td>\n",
       "      <td>Mileage</td>\n",
       "      <td>Western Star</td>\n",
       "      <td>2016</td>\n",
       "      <td>5KJJBHDR6GLHA8737</td>\n",
       "      <td>211002604</td>\n",
       "      <td>True</td>\n",
       "    </tr>\n",
       "    <tr>\n",
       "      <th>2431</th>\n",
       "      <td>2167</td>\n",
       "      <td>TNS Express Inc.</td>\n",
       "      <td>1282023</td>\n",
       "      <td>Yan Wu</td>\n",
       "      <td>Mileage</td>\n",
       "      <td>Western Star</td>\n",
       "      <td>2016</td>\n",
       "      <td>5KJJBHDR6GLHA8737</td>\n",
       "      <td>211002604</td>\n",
       "      <td>True</td>\n",
       "    </tr>\n",
       "    <tr>\n",
       "      <th>2432</th>\n",
       "      <td>2251</td>\n",
       "      <td>TNS Express Inc.</td>\n",
       "      <td>1292023</td>\n",
       "      <td>Yan Wu</td>\n",
       "      <td>Mileage</td>\n",
       "      <td>Western Star</td>\n",
       "      <td>2016</td>\n",
       "      <td>5KJJBHDR6GLHA8737</td>\n",
       "      <td>211002604</td>\n",
       "      <td>True</td>\n",
       "    </tr>\n",
       "    <tr>\n",
       "      <th>2433</th>\n",
       "      <td>2321</td>\n",
       "      <td>TNS Express Inc.</td>\n",
       "      <td>1302023</td>\n",
       "      <td>Yan Wu</td>\n",
       "      <td>Mileage</td>\n",
       "      <td>Western Star</td>\n",
       "      <td>2016</td>\n",
       "      <td>5KJJBHDR6GLHA8737</td>\n",
       "      <td>211002604</td>\n",
       "      <td>True</td>\n",
       "    </tr>\n",
       "    <tr>\n",
       "      <th>2434</th>\n",
       "      <td>2377</td>\n",
       "      <td>TNS Express Inc.</td>\n",
       "      <td>1312023</td>\n",
       "      <td>Yan Wu</td>\n",
       "      <td>Mileage</td>\n",
       "      <td>Western Star</td>\n",
       "      <td>2016</td>\n",
       "      <td>5KJJBHDR6GLHA8737</td>\n",
       "      <td>211002604</td>\n",
       "      <td>True</td>\n",
       "    </tr>\n",
       "  </tbody>\n",
       "</table>\n",
       "<p>2188 rows × 10 columns</p>\n",
       "</div>"
      ],
      "text/plain": [
       "      SequenceNo               OrgName     Date    DriverName InvalidType  \\\n",
       "0            946    Bazik Trucking Inc  1122023  George Bazik     Mileage   \n",
       "1           1295    Bazik Trucking Inc  1162023  George Bazik     Mileage   \n",
       "2           1450    Bazik Trucking Inc  1182023           NaN     Mileage   \n",
       "4            257  Suhao Transport Inc.  1042023  Shuhao Zhang     Mileage   \n",
       "5            294  Suhao Transport Inc.  1052023  Shuhao Zhang     Mileage   \n",
       "...          ...                   ...      ...           ...         ...   \n",
       "2430        1915      TNS Express Inc.  1252023        Yan Wu     Mileage   \n",
       "2431        2167      TNS Express Inc.  1282023        Yan Wu     Mileage   \n",
       "2432        2251      TNS Express Inc.  1292023        Yan Wu     Mileage   \n",
       "2433        2321      TNS Express Inc.  1302023        Yan Wu     Mileage   \n",
       "2434        2377      TNS Express Inc.  1312023        Yan Wu     Mileage   \n",
       "\n",
       "       VehicleMake  VehicleYear                VIN   SerialNo  IsDuplicated  \n",
       "0     Freightliner         2014  1FUGGLD57ELFK4085          0          True  \n",
       "1     Freightliner         2014  1FUGGLD57ELFK4085          0          True  \n",
       "2     Freightliner         2014  1FUGGLD57ELFK4085          0          True  \n",
       "4     Freightliner         2016  1FUJGLBG1GLGY8249          0          True  \n",
       "5     Freightliner         2016  1FUJGLBG1GLGY8249          0          True  \n",
       "...            ...          ...                ...        ...           ...  \n",
       "2430  Western Star         2016  5KJJBHDR6GLHA8737  211002604          True  \n",
       "2431  Western Star         2016  5KJJBHDR6GLHA8737  211002604          True  \n",
       "2432  Western Star         2016  5KJJBHDR6GLHA8737  211002604          True  \n",
       "2433  Western Star         2016  5KJJBHDR6GLHA8737  211002604          True  \n",
       "2434  Western Star         2016  5KJJBHDR6GLHA8737  211002604          True  \n",
       "\n",
       "[2188 rows x 10 columns]"
      ]
     },
     "execution_count": 437,
     "metadata": {},
     "output_type": "execute_result"
    }
   ],
   "source": [
    "#ED3.loc(ED3[\"IsDuplicated\"]==\"True\")\n",
    "EDD = ED3.loc[(ED3[\"IsDuplicated\"]==True)]\n",
    "EDD"
   ]
  },
  {
   "cell_type": "code",
   "execution_count": 438,
   "id": "7261aa5d",
   "metadata": {},
   "outputs": [
    {
     "data": {
      "text/html": [
       "<div>\n",
       "<style scoped>\n",
       "    .dataframe tbody tr th:only-of-type {\n",
       "        vertical-align: middle;\n",
       "    }\n",
       "\n",
       "    .dataframe tbody tr th {\n",
       "        vertical-align: top;\n",
       "    }\n",
       "\n",
       "    .dataframe thead th {\n",
       "        text-align: right;\n",
       "    }\n",
       "</style>\n",
       "<table border=\"1\" class=\"dataframe\">\n",
       "  <thead>\n",
       "    <tr style=\"text-align: right;\">\n",
       "      <th></th>\n",
       "      <th>SequenceNo</th>\n",
       "      <th>OrgName</th>\n",
       "      <th>Date</th>\n",
       "      <th>DriverName</th>\n",
       "      <th>InvalidType</th>\n",
       "      <th>VehicleMake</th>\n",
       "      <th>VehicleYear</th>\n",
       "      <th>SerialNo</th>\n",
       "    </tr>\n",
       "    <tr>\n",
       "      <th>VIN</th>\n",
       "      <th></th>\n",
       "      <th></th>\n",
       "      <th></th>\n",
       "      <th></th>\n",
       "      <th></th>\n",
       "      <th></th>\n",
       "      <th></th>\n",
       "      <th></th>\n",
       "    </tr>\n",
       "  </thead>\n",
       "  <tbody>\n",
       "    <tr>\n",
       "      <th>1FUGGLD57ELFK4085</th>\n",
       "      <td>946</td>\n",
       "      <td>Bazik Trucking Inc</td>\n",
       "      <td>1122023</td>\n",
       "      <td>George Bazik</td>\n",
       "      <td>Mileage</td>\n",
       "      <td>Freightliner</td>\n",
       "      <td>2014</td>\n",
       "      <td>0</td>\n",
       "    </tr>\n",
       "    <tr>\n",
       "      <th>1FUGGLD57ELFK4085</th>\n",
       "      <td>1295</td>\n",
       "      <td>Bazik Trucking Inc</td>\n",
       "      <td>1162023</td>\n",
       "      <td>George Bazik</td>\n",
       "      <td>Mileage</td>\n",
       "      <td>Freightliner</td>\n",
       "      <td>2014</td>\n",
       "      <td>0</td>\n",
       "    </tr>\n",
       "    <tr>\n",
       "      <th>1FUGGLD57ELFK4085</th>\n",
       "      <td>1450</td>\n",
       "      <td>Bazik Trucking Inc</td>\n",
       "      <td>1182023</td>\n",
       "      <td>NaN</td>\n",
       "      <td>Mileage</td>\n",
       "      <td>Freightliner</td>\n",
       "      <td>2014</td>\n",
       "      <td>0</td>\n",
       "    </tr>\n",
       "    <tr>\n",
       "      <th>1FUJGLBG1GLGY3570</th>\n",
       "      <td>27</td>\n",
       "      <td>E in April Trucking Inc.</td>\n",
       "      <td>1012023</td>\n",
       "      <td>Fujiang Li</td>\n",
       "      <td>Mileage</td>\n",
       "      <td>Freightliner</td>\n",
       "      <td>2016</td>\n",
       "      <td>0</td>\n",
       "    </tr>\n",
       "    <tr>\n",
       "      <th>1FUJGLBG1GLGY8249</th>\n",
       "      <td>257</td>\n",
       "      <td>Suhao Transport Inc.</td>\n",
       "      <td>1042023</td>\n",
       "      <td>Shuhao Zhang</td>\n",
       "      <td>Mileage</td>\n",
       "      <td>Freightliner</td>\n",
       "      <td>2016</td>\n",
       "      <td>0</td>\n",
       "    </tr>\n",
       "    <tr>\n",
       "      <th>...</th>\n",
       "      <td>...</td>\n",
       "      <td>...</td>\n",
       "      <td>...</td>\n",
       "      <td>...</td>\n",
       "      <td>...</td>\n",
       "      <td>...</td>\n",
       "      <td>...</td>\n",
       "      <td>...</td>\n",
       "    </tr>\n",
       "    <tr>\n",
       "      <th>5KJJBHDR6GLHA8737</th>\n",
       "      <td>2251</td>\n",
       "      <td>TNS Express Inc.</td>\n",
       "      <td>1292023</td>\n",
       "      <td>Yan Wu</td>\n",
       "      <td>Mileage</td>\n",
       "      <td>Western Star</td>\n",
       "      <td>2016</td>\n",
       "      <td>211002604</td>\n",
       "    </tr>\n",
       "    <tr>\n",
       "      <th>5KJJBHDR6GLHA8737</th>\n",
       "      <td>2321</td>\n",
       "      <td>TNS Express Inc.</td>\n",
       "      <td>1302023</td>\n",
       "      <td>Yan Wu</td>\n",
       "      <td>Mileage</td>\n",
       "      <td>Western Star</td>\n",
       "      <td>2016</td>\n",
       "      <td>211002604</td>\n",
       "    </tr>\n",
       "    <tr>\n",
       "      <th>5KJJBHDR6GLHA8737</th>\n",
       "      <td>2377</td>\n",
       "      <td>TNS Express Inc.</td>\n",
       "      <td>1312023</td>\n",
       "      <td>Yan Wu</td>\n",
       "      <td>Mileage</td>\n",
       "      <td>Western Star</td>\n",
       "      <td>2016</td>\n",
       "      <td>211002604</td>\n",
       "    </tr>\n",
       "    <tr>\n",
       "      <th>2PCH33491HC713515</th>\n",
       "      <td>307</td>\n",
       "      <td>Sun Charter Inc</td>\n",
       "      <td>1052023</td>\n",
       "      <td>Gang Liu</td>\n",
       "      <td>Mileage/Hour</td>\n",
       "      <td>Prevost</td>\n",
       "      <td>2017</td>\n",
       "      <td>211002771</td>\n",
       "    </tr>\n",
       "    <tr>\n",
       "      <th>1FBAX2CM7HKA67208</th>\n",
       "      <td>1035</td>\n",
       "      <td>Z Tour LLC</td>\n",
       "      <td>1132023</td>\n",
       "      <td>Mingrui Liu</td>\n",
       "      <td>Mileage</td>\n",
       "      <td>Ford</td>\n",
       "      <td>2017</td>\n",
       "      <td>171100134</td>\n",
       "    </tr>\n",
       "  </tbody>\n",
       "</table>\n",
       "<p>2437 rows × 8 columns</p>\n",
       "</div>"
      ],
      "text/plain": [
       "                   SequenceNo                   OrgName     Date  \\\n",
       "VIN                                                                \n",
       "1FUGGLD57ELFK4085         946        Bazik Trucking Inc  1122023   \n",
       "1FUGGLD57ELFK4085        1295        Bazik Trucking Inc  1162023   \n",
       "1FUGGLD57ELFK4085        1450        Bazik Trucking Inc  1182023   \n",
       "1FUJGLBG1GLGY3570          27  E in April Trucking Inc.  1012023   \n",
       "1FUJGLBG1GLGY8249         257      Suhao Transport Inc.  1042023   \n",
       "...                       ...                       ...      ...   \n",
       "5KJJBHDR6GLHA8737        2251          TNS Express Inc.  1292023   \n",
       "5KJJBHDR6GLHA8737        2321          TNS Express Inc.  1302023   \n",
       "5KJJBHDR6GLHA8737        2377          TNS Express Inc.  1312023   \n",
       "2PCH33491HC713515         307           Sun Charter Inc  1052023   \n",
       "1FBAX2CM7HKA67208        1035                Z Tour LLC  1132023   \n",
       "\n",
       "                     DriverName   InvalidType   VehicleMake  VehicleYear  \\\n",
       "VIN                                                                        \n",
       "1FUGGLD57ELFK4085  George Bazik       Mileage  Freightliner         2014   \n",
       "1FUGGLD57ELFK4085  George Bazik       Mileage  Freightliner         2014   \n",
       "1FUGGLD57ELFK4085           NaN       Mileage  Freightliner         2014   \n",
       "1FUJGLBG1GLGY3570    Fujiang Li       Mileage  Freightliner         2016   \n",
       "1FUJGLBG1GLGY8249  Shuhao Zhang       Mileage  Freightliner         2016   \n",
       "...                         ...           ...           ...          ...   \n",
       "5KJJBHDR6GLHA8737        Yan Wu       Mileage  Western Star         2016   \n",
       "5KJJBHDR6GLHA8737        Yan Wu       Mileage  Western Star         2016   \n",
       "5KJJBHDR6GLHA8737        Yan Wu       Mileage  Western Star         2016   \n",
       "2PCH33491HC713515      Gang Liu  Mileage/Hour       Prevost         2017   \n",
       "1FBAX2CM7HKA67208   Mingrui Liu       Mileage          Ford         2017   \n",
       "\n",
       "                    SerialNo  \n",
       "VIN                           \n",
       "1FUGGLD57ELFK4085          0  \n",
       "1FUGGLD57ELFK4085          0  \n",
       "1FUGGLD57ELFK4085          0  \n",
       "1FUJGLBG1GLGY3570          0  \n",
       "1FUJGLBG1GLGY8249          0  \n",
       "...                      ...  \n",
       "5KJJBHDR6GLHA8737  211002604  \n",
       "5KJJBHDR6GLHA8737  211002604  \n",
       "5KJJBHDR6GLHA8737  211002604  \n",
       "2PCH33491HC713515  211002771  \n",
       "1FBAX2CM7HKA67208  171100134  \n",
       "\n",
       "[2437 rows x 8 columns]"
      ]
     },
     "execution_count": 438,
     "metadata": {},
     "output_type": "execute_result"
    }
   ],
   "source": [
    "EDKD = ED.set_index(\"VIN\")\n",
    "EDKD"
   ]
  },
  {
   "cell_type": "code",
   "execution_count": 439,
   "id": "bea8e9cb",
   "metadata": {},
   "outputs": [
    {
     "data": {
      "text/plain": [
       "array([False, False, False, ..., False, False, False])"
      ]
     },
     "execution_count": 439,
     "metadata": {},
     "output_type": "execute_result"
    }
   ],
   "source": [
    "ED.index.duplicated()"
   ]
  },
  {
   "cell_type": "code",
   "execution_count": 440,
   "id": "dbf7e5e0",
   "metadata": {},
   "outputs": [
    {
     "data": {
      "text/html": [
       "<div>\n",
       "<style scoped>\n",
       "    .dataframe tbody tr th:only-of-type {\n",
       "        vertical-align: middle;\n",
       "    }\n",
       "\n",
       "    .dataframe tbody tr th {\n",
       "        vertical-align: top;\n",
       "    }\n",
       "\n",
       "    .dataframe thead th {\n",
       "        text-align: right;\n",
       "    }\n",
       "</style>\n",
       "<table border=\"1\" class=\"dataframe\">\n",
       "  <thead>\n",
       "    <tr style=\"text-align: right;\">\n",
       "      <th></th>\n",
       "      <th>SequenceNo</th>\n",
       "      <th>OrgName</th>\n",
       "      <th>Date</th>\n",
       "      <th>DriverName</th>\n",
       "      <th>InvalidType</th>\n",
       "      <th>VehicleMake</th>\n",
       "      <th>VehicleYear</th>\n",
       "      <th>VIN</th>\n",
       "      <th>SerialNo</th>\n",
       "    </tr>\n",
       "  </thead>\n",
       "  <tbody>\n",
       "    <tr>\n",
       "      <th>2418</th>\n",
       "      <td>117</td>\n",
       "      <td>TNS Express Inc.</td>\n",
       "      <td>1032023</td>\n",
       "      <td>Yan Wu</td>\n",
       "      <td>Mileage</td>\n",
       "      <td>Western Star</td>\n",
       "      <td>2016</td>\n",
       "      <td>5KJJBHDR6GLHA8737</td>\n",
       "      <td>211002604</td>\n",
       "    </tr>\n",
       "    <tr>\n",
       "      <th>2419</th>\n",
       "      <td>177</td>\n",
       "      <td>TNS Express Inc.</td>\n",
       "      <td>1042023</td>\n",
       "      <td>Yan Wu</td>\n",
       "      <td>Mileage</td>\n",
       "      <td>Western Star</td>\n",
       "      <td>2016</td>\n",
       "      <td>5KJJBHDR6GLHA8737</td>\n",
       "      <td>211002604</td>\n",
       "    </tr>\n",
       "    <tr>\n",
       "      <th>2420</th>\n",
       "      <td>359</td>\n",
       "      <td>TNS Express Inc.</td>\n",
       "      <td>1062023</td>\n",
       "      <td>Yan Wu</td>\n",
       "      <td>Mileage</td>\n",
       "      <td>Western Star</td>\n",
       "      <td>2016</td>\n",
       "      <td>5KJJBHDR6GLHA8737</td>\n",
       "      <td>211002604</td>\n",
       "    </tr>\n",
       "    <tr>\n",
       "      <th>2421</th>\n",
       "      <td>437</td>\n",
       "      <td>TNS Express Inc.</td>\n",
       "      <td>1072023</td>\n",
       "      <td>Yan Wu</td>\n",
       "      <td>Mileage</td>\n",
       "      <td>Western Star</td>\n",
       "      <td>2016</td>\n",
       "      <td>5KJJBHDR6GLHA8737</td>\n",
       "      <td>211002604</td>\n",
       "    </tr>\n",
       "    <tr>\n",
       "      <th>2422</th>\n",
       "      <td>532</td>\n",
       "      <td>TNS Express Inc.</td>\n",
       "      <td>1082023</td>\n",
       "      <td>Yan Wu</td>\n",
       "      <td>Mileage</td>\n",
       "      <td>Western Star</td>\n",
       "      <td>2016</td>\n",
       "      <td>5KJJBHDR6GLHA8737</td>\n",
       "      <td>211002604</td>\n",
       "    </tr>\n",
       "    <tr>\n",
       "      <th>2423</th>\n",
       "      <td>800</td>\n",
       "      <td>TNS Express Inc.</td>\n",
       "      <td>1112023</td>\n",
       "      <td>Yan Wu</td>\n",
       "      <td>Mileage</td>\n",
       "      <td>Western Star</td>\n",
       "      <td>2016</td>\n",
       "      <td>5KJJBHDR6GLHA8737</td>\n",
       "      <td>211002604</td>\n",
       "    </tr>\n",
       "    <tr>\n",
       "      <th>2424</th>\n",
       "      <td>912</td>\n",
       "      <td>TNS Express Inc.</td>\n",
       "      <td>1122023</td>\n",
       "      <td>Yan Wu</td>\n",
       "      <td>Mileage</td>\n",
       "      <td>Western Star</td>\n",
       "      <td>2016</td>\n",
       "      <td>5KJJBHDR6GLHA8737</td>\n",
       "      <td>211002604</td>\n",
       "    </tr>\n",
       "    <tr>\n",
       "      <th>2425</th>\n",
       "      <td>1012</td>\n",
       "      <td>TNS Express Inc.</td>\n",
       "      <td>1132023</td>\n",
       "      <td>Yan Wu</td>\n",
       "      <td>Mileage</td>\n",
       "      <td>Western Star</td>\n",
       "      <td>2016</td>\n",
       "      <td>5KJJBHDR6GLHA8737</td>\n",
       "      <td>211002604</td>\n",
       "    </tr>\n",
       "    <tr>\n",
       "      <th>2426</th>\n",
       "      <td>1347</td>\n",
       "      <td>TNS Express Inc.</td>\n",
       "      <td>1172023</td>\n",
       "      <td>Yan Wu</td>\n",
       "      <td>Mileage</td>\n",
       "      <td>Western Star</td>\n",
       "      <td>2016</td>\n",
       "      <td>5KJJBHDR6GLHA8737</td>\n",
       "      <td>211002604</td>\n",
       "    </tr>\n",
       "    <tr>\n",
       "      <th>2427</th>\n",
       "      <td>1440</td>\n",
       "      <td>TNS Express Inc.</td>\n",
       "      <td>1182023</td>\n",
       "      <td>Yan Wu</td>\n",
       "      <td>Mileage</td>\n",
       "      <td>Western Star</td>\n",
       "      <td>2016</td>\n",
       "      <td>5KJJBHDR6GLHA8737</td>\n",
       "      <td>211002604</td>\n",
       "    </tr>\n",
       "    <tr>\n",
       "      <th>2428</th>\n",
       "      <td>1535</td>\n",
       "      <td>TNS Express Inc.</td>\n",
       "      <td>1192023</td>\n",
       "      <td>Yan Wu</td>\n",
       "      <td>Mileage</td>\n",
       "      <td>Western Star</td>\n",
       "      <td>2016</td>\n",
       "      <td>5KJJBHDR6GLHA8737</td>\n",
       "      <td>211002604</td>\n",
       "    </tr>\n",
       "    <tr>\n",
       "      <th>2429</th>\n",
       "      <td>1848</td>\n",
       "      <td>TNS Express Inc.</td>\n",
       "      <td>1242023</td>\n",
       "      <td>Yan Wu</td>\n",
       "      <td>Mileage</td>\n",
       "      <td>Western Star</td>\n",
       "      <td>2016</td>\n",
       "      <td>5KJJBHDR6GLHA8737</td>\n",
       "      <td>211002604</td>\n",
       "    </tr>\n",
       "    <tr>\n",
       "      <th>2430</th>\n",
       "      <td>1915</td>\n",
       "      <td>TNS Express Inc.</td>\n",
       "      <td>1252023</td>\n",
       "      <td>Yan Wu</td>\n",
       "      <td>Mileage</td>\n",
       "      <td>Western Star</td>\n",
       "      <td>2016</td>\n",
       "      <td>5KJJBHDR6GLHA8737</td>\n",
       "      <td>211002604</td>\n",
       "    </tr>\n",
       "    <tr>\n",
       "      <th>2431</th>\n",
       "      <td>2167</td>\n",
       "      <td>TNS Express Inc.</td>\n",
       "      <td>1282023</td>\n",
       "      <td>Yan Wu</td>\n",
       "      <td>Mileage</td>\n",
       "      <td>Western Star</td>\n",
       "      <td>2016</td>\n",
       "      <td>5KJJBHDR6GLHA8737</td>\n",
       "      <td>211002604</td>\n",
       "    </tr>\n",
       "    <tr>\n",
       "      <th>2432</th>\n",
       "      <td>2251</td>\n",
       "      <td>TNS Express Inc.</td>\n",
       "      <td>1292023</td>\n",
       "      <td>Yan Wu</td>\n",
       "      <td>Mileage</td>\n",
       "      <td>Western Star</td>\n",
       "      <td>2016</td>\n",
       "      <td>5KJJBHDR6GLHA8737</td>\n",
       "      <td>211002604</td>\n",
       "    </tr>\n",
       "    <tr>\n",
       "      <th>2433</th>\n",
       "      <td>2321</td>\n",
       "      <td>TNS Express Inc.</td>\n",
       "      <td>1302023</td>\n",
       "      <td>Yan Wu</td>\n",
       "      <td>Mileage</td>\n",
       "      <td>Western Star</td>\n",
       "      <td>2016</td>\n",
       "      <td>5KJJBHDR6GLHA8737</td>\n",
       "      <td>211002604</td>\n",
       "    </tr>\n",
       "    <tr>\n",
       "      <th>2434</th>\n",
       "      <td>2377</td>\n",
       "      <td>TNS Express Inc.</td>\n",
       "      <td>1312023</td>\n",
       "      <td>Yan Wu</td>\n",
       "      <td>Mileage</td>\n",
       "      <td>Western Star</td>\n",
       "      <td>2016</td>\n",
       "      <td>5KJJBHDR6GLHA8737</td>\n",
       "      <td>211002604</td>\n",
       "    </tr>\n",
       "  </tbody>\n",
       "</table>\n",
       "</div>"
      ],
      "text/plain": [
       "      SequenceNo           OrgName     Date DriverName InvalidType  \\\n",
       "2418         117  TNS Express Inc.  1032023     Yan Wu     Mileage   \n",
       "2419         177  TNS Express Inc.  1042023     Yan Wu     Mileage   \n",
       "2420         359  TNS Express Inc.  1062023     Yan Wu     Mileage   \n",
       "2421         437  TNS Express Inc.  1072023     Yan Wu     Mileage   \n",
       "2422         532  TNS Express Inc.  1082023     Yan Wu     Mileage   \n",
       "2423         800  TNS Express Inc.  1112023     Yan Wu     Mileage   \n",
       "2424         912  TNS Express Inc.  1122023     Yan Wu     Mileage   \n",
       "2425        1012  TNS Express Inc.  1132023     Yan Wu     Mileage   \n",
       "2426        1347  TNS Express Inc.  1172023     Yan Wu     Mileage   \n",
       "2427        1440  TNS Express Inc.  1182023     Yan Wu     Mileage   \n",
       "2428        1535  TNS Express Inc.  1192023     Yan Wu     Mileage   \n",
       "2429        1848  TNS Express Inc.  1242023     Yan Wu     Mileage   \n",
       "2430        1915  TNS Express Inc.  1252023     Yan Wu     Mileage   \n",
       "2431        2167  TNS Express Inc.  1282023     Yan Wu     Mileage   \n",
       "2432        2251  TNS Express Inc.  1292023     Yan Wu     Mileage   \n",
       "2433        2321  TNS Express Inc.  1302023     Yan Wu     Mileage   \n",
       "2434        2377  TNS Express Inc.  1312023     Yan Wu     Mileage   \n",
       "\n",
       "       VehicleMake  VehicleYear                VIN   SerialNo  \n",
       "2418  Western Star         2016  5KJJBHDR6GLHA8737  211002604  \n",
       "2419  Western Star         2016  5KJJBHDR6GLHA8737  211002604  \n",
       "2420  Western Star         2016  5KJJBHDR6GLHA8737  211002604  \n",
       "2421  Western Star         2016  5KJJBHDR6GLHA8737  211002604  \n",
       "2422  Western Star         2016  5KJJBHDR6GLHA8737  211002604  \n",
       "2423  Western Star         2016  5KJJBHDR6GLHA8737  211002604  \n",
       "2424  Western Star         2016  5KJJBHDR6GLHA8737  211002604  \n",
       "2425  Western Star         2016  5KJJBHDR6GLHA8737  211002604  \n",
       "2426  Western Star         2016  5KJJBHDR6GLHA8737  211002604  \n",
       "2427  Western Star         2016  5KJJBHDR6GLHA8737  211002604  \n",
       "2428  Western Star         2016  5KJJBHDR6GLHA8737  211002604  \n",
       "2429  Western Star         2016  5KJJBHDR6GLHA8737  211002604  \n",
       "2430  Western Star         2016  5KJJBHDR6GLHA8737  211002604  \n",
       "2431  Western Star         2016  5KJJBHDR6GLHA8737  211002604  \n",
       "2432  Western Star         2016  5KJJBHDR6GLHA8737  211002604  \n",
       "2433  Western Star         2016  5KJJBHDR6GLHA8737  211002604  \n",
       "2434  Western Star         2016  5KJJBHDR6GLHA8737  211002604  "
      ]
     },
     "execution_count": 440,
     "metadata": {},
     "output_type": "execute_result"
    }
   ],
   "source": [
    "ED.loc[ED['VIN'] == \"5KJJBHDR6GLHA8737\"]"
   ]
  },
  {
   "cell_type": "code",
   "execution_count": 441,
   "id": "cdbbbde3",
   "metadata": {},
   "outputs": [
    {
     "data": {
      "text/html": [
       "<div>\n",
       "<style scoped>\n",
       "    .dataframe tbody tr th:only-of-type {\n",
       "        vertical-align: middle;\n",
       "    }\n",
       "\n",
       "    .dataframe tbody tr th {\n",
       "        vertical-align: top;\n",
       "    }\n",
       "\n",
       "    .dataframe thead th {\n",
       "        text-align: right;\n",
       "    }\n",
       "</style>\n",
       "<table border=\"1\" class=\"dataframe\">\n",
       "  <thead>\n",
       "    <tr style=\"text-align: right;\">\n",
       "      <th></th>\n",
       "      <th>SequenceNo</th>\n",
       "      <th>OrgName</th>\n",
       "      <th>Date</th>\n",
       "      <th>DriverName</th>\n",
       "      <th>InvalidType</th>\n",
       "      <th>VehicleMake</th>\n",
       "      <th>VehicleYear</th>\n",
       "      <th>VIN</th>\n",
       "      <th>SerialNo</th>\n",
       "    </tr>\n",
       "  </thead>\n",
       "  <tbody>\n",
       "    <tr>\n",
       "      <th>2330</th>\n",
       "      <td>96</td>\n",
       "      <td>J &amp; L Flourish Express Inc.</td>\n",
       "      <td>1022023</td>\n",
       "      <td>Tiefei Song</td>\n",
       "      <td>Mileage</td>\n",
       "      <td>Volvo</td>\n",
       "      <td>2023</td>\n",
       "      <td>4V4NC9EJ0PN611764</td>\n",
       "      <td>0</td>\n",
       "    </tr>\n",
       "    <tr>\n",
       "      <th>2331</th>\n",
       "      <td>541</td>\n",
       "      <td>J &amp; L Flourish Express Inc.</td>\n",
       "      <td>1082023</td>\n",
       "      <td>Tiefei Song</td>\n",
       "      <td>Mileage</td>\n",
       "      <td>Volvo</td>\n",
       "      <td>2023</td>\n",
       "      <td>4V4NC9EJ0PN611764</td>\n",
       "      <td>0</td>\n",
       "    </tr>\n",
       "    <tr>\n",
       "      <th>2332</th>\n",
       "      <td>713</td>\n",
       "      <td>J &amp; L Flourish Express Inc.</td>\n",
       "      <td>1102023</td>\n",
       "      <td>Tiefei Song</td>\n",
       "      <td>Mileage</td>\n",
       "      <td>Volvo</td>\n",
       "      <td>2023</td>\n",
       "      <td>4V4NC9EJ0PN611764</td>\n",
       "      <td>0</td>\n",
       "    </tr>\n",
       "    <tr>\n",
       "      <th>2333</th>\n",
       "      <td>969</td>\n",
       "      <td>J &amp; L Flourish Express Inc.</td>\n",
       "      <td>1122023</td>\n",
       "      <td>Tiefei Song</td>\n",
       "      <td>Mileage</td>\n",
       "      <td>Volvo</td>\n",
       "      <td>2023</td>\n",
       "      <td>4V4NC9EJ0PN611764</td>\n",
       "      <td>0</td>\n",
       "    </tr>\n",
       "    <tr>\n",
       "      <th>2334</th>\n",
       "      <td>1509</td>\n",
       "      <td>J &amp; L Flourish Express Inc.</td>\n",
       "      <td>1182023</td>\n",
       "      <td>Tiefei Song</td>\n",
       "      <td>Mileage</td>\n",
       "      <td>Volvo</td>\n",
       "      <td>2023</td>\n",
       "      <td>4V4NC9EJ0PN611764</td>\n",
       "      <td>0</td>\n",
       "    </tr>\n",
       "    <tr>\n",
       "      <th>2335</th>\n",
       "      <td>1768</td>\n",
       "      <td>J &amp; L Flourish Express Inc.</td>\n",
       "      <td>1222023</td>\n",
       "      <td>Tiefei Song</td>\n",
       "      <td>Mileage/Hour</td>\n",
       "      <td>Volvo</td>\n",
       "      <td>2023</td>\n",
       "      <td>4V4NC9EJ0PN611764</td>\n",
       "      <td>0</td>\n",
       "    </tr>\n",
       "    <tr>\n",
       "      <th>2336</th>\n",
       "      <td>1815</td>\n",
       "      <td>J &amp; L Flourish Express Inc.</td>\n",
       "      <td>1232023</td>\n",
       "      <td>Tiefei Song</td>\n",
       "      <td>Mileage</td>\n",
       "      <td>Volvo</td>\n",
       "      <td>2023</td>\n",
       "      <td>4V4NC9EJ0PN611764</td>\n",
       "      <td>0</td>\n",
       "    </tr>\n",
       "  </tbody>\n",
       "</table>\n",
       "</div>"
      ],
      "text/plain": [
       "      SequenceNo                      OrgName     Date   DriverName  \\\n",
       "2330          96  J & L Flourish Express Inc.  1022023  Tiefei Song   \n",
       "2331         541  J & L Flourish Express Inc.  1082023  Tiefei Song   \n",
       "2332         713  J & L Flourish Express Inc.  1102023  Tiefei Song   \n",
       "2333         969  J & L Flourish Express Inc.  1122023  Tiefei Song   \n",
       "2334        1509  J & L Flourish Express Inc.  1182023  Tiefei Song   \n",
       "2335        1768  J & L Flourish Express Inc.  1222023  Tiefei Song   \n",
       "2336        1815  J & L Flourish Express Inc.  1232023  Tiefei Song   \n",
       "\n",
       "       InvalidType VehicleMake  VehicleYear                VIN  SerialNo  \n",
       "2330       Mileage       Volvo         2023  4V4NC9EJ0PN611764         0  \n",
       "2331       Mileage       Volvo         2023  4V4NC9EJ0PN611764         0  \n",
       "2332       Mileage       Volvo         2023  4V4NC9EJ0PN611764         0  \n",
       "2333       Mileage       Volvo         2023  4V4NC9EJ0PN611764         0  \n",
       "2334       Mileage       Volvo         2023  4V4NC9EJ0PN611764         0  \n",
       "2335  Mileage/Hour       Volvo         2023  4V4NC9EJ0PN611764         0  \n",
       "2336       Mileage       Volvo         2023  4V4NC9EJ0PN611764         0  "
      ]
     },
     "execution_count": 441,
     "metadata": {},
     "output_type": "execute_result"
    }
   ],
   "source": [
    "ED.loc[ED['VIN'] == \"4V4NC9EJ0PN611764\"]"
   ]
  },
  {
   "cell_type": "code",
   "execution_count": null,
   "id": "1e75b6d8",
   "metadata": {},
   "outputs": [],
   "source": []
  }
 ],
 "metadata": {
  "kernelspec": {
   "display_name": "Python 3 (ipykernel)",
   "language": "python",
   "name": "python3"
  },
  "language_info": {
   "codemirror_mode": {
    "name": "ipython",
    "version": 3
   },
   "file_extension": ".py",
   "mimetype": "text/x-python",
   "name": "python",
   "nbconvert_exporter": "python",
   "pygments_lexer": "ipython3",
   "version": "3.9.13"
  }
 },
 "nbformat": 4,
 "nbformat_minor": 5
}
